{
  "cells": [
    {
      "cell_type": "markdown",
      "id": "1f32dd86-1670-4327-bfe9-9d99b93a5d9c",
      "metadata": {
        "id": "1f32dd86-1670-4327-bfe9-9d99b93a5d9c"
      },
      "source": [
        "**AIVLE School 미니프로젝트**\n",
        "### **네비게이션 주행데이터를 이용한 <span style=\"color:darkgreen\">도착시각</span> 예측 문제**\n",
        "---"
      ]
    },
    {
      "cell_type": "markdown",
      "id": "d2341ad0-ca25-4cd0-8a66-63ba196797cb",
      "metadata": {
        "id": "d2341ad0-ca25-4cd0-8a66-63ba196797cb"
      },
      "source": [
        "<br>"
      ]
    },
    {
      "cell_type": "markdown",
      "id": "1951fedb-3724-418c-8de8-ac69b120d310",
      "metadata": {
        "id": "1951fedb-3724-418c-8de8-ac69b120d310"
      },
      "source": [
        "#### **<span style=\"color:red\">[미션 안내]</span>**\n",
        "* 네비게이션 주행데이터를 읽어들여 데이터를 분석 및 전처리한 후 머신러닝과 딥러닝으로 도착시각을 예측하고 결과를 분석하세요."
      ]
    },
    {
      "cell_type": "markdown",
      "id": "07c798aa-1b49-4dae-af82-dd853b9e7886",
      "metadata": {
        "id": "07c798aa-1b49-4dae-af82-dd853b9e7886"
      },
      "source": [
        "#### **<span style=\"color:red\">[유의 사항]</span>**\n",
        "* 각 문항의 답안코드는 반드시 '#여기에 답안코드를 작성하세요'로 표시된 cell에 작성해야 합니다.\n",
        "* 제공된 cell을 추가/삭제하고 다른 cell에 답안코드를 작성 시 채점되지 않습니다.\n",
        "* 반드시 문제에 제시된 가이드를 읽고 답안 작성하세요.\n",
        "* 문제에 변수명이 제시된 경우 반드시 해당 변수명을 사용하세요.\n",
        "* 문제와 데이터는 제3자에게 공유하거나 개인적인 용도로 사용하는 등 외부로 유출할 수 없으며 유출로 인한 책임은 응시자 본인에게 있습니다."
      ]
    },
    {
      "cell_type": "markdown",
      "id": "f2e1c59a-e306-45f5-90d0-252e63994de8",
      "metadata": {
        "id": "f2e1c59a-e306-45f5-90d0-252e63994de8"
      },
      "source": [
        "<br>"
      ]
    },
    {
      "cell_type": "markdown",
      "id": "cb429a27-f439-4323-a69f-aa554cebeb5f",
      "metadata": {
        "id": "cb429a27-f439-4323-a69f-aa554cebeb5f"
      },
      "source": [
        "### 1. scikit-learn 패키지는 머신러닝 교육을 위한 최고의 파이썬 패키지입니다.\n",
        "### scikit-learn를 별칭(alias) sk로 임포트하는 코드를 작성하고 실행하세요."
      ]
    },
    {
      "cell_type": "code",
      "execution_count": null,
      "id": "78bfda52-7125-4bf4-99cc-a49888f3557b",
      "metadata": {
        "id": "78bfda52-7125-4bf4-99cc-a49888f3557b"
      },
      "outputs": [],
      "source": [
        "# 여기에 답안코드를 작성하세요.\n",
        "import sklearn as sk"
      ]
    },
    {
      "cell_type": "markdown",
      "id": "7d66e4d1-6a30-484d-920e-772b815f50c7",
      "metadata": {
        "id": "7d66e4d1-6a30-484d-920e-772b815f50c7"
      },
      "source": [
        "<br>"
      ]
    },
    {
      "cell_type": "markdown",
      "id": "d792db90-2273-4eef-a0f2-3cb37d2edf7c",
      "metadata": {
        "id": "d792db90-2273-4eef-a0f2-3cb37d2edf7c"
      },
      "source": [
        "### 2. Pandas는 데이터 분석을 위해 널리 사용되는 파이썬 라이브러리입니다.\n",
        "### Pandas를 사용할 수 있도록 별칭(alias)을 pd로 해서 불러오세요."
      ]
    },
    {
      "cell_type": "code",
      "execution_count": null,
      "id": "771f7972-0473-4db8-8797-95ddc19017fc",
      "metadata": {
        "id": "771f7972-0473-4db8-8797-95ddc19017fc"
      },
      "outputs": [],
      "source": [
        "# 여기에 답안코드를 작성하세요.\n",
        "import pandas as pd"
      ]
    },
    {
      "cell_type": "markdown",
      "id": "326a5dea-8170-4655-a4c6-ed1d3e4a1718",
      "metadata": {
        "id": "326a5dea-8170-4655-a4c6-ed1d3e4a1718"
      },
      "source": [
        "<br>"
      ]
    },
    {
      "cell_type": "markdown",
      "id": "55ced9e0-391e-4169-acd5-2165cd5b3ee0",
      "metadata": {
        "id": "55ced9e0-391e-4169-acd5-2165cd5b3ee0"
      },
      "source": [
        "### 3. 모델링을 위해 분석 및 처리할 데이터 파일을 읽어오려고 합니다.\n",
        "### Pandas함수로 데이터 파일을 읽어 데이터프레임 변수명 df에 할당하는 코드를 작성하세요.\n",
        "* A0007IT.json 파일을 읽어 데이터 프레임 변수명 df에 할당하세요.\n",
        "* Encoding = \"cp949\"로 지정하세요."
      ]
    },
    {
      "cell_type": "code",
      "execution_count": null,
      "id": "dbc291ca-4629-4beb-be81-1633aa8e62b2",
      "metadata": {
        "id": "dbc291ca-4629-4beb-be81-1633aa8e62b2"
      },
      "outputs": [],
      "source": [
        "# 여기에 답안코드를 작성하세요.\n",
        "import json\n",
        "with open('A0007IT.json', encoding='cp949') as f:\n",
        "    js = json.loads(f.read())\n",
        "df = pd.DataFrame(js)"
      ]
    },
    {
      "cell_type": "markdown",
      "id": "6a34284c-1724-4326-8079-b823f1e9b08b",
      "metadata": {
        "id": "6a34284c-1724-4326-8079-b823f1e9b08b"
      },
      "source": [
        "<br>"
      ]
    },
    {
      "cell_type": "markdown",
      "id": "a1c7f855-339a-4600-a87d-64a5525edcc8",
      "metadata": {
        "id": "a1c7f855-339a-4600-a87d-64a5525edcc8"
      },
      "source": [
        "### 4. Address1(주소1)에 대한 분포도를 알아 보려고 합니다.\n",
        "### Address1(주소1)에 대해 countplot그래프로 만들고 아래 가이드에 따라 답하세요.\n",
        "* Seaborn을 활용하세요.\n",
        "* 첫번째, Address1(주소1)에 대해서 분포를 보여주는 countplot그래프 그리세요.\n",
        "* 두번째, 지역명이 없는 '-'에 해당되는 row(행)을 삭제하세요."
      ]
    },
    {
      "cell_type": "code",
      "execution_count": null,
      "id": "966ffc98",
      "metadata": {
        "id": "966ffc98"
      },
      "outputs": [],
      "source": [
        "# 한글 글씨체 깨짐\n",
        "import matplotlib.pyplot as plt\n",
        "plt.rcParams['font.family'] ='Malgun Gothic'\n",
        "plt.rcParams['axes.unicode_minus'] =False"
      ]
    },
    {
      "cell_type": "code",
      "execution_count": null,
      "id": "865d5d47-ce7e-4536-828f-b9d5ab804780",
      "metadata": {
        "tags": [],
        "id": "865d5d47-ce7e-4536-828f-b9d5ab804780",
        "outputId": "7e76333b-19c8-4d02-f836-c2d9052b9a94"
      },
      "outputs": [
        {
          "data": {
            "text/plain": [
              "<AxesSubplot:xlabel='Address1', ylabel='count'>"
            ]
          },
          "execution_count": 19,
          "metadata": {},
          "output_type": "execute_result"
        },
        {
          "data": {
            "image/png": "[encoded data removed]",
            "text/plain": [
              "<Figure size 432x288 with 1 Axes>"
            ]
          },
          "metadata": {
            "needs_background": "light"
          },
          "output_type": "display_data"
        }
      ],
      "source": [
        "# 여기에 답안코드를 작성하세요.\n",
        "import seaborn as sns\n",
        "sns.countplot(x='Address1', data=df)"
      ]
    },
    {
      "cell_type": "code",
      "execution_count": null,
      "id": "e59faf58",
      "metadata": {
        "id": "e59faf58"
      },
      "outputs": [],
      "source": [
        "drop_idx = df[df['Address1']==\"-\"].index\n",
        "df.drop(drop_idx, inplace=True)"
      ]
    },
    {
      "cell_type": "markdown",
      "id": "594967e8-9231-4671-a88e-7b54898ffa4e",
      "metadata": {
        "id": "594967e8-9231-4671-a88e-7b54898ffa4e"
      },
      "source": [
        "<br>"
      ]
    },
    {
      "cell_type": "markdown",
      "id": "ff6b633c-fbb2-40d1-982e-5e57daac66cc",
      "metadata": {
        "id": "ff6b633c-fbb2-40d1-982e-5e57daac66cc"
      },
      "source": [
        "### 5. 실주행시간과 평균시속의 분포를 같이 확인하려고 합니다.\n",
        "### Time_Driving(실주행시간)과 Speed_Per_Hour(평균시속)을 jointplot 그래프로 만드세요.\n",
        "* Seaborn을 활용하세요.\n",
        "* X축에는 Time_Driving(실주행시간)을 표시하고 Y축에는 Speed_Per_Hour(평균시속)을 표시하세요."
      ]
    },
    {
      "cell_type": "code",
      "execution_count": null,
      "id": "23c0e7e5-c4e7-42e8-9258-2bd3fb7a1551",
      "metadata": {
        "id": "23c0e7e5-c4e7-42e8-9258-2bd3fb7a1551",
        "outputId": "b43dc681-ca31-4b39-f9be-333304c2fdb0"
      },
      "outputs": [
        {
          "data": {
            "text/plain": [
              "<seaborn.axisgrid.JointGrid at 0x21f72e33ba8>"
            ]
          },
          "execution_count": 30,
          "metadata": {},
          "output_type": "execute_result"
        },
        {
          "data": {
            "image/png": "[encoded data removed]",
            "text/plain": [
              "<Figure size 432x432 with 3 Axes>"
            ]
          },
          "metadata": {
            "needs_background": "light"
          },
          "output_type": "display_data"
        }
      ],
      "source": [
        "# 여기에 답안코드를 작성하세요.\n",
        "sns.jointplot(x=df['Time_Driving'], y=df['Speed_Per_Hour'], kind='scatter')"
      ]
    },
    {
      "cell_type": "markdown",
      "id": "7c3d46d9-2a4a-49ce-ace2-b007933c2a53",
      "metadata": {
        "id": "7c3d46d9-2a4a-49ce-ace2-b007933c2a53"
      },
      "source": [
        "<br>"
      ]
    },
    {
      "cell_type": "markdown",
      "id": "c7ba7823-db7b-409c-91a2-13519680b52c",
      "metadata": {
        "id": "c7ba7823-db7b-409c-91a2-13519680b52c"
      },
      "source": [
        "### 6. 위의 jointplot 그래프에서 시속 300이 넘는 이상치를 발견할 수 있습니다.\n",
        "### jointplot 그래프에서 발견한 이상치 1개를 삭제하세요.\n",
        "* 대상 데이터프레임: df\n",
        "* jointplot 그래프를 보고 시속 300 이상되는 이상치를 찾아 해당 행(Row)을 삭제하세요.\n",
        "* 전처리 반영 후에 새로운 데이터프레임 변수명 df_temp에 저장하세요."
      ]
    },
    {
      "cell_type": "code",
      "execution_count": null,
      "id": "414a676e-0392-4e52-a8fa-bc4dd71482b8",
      "metadata": {
        "id": "414a676e-0392-4e52-a8fa-bc4dd71482b8"
      },
      "outputs": [],
      "source": [
        "# 여기에 답안코드를 작성하세요.\n",
        "drop_idx = df.loc[ df['Speed_Per_Hour'] >= 300 ].index # 이상치제거\n",
        "df_temp = df.drop(drop_idx)"
      ]
    },
    {
      "cell_type": "markdown",
      "id": "43d2735b-8ba6-44c9-9e08-6c53002f1b46",
      "metadata": {
        "id": "43d2735b-8ba6-44c9-9e08-6c53002f1b46"
      },
      "source": [
        "<br>"
      ]
    },
    {
      "cell_type": "markdown",
      "id": "f086ac8c-cef8-4944-a518-81fc042b1444",
      "metadata": {
        "id": "f086ac8c-cef8-4944-a518-81fc042b1444"
      },
      "source": [
        "### 7. 모델링 성능을 제대로 얻기 위해서 결측치 처리는 필수입니다.\n",
        "### 아래 가이드를 따라 결측치 처리하세요.\n",
        "* 대상 데이터프레임: df_temp\n",
        "* 결측치를 확인하는 코드를 작성하세요.\n",
        "* 결측치가 있는 행(raw)를 삭제 하세요.\n",
        "* 전처리 반영된 결과를 새로운 데이터프레임 변수명 df_na에 저장하세요."
      ]
    },
    {
      "cell_type": "code",
      "execution_count": null,
      "id": "ccc8da5a-221a-4c13-ab4e-792264ea48a8",
      "metadata": {
        "id": "ccc8da5a-221a-4c13-ab4e-792264ea48a8",
        "outputId": "4d21d86f-9d42-465a-96be-08b8ed9f52ae"
      },
      "outputs": [
        {
          "data": {
            "text/plain": [
              "Time_Departure    0\n",
              "Time_Arrival      0\n",
              "Distance          2\n",
              "Time_Driving      3\n",
              "Speed_Per_Hour    5\n",
              "Address1          0\n",
              "Address2          0\n",
              "Signaltype        0\n",
              "Weekday           0\n",
              "Hour              0\n",
              "Day               0\n",
              "dtype: int64"
            ]
          },
          "execution_count": 36,
          "metadata": {},
          "output_type": "execute_result"
        }
      ],
      "source": [
        "# 여기에 답안코드를 작성하세요.\n",
        "df_temp.isnull().sum()"
      ]
    },
    {
      "cell_type": "code",
      "execution_count": null,
      "id": "01e8c764",
      "metadata": {
        "id": "01e8c764"
      },
      "outputs": [],
      "source": [
        "df_na = df_temp.dropna(axis=0)"
      ]
    },
    {
      "cell_type": "markdown",
      "id": "46c64f89-a3ee-45d7-94f4-5ede4c6d6e92",
      "metadata": {
        "id": "46c64f89-a3ee-45d7-94f4-5ede4c6d6e92"
      },
      "source": [
        "<br>"
      ]
    },
    {
      "cell_type": "markdown",
      "id": "590a5dfe-8ebf-4fdc-9c6b-f3b03fc57890",
      "metadata": {
        "id": "590a5dfe-8ebf-4fdc-9c6b-f3b03fc57890"
      },
      "source": [
        "### 8. 모델링 성능을 제대로 얻기 위해서 불필요한 변수는 삭제해야 합니다.\n",
        "### 아래 가이드를 따라 불필요 데이터를 삭제 처리하세요.\n",
        "* 대상 데이터프레임: df_na\n",
        "* 'Time_Departure', 'Time_Arrival' 2개 컬럼을 삭제하세요.\n",
        "* 전처리 반영된 결과를 새로운 데이터프레임 변수명 df_del에 저장하세요."
      ]
    },
    {
      "cell_type": "code",
      "execution_count": null,
      "id": "7573f7e1-eeb9-436b-8fb4-af7ba4872782",
      "metadata": {
        "id": "7573f7e1-eeb9-436b-8fb4-af7ba4872782"
      },
      "outputs": [],
      "source": [
        "# 여기에 답안코드를 작성하세요.\n",
        "drop_col = ['Time_Departure', 'Time_Arrival']\n",
        "df_del = df_na.drop(drop_col, axis=1)"
      ]
    },
    {
      "cell_type": "markdown",
      "id": "9db815d3-4725-42e4-a34d-a693ef160dc4",
      "metadata": {
        "id": "9db815d3-4725-42e4-a34d-a693ef160dc4"
      },
      "source": [
        "<br>"
      ]
    },
    {
      "cell_type": "markdown",
      "id": "2364a91e-b4d4-4471-8171-82cd7a87cb25",
      "metadata": {
        "id": "2364a91e-b4d4-4471-8171-82cd7a87cb25"
      },
      "source": [
        "### 9. 원-핫 인코딩(One-hot encoding)은 범주형 변수를 1과 0의 이진형 벡터로 변환하기 위하여 사용하는 방법입니다.\n",
        "### 원-핫 인코딩으로 아래 조건에 해당하는 컬럼 데이터를 변환하세요.\n",
        "* 대상 데이터프레임: df_del\n",
        "* 원-핫 인코딩 대상: object 타입의 전체 컬럼\n",
        "* 활용 함수: pandas의 get_dummies\n",
        "* 해당 전처리가 반영된 결과를 데이터프레임 변수 df_preset에 저장해 주세요."
      ]
    },
    {
      "cell_type": "code",
      "execution_count": null,
      "id": "abbad879-2bf9-4177-837a-0dcca9adcd43",
      "metadata": {
        "id": "abbad879-2bf9-4177-837a-0dcca9adcd43"
      },
      "outputs": [],
      "source": [
        "# 여기에 답안코드를 작성하세요.\n",
        "object_cols = df_del.select_dtypes(include='object').columns\n",
        "df_preset = pd.get_dummies(df_del, columns=object_cols, drop_first=True, dtype=int)"
      ]
    },
    {
      "cell_type": "markdown",
      "id": "4266bd53-b060-4355-b473-c051cbbc908e",
      "metadata": {
        "id": "4266bd53-b060-4355-b473-c051cbbc908e"
      },
      "source": [
        "<br>"
      ]
    },
    {
      "cell_type": "markdown",
      "id": "6b01b0e7-30e3-4a64-8e6a-1e45507a8262",
      "metadata": {
        "id": "6b01b0e7-30e3-4a64-8e6a-1e45507a8262"
      },
      "source": [
        "### 10. 훈련과 검증 각각에 사용할 데이터셋을 분리하려고 합니다.\n",
        "### Time_Driving(실주행시간) 컬럼을 label값 y로, 나머지 컬럼을 feature값 X로 할당한 후 훈련데이터셋과 검증데이터셋으로 분리하세요.\n",
        "* 대상 데이터프레임: df_preset\n",
        "* 훈련 데이터셋 label: y_train, 훈련 데이터셋 Feature: X_train\n",
        "* 검증 데이터셋 label: y_valid, 검증 데이터셋 Feature: X_valid\n",
        "* 훈련 데이터셋과 검증데이터셋 비율은 80:20\n",
        "* random_state: 42\n",
        "* Scikit-learn의 train_test_split 함수를 활용하세요."
      ]
    },
    {
      "cell_type": "code",
      "execution_count": null,
      "id": "da848455-7b93-47fd-8ac4-d844b2a4e7be",
      "metadata": {
        "tags": [],
        "id": "da848455-7b93-47fd-8ac4-d844b2a4e7be"
      },
      "outputs": [],
      "source": [
        "# 여기에 답안코드를 작성하세요.\n",
        "target = 'Time_Driving'\n",
        "\n",
        "x = df_preset.drop(target, axis=1)\n",
        "y = df_preset.loc[:, target]"
      ]
    },
    {
      "cell_type": "code",
      "execution_count": null,
      "id": "9b0fcdff",
      "metadata": {
        "id": "9b0fcdff"
      },
      "outputs": [],
      "source": [
        "from sklearn.model_selection import train_test_split\n",
        "\n",
        "X_train, X_valid, y_train, y_valid = train_test_split(x, y,\n",
        "                                                    test_size = 0.2,\n",
        "                                                    random_state = 42)"
      ]
    },
    {
      "cell_type": "markdown",
      "id": "a0f356a6-f40f-45e2-a559-d5d04e75ea3f",
      "metadata": {
        "id": "a0f356a6-f40f-45e2-a559-d5d04e75ea3f"
      },
      "source": [
        "<br>"
      ]
    },
    {
      "cell_type": "markdown",
      "id": "8fb3c92a-4027-4076-bdb0-6f3bda7da917",
      "metadata": {
        "id": "8fb3c92a-4027-4076-bdb0-6f3bda7da917"
      },
      "source": [
        "### 11. Time_Driving(실주행시간)을 예측하는 머신러닝 모델을 만들려고 합니다.\n",
        "### 의사결정나무(decision tree)는 여러 가지 규칙을 순차적으로 적용하면서 독립 변수 공간을 분할하는 모형으로\n",
        "### 분류(classification)와 회귀 분석(regression)에 모두 사용될 수 있습니다.\n",
        "### 의사결정나무(decision tree)로 학습을 진행하세요.\n",
        "* 트리의 최대 깊이: 5로 설정\n",
        "* 노드를 분할하기 위한 최소한의 샘플 데이터수(min_samples_split): 3로 설정\n",
        "* random_state: 120로 설정"
      ]
    },
    {
      "cell_type": "code",
      "execution_count": null,
      "id": "8901a3f2-3839-4831-afeb-fd2877eef954",
      "metadata": {
        "id": "8901a3f2-3839-4831-afeb-fd2877eef954",
        "outputId": "a798c577-49f5-4821-9683-57b02d365d1a"
      },
      "outputs": [
        {
          "data": {
            "text/plain": [
              "DecisionTreeRegressor(max_depth=5, min_samples_split=3, random_state=120)"
            ]
          },
          "execution_count": 52,
          "metadata": {},
          "output_type": "execute_result"
        }
      ],
      "source": [
        "# 여기에 답안코드를 작성하세요.\n",
        "from sklearn.tree import DecisionTreeRegressor\n",
        "model = DecisionTreeRegressor(max_depth = 5,\n",
        "                                  min_samples_split = 3,\n",
        "                                  random_state = 120)\n",
        "model.fit(X_train, y_train)"
      ]
    },
    {
      "cell_type": "markdown",
      "id": "c42fb023-9864-4471-8a45-44fdbfd35e93",
      "metadata": {
        "id": "c42fb023-9864-4471-8a45-44fdbfd35e93"
      },
      "source": [
        "<br>"
      ]
    },
    {
      "cell_type": "markdown",
      "id": "1ccbcefa-d9b4-454f-b82a-f755d5f16283",
      "metadata": {
        "id": "1ccbcefa-d9b4-454f-b82a-f755d5f16283"
      },
      "source": [
        "### 12. 위 의사결정나무(decision tree) 모델의 성능을 평가하려고 합니다.\n",
        "### 예측 결과의 mae(Mean Absolute Error)를 구하세요.\n",
        "* 성능 평가는 검증 데이터셋을 활용하세요.\n",
        "* 11번 문제에서 만든 의사결정나무(decision tree) 모델로 y값을 예측(predict)하여 y_pred에 저장하세요.\n",
        "* 검증 정답(y_valid)과 예측값(y_pred)의 mae(Mean Absolute Error)를 구하고 dt_mae 변수에 저장하세요."
      ]
    },
    {
      "cell_type": "code",
      "execution_count": null,
      "id": "8a8b9d20-a680-4000-9b3a-aadfe5d6cb02",
      "metadata": {
        "id": "8a8b9d20-a680-4000-9b3a-aadfe5d6cb02"
      },
      "outputs": [],
      "source": [
        "# 여기에 답안코드를 작성하세요.\n",
        "from sklearn.metrics import *\n",
        "y_pred = model.predict(X_valid)\n",
        "dt_mae = mean_absolute_error(y_valid, y_pred)"
      ]
    },
    {
      "cell_type": "code",
      "execution_count": null,
      "id": "43f5f7f7",
      "metadata": {
        "id": "43f5f7f7",
        "outputId": "4f6b6019-ec77-4a49-e10f-8f374dc9d77b"
      },
      "outputs": [
        {
          "data": {
            "text/plain": [
              "113.87838566407876"
            ]
          },
          "execution_count": 62,
          "metadata": {},
          "output_type": "execute_result"
        }
      ],
      "source": [
        "dt_mae"
      ]
    },
    {
      "cell_type": "markdown",
      "id": "ca8e3bcd-70a1-41fe-b050-2a7b3d97280b",
      "metadata": {
        "tags": [],
        "id": "ca8e3bcd-70a1-41fe-b050-2a7b3d97280b"
      },
      "source": [
        "<br>"
      ]
    },
    {
      "cell_type": "markdown",
      "id": "9d72df85-cb80-4f1b-a4db-01ea5b4ec30d",
      "metadata": {
        "id": "9d72df85-cb80-4f1b-a4db-01ea5b4ec30d"
      },
      "source": [
        "##### **<span style=\"color:red\">다음 문항을 풀기 전에</span> 아래 코드를 실행하세요.**"
      ]
    },
    {
      "cell_type": "code",
      "execution_count": null,
      "id": "5f6e8b6d-f740-4d98-9189-78cdb98991d0",
      "metadata": {
        "id": "5f6e8b6d-f740-4d98-9189-78cdb98991d0"
      },
      "outputs": [],
      "source": [
        "import tensorflow as tf\n",
        "from tensorflow.keras.models import Sequential, load_model\n",
        "from tensorflow.keras.layers import Dense, Activation, Dropout, BatchNormalization\n",
        "from tensorflow.keras.callbacks import EarlyStopping, ModelCheckpoint\n",
        "from tensorflow.keras.utils import to_categorical\n",
        "\n",
        "tf.random.set_seed(1)"
      ]
    },
    {
      "cell_type": "markdown",
      "id": "0d15cb7c-f9fd-45ce-85e0-7ea72a4091a5",
      "metadata": {
        "tags": [],
        "id": "0d15cb7c-f9fd-45ce-85e0-7ea72a4091a5"
      },
      "source": [
        "<br>"
      ]
    },
    {
      "cell_type": "markdown",
      "id": "e897fb3e-1364-4445-ac10-920f82ae4232",
      "metadata": {
        "id": "e897fb3e-1364-4445-ac10-920f82ae4232"
      },
      "source": [
        "### 13. Time_Driving(실주행시간)을 예측하는 딥러닝 모델을 만들려고 합니다.\n",
        "### 아래 가이드에 따라 모델링하고 학습을 진행하세요.\n",
        "* Tensoflow framework를 사용하여 딥러닝 모델을 만드세요.\n",
        "* 히든레이어(hidden layer) 2개이상으로 모델을 구성하세요.\n",
        "* dropout 비율 0.2로 Dropout 레이어 1개를 추가해 주세요.\n",
        "* 손실함수는 MSE(Mean Squared Error)를 사용하세요.\n",
        "* 하이퍼파라미터 epochs: 30, batch_size: 16으로 설정해주세요.\n",
        "* 각 에포크마다 loss와 metrics 평가하기 위한 데이터로 X_valid, y_valid 사용하세요.\n",
        "* 학습정보는 history 변수에 저장해주세요"
      ]
    },
    {
      "cell_type": "code",
      "execution_count": null,
      "id": "df129f00-16d9-427b-adef-af90f3ab177c",
      "metadata": {
        "id": "df129f00-16d9-427b-adef-af90f3ab177c",
        "outputId": "4ea56263-53f9-4f3c-d342-ba5a4006153d"
      },
      "outputs": [
        {
          "name": "stdout",
          "output_type": "stream",
          "text": [
            "Model: \"sequential\"\n",
            "_________________________________________________________________\n",
            "Layer (type)                 Output Shape              Param #   \n",
            "=================================================================\n",
            "dense (Dense)                (None, 64)                5632      \n",
            "_________________________________________________________________\n",
            "dropout (Dropout)            (None, 64)                0         \n",
            "_________________________________________________________________\n",
            "dense_1 (Dense)              (None, 32)                2080      \n",
            "_________________________________________________________________\n",
            "dense_2 (Dense)              (None, 16)                528       \n",
            "_________________________________________________________________\n",
            "dense_3 (Dense)              (None, 1)                 17        \n",
            "=================================================================\n",
            "Total params: 8,257\n",
            "Trainable params: 8,257\n",
            "Non-trainable params: 0\n",
            "_________________________________________________________________\n"
          ]
        }
      ],
      "source": [
        "# 여기에 답안코드를 작성하세요.\n",
        "from keras.backend import clear_session\n",
        "clear_session()\n",
        "\n",
        "nfeatures = X_train.shape[1]\n",
        "epochs = 30\n",
        "batch_size = 16\n",
        "\n",
        "model_dnn = Sequential()\n",
        "model_dnn.add(Dense(64, input_shape=(nfeatures,), activation='relu'))\n",
        "model_dnn.add(Dropout(.2))\n",
        "model_dnn.add(Dense(32, activation ='relu'))\n",
        "model_dnn.add(Dense(16, activation ='relu'))\n",
        "model_dnn.add(Dense(1))\n",
        "\n",
        "model_dnn.compile(loss='mean_squared_error', optimizer='adam', metrics=['mse'])\n",
        "model_dnn.summary()"
      ]
    },
    {
      "cell_type": "code",
      "execution_count": null,
      "id": "6277034e",
      "metadata": {
        "id": "6277034e",
        "outputId": "b1780494-871b-493e-96ee-c13408140c93"
      },
      "outputs": [
        {
          "name": "stdout",
          "output_type": "stream",
          "text": [
            "WARNING:tensorflow:Falling back from v2 loop because of error: Failed to find data adapter that can handle input: <class 'pandas.core.frame.DataFrame'>, <class 'NoneType'>\n",
            "Train on 44344 samples, validate on 11087 samples\n",
            "Epoch 1/30\n",
            "44344/44344 [==============================] - 11s 256us/sample - loss: 165752.3224 - mse: 165752.3906 - val_loss: 72498.2682 - val_mse: 72498.2656\n",
            "Epoch 2/30\n",
            "44344/44344 [==============================] - 10s 235us/sample - loss: 55490.7898 - mse: 55490.7188 - val_loss: 44468.5255 - val_mse: 44468.5312\n",
            "Epoch 3/30\n",
            "44344/44344 [==============================] - 12s 273us/sample - loss: 32607.6760 - mse: 32607.7285 - val_loss: 28077.3825 - val_mse: 28077.3867\n",
            "Epoch 4/30\n",
            "44344/44344 [==============================] - 11s 248us/sample - loss: 24801.1733 - mse: 24801.1641 - val_loss: 130486.4854 - val_mse: 130486.4453\n",
            "Epoch 5/30\n",
            "44344/44344 [==============================] - 12s 263us/sample - loss: 21242.2094 - mse: 21242.2207 - val_loss: 40203.5053 - val_mse: 40203.4961\n",
            "Epoch 6/30\n",
            "44344/44344 [==============================] - 13s 300us/sample - loss: 20447.3860 - mse: 20447.3750 - val_loss: 49415.0944 - val_mse: 49415.1055\n",
            "Epoch 7/30\n",
            "44344/44344 [==============================] - 13s 304us/sample - loss: 18787.6483 - mse: 18787.6387 - val_loss: 26829.1316 - val_mse: 26829.1348\n",
            "Epoch 8/30\n",
            "44344/44344 [==============================] - 10s 235us/sample - loss: 16648.3029 - mse: 16648.3027 - val_loss: 54240.6290 - val_mse: 54240.6328\n",
            "Epoch 9/30\n",
            "44344/44344 [==============================] - 10s 232us/sample - loss: 19374.5288 - mse: 19374.5352 - val_loss: 37242.3571 - val_mse: 37242.3555\n",
            "Epoch 10/30\n",
            "44344/44344 [==============================] - 10s 228us/sample - loss: 20380.5085 - mse: 20380.5371 - val_loss: 57791.4624 - val_mse: 57791.4570\n",
            "Epoch 11/30\n",
            "44344/44344 [==============================] - 10s 233us/sample - loss: 20214.2322 - mse: 20214.2246 - val_loss: 47750.6322 - val_mse: 47750.6211\n",
            "Epoch 12/30\n",
            "44344/44344 [==============================] - 10s 236us/sample - loss: 24367.0873 - mse: 24367.0879 - val_loss: 27584.6001 - val_mse: 27584.6035\n",
            "Epoch 13/30\n",
            "44344/44344 [==============================] - 10s 215us/sample - loss: 25481.9825 - mse: 25482.0020 - val_loss: 25541.0879 - val_mse: 25541.0938\n",
            "Epoch 14/30\n",
            "44344/44344 [==============================] - 10s 225us/sample - loss: 21179.8731 - mse: 21179.8613 - val_loss: 35798.2866 - val_mse: 35798.2734\n",
            "Epoch 15/30\n",
            "44344/44344 [==============================] - 10s 229us/sample - loss: 21685.3082 - mse: 21685.3184 - val_loss: 47395.5902 - val_mse: 47395.5977\n",
            "Epoch 16/30\n",
            "44344/44344 [==============================] - 11s 241us/sample - loss: 19163.3206 - mse: 19163.3320 - val_loss: 23704.2718 - val_mse: 23704.2754\n",
            "Epoch 17/30\n",
            "44344/44344 [==============================] - 10s 234us/sample - loss: 39998.4733 - mse: 39998.4805 - val_loss: 64927.5813 - val_mse: 64927.5508\n",
            "Epoch 18/30\n",
            "44344/44344 [==============================] - 11s 241us/sample - loss: 39451.4872 - mse: 39451.4609 - val_loss: 37114.2040 - val_mse: 37114.1992\n",
            "Epoch 19/30\n",
            "44344/44344 [==============================] - 10s 233us/sample - loss: 36191.8934 - mse: 36191.8984 - val_loss: 34469.0939 - val_mse: 34469.0781\n",
            "Epoch 20/30\n",
            "44344/44344 [==============================] - 10s 225us/sample - loss: 36451.3938 - mse: 36451.3945 - val_loss: 37661.4966 - val_mse: 37661.5000\n",
            "Epoch 21/30\n",
            "44344/44344 [==============================] - 10s 236us/sample - loss: 36321.3053 - mse: 36321.3594 - val_loss: 33163.1926 - val_mse: 33163.1914\n",
            "Epoch 22/30\n",
            "44344/44344 [==============================] - 10s 233us/sample - loss: 35041.7098 - mse: 35041.6836 - val_loss: 31331.5939 - val_mse: 31331.5938\n",
            "Epoch 23/30\n",
            "44344/44344 [==============================] - 11s 238us/sample - loss: 34365.3663 - mse: 34365.4141 - val_loss: 33991.7666 - val_mse: 33991.7578\n",
            "Epoch 24/30\n",
            "44344/44344 [==============================] - 10s 232us/sample - loss: 33525.5050 - mse: 33525.5039 - val_loss: 48559.4464 - val_mse: 48559.4336\n",
            "Epoch 25/30\n",
            "44344/44344 [==============================] - 10s 236us/sample - loss: 33633.9645 - mse: 33634.0156 - val_loss: 16797.9598 - val_mse: 16797.9531\n",
            "Epoch 26/30\n",
            "44344/44344 [==============================] - 10s 236us/sample - loss: 34282.5248 - mse: 34282.4570 - val_loss: 50877.1188 - val_mse: 50877.1133\n",
            "Epoch 27/30\n",
            "44344/44344 [==============================] - 10s 232us/sample - loss: 33791.2751 - mse: 33791.2617 - val_loss: 54190.4832 - val_mse: 54190.4688\n",
            "Epoch 28/30\n",
            "44344/44344 [==============================] - 10s 235us/sample - loss: 34264.9339 - mse: 34264.9492 - val_loss: 48859.7065 - val_mse: 48859.7070\n",
            "Epoch 29/30\n",
            "44344/44344 [==============================] - 10s 232us/sample - loss: 30990.5153 - mse: 30990.5215 - val_loss: 70138.9685 - val_mse: 70138.9688\n",
            "Epoch 30/30\n",
            "44344/44344 [==============================] - 10s 226us/sample - loss: 31268.5216 - mse: 31268.4824 - val_loss: 62287.9936 - val_mse: 62288.0195\n"
          ]
        }
      ],
      "source": [
        "history = model_dnn.fit(X_train, y_train,\n",
        "                        validation_data=(X_valid, y_valid),\n",
        "                        epochs=epochs,\n",
        "                        batch_size=batch_size)"
      ]
    },
    {
      "cell_type": "markdown",
      "id": "12f33874-3f1e-4b63-ba3e-91d90ee5e512",
      "metadata": {
        "id": "12f33874-3f1e-4b63-ba3e-91d90ee5e512"
      },
      "source": [
        "<br>"
      ]
    },
    {
      "cell_type": "markdown",
      "id": "8989c197-ec84-4192-955d-1c52d34cb006",
      "metadata": {
        "id": "8989c197-ec84-4192-955d-1c52d34cb006"
      },
      "source": [
        "### 14. 위 딥러닝 모델의 성능을 평가하려고 합니다.\n",
        "### Matplotlib 라이브러리 활용해서 학습 mse와 검증 mse를 그래프로 표시하세요.\n",
        "* 1개의 그래프에 학습 mse과 검증 mse 2가지를 모두 표시하세요.\n",
        "* 위 2가지 각각의 범례를 'mse', 'val_mse'로 표시하세요.\n",
        "* 그래프의 타이틀은 'Model MSE'로 표시하세요.\n",
        "* X축에는 'Epochs'라고 표시하고 Y축에는 'MSE'라고 표시하세요."
      ]
    },
    {
      "cell_type": "code",
      "execution_count": null,
      "id": "51ae8f43",
      "metadata": {
        "id": "51ae8f43",
        "outputId": "021b6203-3b51-48eb-9a56-f36f4e58c1a6"
      },
      "outputs": [
        {
          "data": {
            "image/png": "[encoded data removed]",
            "text/plain": [
              "<Figure size 432x288 with 1 Axes>"
            ]
          },
          "metadata": {
            "needs_background": "light"
          },
          "output_type": "display_data"
        }
      ],
      "source": [
        "plt.plot(history.history['mse'], label='mse')\n",
        "plt.plot(history.history['val_mse'], label='val_mse')\n",
        "plt.title(\"Model MSE\")\n",
        "plt.xlabel('Epochs')\n",
        "plt.ylabel('MSE')\n",
        "plt.legend()\n",
        "plt.show()"
      ]
    }
  ],
  "metadata": {
    "kernelspec": {
      "display_name": "Python 3",
      "language": "python",
      "name": "python3"
    },
    "language_info": {
      "codemirror_mode": {
        "name": "ipython",
        "version": 3
      },
      "file_extension": ".py",
      "mimetype": "text/x-python",
      "name": "python",
      "nbconvert_exporter": "python",
      "pygments_lexer": "ipython3",
      "version": "3.6.13"
    },
    "colab": {
      "provenance": []
    }
  },
  "nbformat": 4,
  "nbformat_minor": 5
}