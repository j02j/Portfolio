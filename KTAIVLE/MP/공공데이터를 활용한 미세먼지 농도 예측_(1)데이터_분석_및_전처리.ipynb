{
  "cells": [
    {
      "cell_type": "markdown",
      "id": "de21bfa8",
      "metadata": {
        "id": "de21bfa8"
      },
      "source": [
        "## **AIVLE School 미니프로젝트 5기 AI트랙 2차** ##\n",
        "## **공공데이터를 활용한 <span style=\"color:skyblue\">미세먼지 농도</span> 예측**\n",
        "---\n",
        "## [step 1,2] 데이터 분석 및 전처리"
      ]
    },
    {
      "cell_type": "markdown",
      "id": "994d710f",
      "metadata": {
        "id": "994d710f"
      },
      "source": [
        "## **0.프로젝트 소개**\n",
        "\n",
        "### (1) 수행 목표\n",
        "- 미세먼지 농도를 예측하는 머신러닝 모델을 만드세요."
      ]
    },
    {
      "cell_type": "markdown",
      "id": "7fa5e70e",
      "metadata": {
        "id": "7fa5e70e"
      },
      "source": [
        "#### 우리가 풀어야 하는 문제는 무엇인가요?\n",
        "* 서울 지역의 미세먼지 데이터와 날씨 데이터를 활용하여, 미세먼지 예측에 관련 있는 데이터 항목으로 데이터를 구성, 전처리 하여 미세먼지 농도를 예측하는 머신러닝 모델 구현"
      ]
    },
    {
      "cell_type": "markdown",
      "id": "1d40fb86",
      "metadata": {
        "id": "1d40fb86"
      },
      "source": [
        "### (2) 데이터 소개\n",
        "\n",
        "#### 1) 기본 데이터\n",
        "\n",
        "* 학습 데이터\n",
        "    * air_2022.csv : 2022년 미세먼지 데이터\n",
        "    * weather_2022.csv : 2022년 날씨 데이터\n",
        "* 테스트 데이터\n",
        "    * air_2023.csv : 2023년 미세먼지 데이터\n",
        "    * weather_2023.csv : 2023년 날씨 데이터\n",
        "\n",
        "#### 2) 데이터셋의 변수 소개(weather_2022,2023)\n",
        "\n",
        "* 증기압: 증기가 고체 또는 액체와 동적 평형 상태에 있을 때 증기의 압력 (증기가 되려는 힘)\n",
        "* 이슬점 온도: 불포화 상태의 공기가 냉각될 때, 포화 상태에 도달하여 수증기의 응결이 시작되는 온도\n",
        "* 일조: 일정한 물체나 땅의 겉면에 태양 광선이 비치는 시간 (1시간 중 비율)\n",
        "* 일사(량): 태양으로부터 오는 태양 복사 에너지가 지표에 닿는 양 (면적당 에너지 량)\n",
        "* 전운량: 하늘을 육안으로 관측하여 전부 구름일 때 10, 구름이 덮고 있는 하늘의 비율에 따라 0~10\n",
        "* 중하층운량: 중층과 하층에 있는 구름의 분포량(중하층 구름이 날씨에 영향 주므로 따로 표기)\n",
        "* 운형(운형약어): 구름의 종류. 약어 코드로 기재됨\n",
        "* 최저운고: 가장 낮은 구름의 높이\n",
        "* 현상번호(국내식): 비, 소낙비, 싸락눈, 눈보라 등의 기상현상을 나타낸 코드번호\n",
        "* 지면온도: 지면 0cm 온도\n",
        "* 지중온도: 땅 속 온도변수1"
      ]
    },
    {
      "cell_type": "markdown",
      "id": "f16a803d",
      "metadata": {
        "id": "f16a803d"
      },
      "source": [
        "## **1.환경설정**"
      ]
    },
    {
      "cell_type": "markdown",
      "id": "c7bf984b",
      "metadata": {
        "id": "c7bf984b"
      },
      "source": [
        "* 세부 요구사항\n",
        "    - 경로 설정 : 다음의 두가지 방법 중 하나를 선택하여 폴더를 준비하고 데이터를 로딩하시오.\n",
        "        * 1) 로컬 수행(Ananconda)\n",
        "            * 제공된 압축파일을 다운받아 압축을 풀고\n",
        "            * anaconda의 root directory(보통 C:/Users/< ID > 에 project 폴더를 만들고, 복사해 넣습니다.)\n",
        "        * 2) 구글 코랩\n",
        "            * 구글 드라이브 바로 밑에 project 폴더를 만들고,\n",
        "            * 데이터 파일을 복사해 넣습니다.\n",
        "            \n",
        "    - 기본적으로 필요한 라이브러리를 import 하도록 코드가 작성되어 있습니다.\n",
        "        * 필요하다고 판단되는 라이브러리를 추가하세요."
      ]
    },
    {
      "cell_type": "markdown",
      "id": "84c19f48",
      "metadata": {
        "id": "84c19f48"
      },
      "source": [
        "### (1) 경로 설정\n",
        "* 로컬환경 또는 구글 코랩 중 하나를 사용하시면 됩니다."
      ]
    },
    {
      "cell_type": "markdown",
      "id": "e78c8004",
      "metadata": {
        "id": "e78c8004"
      },
      "source": [
        "#### 1) 로컬 수행(Anaconda)\n",
        "* project 폴더에 필요한 파일들을 넣고, 본 파일을 열었다면, 별도 경로 지정이 필요하지 않습니다."
      ]
    },
    {
      "cell_type": "code",
      "execution_count": null,
      "id": "d8859e96",
      "metadata": {
        "tags": [],
        "id": "d8859e96"
      },
      "outputs": [],
      "source": [
        "path = 'C:/Users/User/KT_AIVLE/MP2/'"
      ]
    },
    {
      "cell_type": "markdown",
      "id": "c193cedf",
      "metadata": {
        "id": "c193cedf"
      },
      "source": [
        "#### 2) 구글 코랩 수행"
      ]
    },
    {
      "cell_type": "markdown",
      "id": "04050c09",
      "metadata": {
        "id": "04050c09"
      },
      "source": [
        "* 구글 드라이브 연결"
      ]
    },
    {
      "cell_type": "code",
      "execution_count": null,
      "id": "3f68ae36",
      "metadata": {
        "id": "3f68ae36"
      },
      "outputs": [],
      "source": [
        "# from google.colab import drive\n",
        "# drive.mount('/content/drive')"
      ]
    },
    {
      "cell_type": "code",
      "execution_count": null,
      "id": "580b552e",
      "metadata": {
        "id": "580b552e"
      },
      "outputs": [],
      "source": [
        "# path = '/content/drive/MyDrive/project/'"
      ]
    },
    {
      "cell_type": "markdown",
      "id": "6389e527",
      "metadata": {
        "id": "6389e527"
      },
      "source": [
        "### (2) 라이브러리 설치 및 불러오기"
      ]
    },
    {
      "cell_type": "markdown",
      "id": "8c33f039",
      "metadata": {
        "id": "8c33f039"
      },
      "source": [
        "#### 1) 라이브러리 설치 및 로딩"
      ]
    },
    {
      "cell_type": "code",
      "execution_count": null,
      "id": "2211da40",
      "metadata": {
        "tags": [],
        "id": "2211da40"
      },
      "outputs": [],
      "source": [
        "# 필요한 라이브러리 설치 및 불러오기\n",
        "\n",
        "import pandas as pd\n",
        "import numpy as np\n",
        "import matplotlib.pyplot as plt\n",
        "import seaborn as sns\n",
        "import datetime\n",
        "\n",
        "from statsmodels.graphics.mosaicplot import mosaic\n",
        "from scipy import stats as spst\n",
        "import statsmodels.api as sm\n",
        "import joblib\n",
        "\n",
        "# 더 필요한 라이브러리를 아래에 추가합니다.\n",
        "import datetime as dt\n"
      ]
    },
    {
      "cell_type": "code",
      "execution_count": null,
      "id": "5c1704c8",
      "metadata": {
        "tags": [],
        "id": "5c1704c8"
      },
      "outputs": [],
      "source": [
        "# 시각화 한글폰트 설정을 위해 아래 코드를 실행하세요.\n",
        "plt.rc('font', family='Malgun Gothic')\n",
        "sns.set(font=\"Malgun Gothic\",#\"NanumGothicCoding\",\n",
        "        rc={\"axes.unicode_minus\":False}, # 마이너스 부호 깨짐 현상 해결\n",
        "        style='darkgrid')"
      ]
    },
    {
      "cell_type": "markdown",
      "id": "5f957970",
      "metadata": {
        "id": "5f957970"
      },
      "source": [
        "### (3) 데이터 불러오기\n",
        "* Pandas 라이브러리를 활용해서 'air_2022.csv'파일을 'air_22' 변수에,'air_2023.csv'파일을 'air_23' 변수에 저장하고 그 데이터를 확인하세요.\n",
        "<br> ( 구분자(sep) : ',' / encoder = 'utf-8' / index_col = 0 )\n",
        "\n",
        "* Pandas 라이브러리를 활용해서 'weather_2022.csv'파일을 'weather_22' 변수에,'weather_2023.csv'파일을 'weather_23' 변수에 저장하고 그 데이터를 확인하세요.\n",
        "<br> ( 구분자(sep) : ',' / encoder = 'cp949' )"
      ]
    },
    {
      "cell_type": "markdown",
      "id": "2e32e75c",
      "metadata": {
        "id": "2e32e75c"
      },
      "source": [
        "#### 1) 데이터로딩"
      ]
    },
    {
      "cell_type": "code",
      "execution_count": null,
      "id": "b6a824e4",
      "metadata": {
        "tags": [],
        "id": "b6a824e4"
      },
      "outputs": [],
      "source": [
        "# 아래에 실습코드를 작성하고 결과를 확인합니다.\n",
        "air_22 = pd.read_csv('./air_2022.csv', sep=',', encoding='utf-8', index_col=0)\n",
        "air_23 = pd.read_csv('./air_2023.csv', sep=',', encoding='utf-8', index_col=0)\n",
        "weather_22 = pd.read_csv('./weather_2022.csv', sep=',', encoding='cp949')\n",
        "weather_23 = pd.read_csv('./weather_2023.csv', sep=',', encoding='cp949')"
      ]
    },
    {
      "cell_type": "markdown",
      "id": "bb06f1cb",
      "metadata": {
        "id": "bb06f1cb"
      },
      "source": [
        "#### 2) 기본 정보 조회\n",
        "- 데이터를 head, tail. describe, info 등을 활용하여 확인하세요."
      ]
    },
    {
      "cell_type": "code",
      "execution_count": null,
      "id": "06464273",
      "metadata": {
        "tags": [],
        "id": "06464273",
        "outputId": "f8e1da82-3e82-4071-c95a-1213834876d8"
      },
      "outputs": [
        {
          "data": {
            "text/html": [
              "<div>\n",
              "<style scoped>\n",
              "    .dataframe tbody tr th:only-of-type {\n",
              "        vertical-align: middle;\n",
              "    }\n",
              "\n",
              "    .dataframe tbody tr th {\n",
              "        vertical-align: top;\n",
              "    }\n",
              "\n",
              "    .dataframe thead th {\n",
              "        text-align: right;\n",
              "    }\n",
              "</style>\n",
              "<table border=\"1\" class=\"dataframe\">\n",
              "  <thead>\n",
              "    <tr style=\"text-align: right;\">\n",
              "      <th></th>\n",
              "      <th>지역</th>\n",
              "      <th>망</th>\n",
              "      <th>측정소코드</th>\n",
              "      <th>측정소명</th>\n",
              "      <th>측정일시</th>\n",
              "      <th>SO2</th>\n",
              "      <th>CO</th>\n",
              "      <th>O3</th>\n",
              "      <th>NO2</th>\n",
              "      <th>PM10</th>\n",
              "      <th>PM25</th>\n",
              "      <th>주소</th>\n",
              "    </tr>\n",
              "  </thead>\n",
              "  <tbody>\n",
              "    <tr>\n",
              "      <th>0</th>\n",
              "      <td>서울 종로구</td>\n",
              "      <td>도시대기</td>\n",
              "      <td>111123</td>\n",
              "      <td>종로구</td>\n",
              "      <td>2022010101</td>\n",
              "      <td>0.003</td>\n",
              "      <td>0.4</td>\n",
              "      <td>0.026</td>\n",
              "      <td>0.016</td>\n",
              "      <td>23.0</td>\n",
              "      <td>12.0</td>\n",
              "      <td>서울 종로구 종로35가길 19</td>\n",
              "    </tr>\n",
              "    <tr>\n",
              "      <th>1</th>\n",
              "      <td>서울 종로구</td>\n",
              "      <td>도시대기</td>\n",
              "      <td>111123</td>\n",
              "      <td>종로구</td>\n",
              "      <td>2022010102</td>\n",
              "      <td>0.003</td>\n",
              "      <td>0.4</td>\n",
              "      <td>0.022</td>\n",
              "      <td>0.020</td>\n",
              "      <td>20.0</td>\n",
              "      <td>9.0</td>\n",
              "      <td>서울 종로구 종로35가길 19</td>\n",
              "    </tr>\n",
              "  </tbody>\n",
              "</table>\n",
              "</div>"
            ],
            "text/plain": [
              "       지역     망   측정소코드 측정소명        측정일시    SO2   CO     O3    NO2  PM10  \\\n",
              "0  서울 종로구  도시대기  111123  종로구  2022010101  0.003  0.4  0.026  0.016  23.0   \n",
              "1  서울 종로구  도시대기  111123  종로구  2022010102  0.003  0.4  0.022  0.020  20.0   \n",
              "\n",
              "   PM25                주소  \n",
              "0  12.0  서울 종로구 종로35가길 19  \n",
              "1   9.0  서울 종로구 종로35가길 19  "
            ]
          },
          "metadata": {},
          "output_type": "display_data"
        },
        {
          "data": {
            "text/html": [
              "<div>\n",
              "<style scoped>\n",
              "    .dataframe tbody tr th:only-of-type {\n",
              "        vertical-align: middle;\n",
              "    }\n",
              "\n",
              "    .dataframe tbody tr th {\n",
              "        vertical-align: top;\n",
              "    }\n",
              "\n",
              "    .dataframe thead th {\n",
              "        text-align: right;\n",
              "    }\n",
              "</style>\n",
              "<table border=\"1\" class=\"dataframe\">\n",
              "  <thead>\n",
              "    <tr style=\"text-align: right;\">\n",
              "      <th></th>\n",
              "      <th>지역</th>\n",
              "      <th>망</th>\n",
              "      <th>측정소코드</th>\n",
              "      <th>측정소명</th>\n",
              "      <th>측정일시</th>\n",
              "      <th>SO2</th>\n",
              "      <th>CO</th>\n",
              "      <th>O3</th>\n",
              "      <th>NO2</th>\n",
              "      <th>PM10</th>\n",
              "      <th>PM25</th>\n",
              "      <th>주소</th>\n",
              "    </tr>\n",
              "  </thead>\n",
              "  <tbody>\n",
              "    <tr>\n",
              "      <th>0</th>\n",
              "      <td>서울 종로구</td>\n",
              "      <td>도시대기</td>\n",
              "      <td>111123</td>\n",
              "      <td>종로구</td>\n",
              "      <td>2023010101</td>\n",
              "      <td>0.005</td>\n",
              "      <td>1.4</td>\n",
              "      <td>0.002</td>\n",
              "      <td>0.064</td>\n",
              "      <td>68.0</td>\n",
              "      <td>58.0</td>\n",
              "      <td>서울 종로구 종로35가길 19</td>\n",
              "    </tr>\n",
              "    <tr>\n",
              "      <th>1</th>\n",
              "      <td>서울 종로구</td>\n",
              "      <td>도시대기</td>\n",
              "      <td>111123</td>\n",
              "      <td>종로구</td>\n",
              "      <td>2023010102</td>\n",
              "      <td>0.004</td>\n",
              "      <td>1.4</td>\n",
              "      <td>0.002</td>\n",
              "      <td>0.061</td>\n",
              "      <td>64.0</td>\n",
              "      <td>50.0</td>\n",
              "      <td>서울 종로구 종로35가길 19</td>\n",
              "    </tr>\n",
              "  </tbody>\n",
              "</table>\n",
              "</div>"
            ],
            "text/plain": [
              "       지역     망   측정소코드 측정소명        측정일시    SO2   CO     O3    NO2  PM10  \\\n",
              "0  서울 종로구  도시대기  111123  종로구  2023010101  0.005  1.4  0.002  0.064  68.0   \n",
              "1  서울 종로구  도시대기  111123  종로구  2023010102  0.004  1.4  0.002  0.061  64.0   \n",
              "\n",
              "   PM25                주소  \n",
              "0  58.0  서울 종로구 종로35가길 19  \n",
              "1  50.0  서울 종로구 종로35가길 19  "
            ]
          },
          "metadata": {},
          "output_type": "display_data"
        },
        {
          "data": {
            "text/html": [
              "<div>\n",
              "<style scoped>\n",
              "    .dataframe tbody tr th:only-of-type {\n",
              "        vertical-align: middle;\n",
              "    }\n",
              "\n",
              "    .dataframe tbody tr th {\n",
              "        vertical-align: top;\n",
              "    }\n",
              "\n",
              "    .dataframe thead th {\n",
              "        text-align: right;\n",
              "    }\n",
              "</style>\n",
              "<table border=\"1\" class=\"dataframe\">\n",
              "  <thead>\n",
              "    <tr style=\"text-align: right;\">\n",
              "      <th></th>\n",
              "      <th>지점</th>\n",
              "      <th>지점명</th>\n",
              "      <th>일시</th>\n",
              "      <th>기온(°C)</th>\n",
              "      <th>기온 QC플래그</th>\n",
              "      <th>강수량(mm)</th>\n",
              "      <th>강수량 QC플래그</th>\n",
              "      <th>풍속(m/s)</th>\n",
              "      <th>풍속 QC플래그</th>\n",
              "      <th>풍향(16방위)</th>\n",
              "      <th>...</th>\n",
              "      <th>최저운고(100m )</th>\n",
              "      <th>시정(10m)</th>\n",
              "      <th>지면상태(지면상태코드)</th>\n",
              "      <th>현상번호(국내식)</th>\n",
              "      <th>지면온도(°C)</th>\n",
              "      <th>지면온도 QC플래그</th>\n",
              "      <th>5cm 지중온도(°C)</th>\n",
              "      <th>10cm 지중온도(°C)</th>\n",
              "      <th>20cm 지중온도(°C)</th>\n",
              "      <th>30cm 지중온도(°C)</th>\n",
              "    </tr>\n",
              "  </thead>\n",
              "  <tbody>\n",
              "    <tr>\n",
              "      <th>0</th>\n",
              "      <td>108</td>\n",
              "      <td>서울</td>\n",
              "      <td>2022-01-01 00:00</td>\n",
              "      <td>-8.5</td>\n",
              "      <td>NaN</td>\n",
              "      <td>NaN</td>\n",
              "      <td>NaN</td>\n",
              "      <td>1.9</td>\n",
              "      <td>NaN</td>\n",
              "      <td>320</td>\n",
              "      <td>...</td>\n",
              "      <td>NaN</td>\n",
              "      <td>2000</td>\n",
              "      <td>NaN</td>\n",
              "      <td>NaN</td>\n",
              "      <td>-7.0</td>\n",
              "      <td>NaN</td>\n",
              "      <td>-1.0</td>\n",
              "      <td>-1.0</td>\n",
              "      <td>-0.2</td>\n",
              "      <td>1.0</td>\n",
              "    </tr>\n",
              "    <tr>\n",
              "      <th>1</th>\n",
              "      <td>108</td>\n",
              "      <td>서울</td>\n",
              "      <td>2022-01-01 01:00</td>\n",
              "      <td>-9.2</td>\n",
              "      <td>NaN</td>\n",
              "      <td>NaN</td>\n",
              "      <td>NaN</td>\n",
              "      <td>1.8</td>\n",
              "      <td>NaN</td>\n",
              "      <td>270</td>\n",
              "      <td>...</td>\n",
              "      <td>NaN</td>\n",
              "      <td>2000</td>\n",
              "      <td>NaN</td>\n",
              "      <td>NaN</td>\n",
              "      <td>-7.2</td>\n",
              "      <td>NaN</td>\n",
              "      <td>-1.1</td>\n",
              "      <td>-1.1</td>\n",
              "      <td>-0.2</td>\n",
              "      <td>1.0</td>\n",
              "    </tr>\n",
              "  </tbody>\n",
              "</table>\n",
              "<p>2 rows × 38 columns</p>\n",
              "</div>"
            ],
            "text/plain": [
              "    지점 지점명                일시  기온(°C)  기온 QC플래그  강수량(mm)  강수량 QC플래그  풍속(m/s)  \\\n",
              "0  108  서울  2022-01-01 00:00    -8.5       NaN      NaN        NaN      1.9   \n",
              "1  108  서울  2022-01-01 01:00    -9.2       NaN      NaN        NaN      1.8   \n",
              "\n",
              "   풍속 QC플래그  풍향(16방위)  ...  최저운고(100m )  시정(10m)  지면상태(지면상태코드)  현상번호(국내식)  \\\n",
              "0       NaN       320  ...          NaN     2000           NaN        NaN   \n",
              "1       NaN       270  ...          NaN     2000           NaN        NaN   \n",
              "\n",
              "   지면온도(°C)  지면온도 QC플래그  5cm 지중온도(°C)  10cm 지중온도(°C)  20cm 지중온도(°C)  \\\n",
              "0      -7.0         NaN          -1.0           -1.0           -0.2   \n",
              "1      -7.2         NaN          -1.1           -1.1           -0.2   \n",
              "\n",
              "   30cm 지중온도(°C)  \n",
              "0            1.0  \n",
              "1            1.0  \n",
              "\n",
              "[2 rows x 38 columns]"
            ]
          },
          "metadata": {},
          "output_type": "display_data"
        },
        {
          "data": {
            "text/html": [
              "<div>\n",
              "<style scoped>\n",
              "    .dataframe tbody tr th:only-of-type {\n",
              "        vertical-align: middle;\n",
              "    }\n",
              "\n",
              "    .dataframe tbody tr th {\n",
              "        vertical-align: top;\n",
              "    }\n",
              "\n",
              "    .dataframe thead th {\n",
              "        text-align: right;\n",
              "    }\n",
              "</style>\n",
              "<table border=\"1\" class=\"dataframe\">\n",
              "  <thead>\n",
              "    <tr style=\"text-align: right;\">\n",
              "      <th></th>\n",
              "      <th>지점</th>\n",
              "      <th>지점명</th>\n",
              "      <th>일시</th>\n",
              "      <th>기온(°C)</th>\n",
              "      <th>기온 QC플래그</th>\n",
              "      <th>강수량(mm)</th>\n",
              "      <th>강수량 QC플래그</th>\n",
              "      <th>풍속(m/s)</th>\n",
              "      <th>풍속 QC플래그</th>\n",
              "      <th>풍향(16방위)</th>\n",
              "      <th>...</th>\n",
              "      <th>최저운고(100m )</th>\n",
              "      <th>시정(10m)</th>\n",
              "      <th>지면상태(지면상태코드)</th>\n",
              "      <th>현상번호(국내식)</th>\n",
              "      <th>지면온도(°C)</th>\n",
              "      <th>지면온도 QC플래그</th>\n",
              "      <th>5cm 지중온도(°C)</th>\n",
              "      <th>10cm 지중온도(°C)</th>\n",
              "      <th>20cm 지중온도(°C)</th>\n",
              "      <th>30cm 지중온도(°C)</th>\n",
              "    </tr>\n",
              "  </thead>\n",
              "  <tbody>\n",
              "    <tr>\n",
              "      <th>0</th>\n",
              "      <td>108</td>\n",
              "      <td>서울</td>\n",
              "      <td>2023-01-01 0:00</td>\n",
              "      <td>0.9</td>\n",
              "      <td>NaN</td>\n",
              "      <td>NaN</td>\n",
              "      <td>9.0</td>\n",
              "      <td>1.4</td>\n",
              "      <td>NaN</td>\n",
              "      <td>200</td>\n",
              "      <td>...</td>\n",
              "      <td>NaN</td>\n",
              "      <td>1503</td>\n",
              "      <td>NaN</td>\n",
              "      <td>NaN</td>\n",
              "      <td>-1.6</td>\n",
              "      <td>NaN</td>\n",
              "      <td>-0.3</td>\n",
              "      <td>-0.6</td>\n",
              "      <td>-0.5</td>\n",
              "      <td>0.6</td>\n",
              "    </tr>\n",
              "    <tr>\n",
              "      <th>1</th>\n",
              "      <td>108</td>\n",
              "      <td>서울</td>\n",
              "      <td>2023-01-01 1:00</td>\n",
              "      <td>1.5</td>\n",
              "      <td>NaN</td>\n",
              "      <td>NaN</td>\n",
              "      <td>NaN</td>\n",
              "      <td>1.9</td>\n",
              "      <td>NaN</td>\n",
              "      <td>250</td>\n",
              "      <td>...</td>\n",
              "      <td>12.0</td>\n",
              "      <td>1104</td>\n",
              "      <td>NaN</td>\n",
              "      <td>NaN</td>\n",
              "      <td>-1.4</td>\n",
              "      <td>NaN</td>\n",
              "      <td>-0.3</td>\n",
              "      <td>-0.5</td>\n",
              "      <td>-0.5</td>\n",
              "      <td>0.6</td>\n",
              "    </tr>\n",
              "  </tbody>\n",
              "</table>\n",
              "<p>2 rows × 38 columns</p>\n",
              "</div>"
            ],
            "text/plain": [
              "    지점 지점명               일시  기온(°C)  기온 QC플래그  강수량(mm)  강수량 QC플래그  풍속(m/s)  \\\n",
              "0  108  서울  2023-01-01 0:00     0.9       NaN      NaN        9.0      1.4   \n",
              "1  108  서울  2023-01-01 1:00     1.5       NaN      NaN        NaN      1.9   \n",
              "\n",
              "   풍속 QC플래그  풍향(16방위)  ...  최저운고(100m )  시정(10m)  지면상태(지면상태코드)  현상번호(국내식)  \\\n",
              "0       NaN       200  ...          NaN     1503           NaN        NaN   \n",
              "1       NaN       250  ...         12.0     1104           NaN        NaN   \n",
              "\n",
              "   지면온도(°C)  지면온도 QC플래그  5cm 지중온도(°C)  10cm 지중온도(°C)  20cm 지중온도(°C)  \\\n",
              "0      -1.6         NaN          -0.3           -0.6           -0.5   \n",
              "1      -1.4         NaN          -0.3           -0.5           -0.5   \n",
              "\n",
              "   30cm 지중온도(°C)  \n",
              "0            0.6  \n",
              "1            0.6  \n",
              "\n",
              "[2 rows x 38 columns]"
            ]
          },
          "metadata": {},
          "output_type": "display_data"
        }
      ],
      "source": [
        "# 아래에 실습코드를 작성하고 결과를 확인합니다.\n",
        "display(air_22.head(2))\n",
        "display(air_23.head(2))\n",
        "display(weather_22.head(2))\n",
        "display(weather_23.head(2))"
      ]
    },
    {
      "cell_type": "code",
      "execution_count": null,
      "id": "b383d687",
      "metadata": {
        "tags": [],
        "id": "b383d687",
        "outputId": "303230f9-a70d-40b2-ef12-f508f0edfa32"
      },
      "outputs": [
        {
          "data": {
            "text/html": [
              "<div>\n",
              "<style scoped>\n",
              "    .dataframe tbody tr th:only-of-type {\n",
              "        vertical-align: middle;\n",
              "    }\n",
              "\n",
              "    .dataframe tbody tr th {\n",
              "        vertical-align: top;\n",
              "    }\n",
              "\n",
              "    .dataframe thead th {\n",
              "        text-align: right;\n",
              "    }\n",
              "</style>\n",
              "<table border=\"1\" class=\"dataframe\">\n",
              "  <thead>\n",
              "    <tr style=\"text-align: right;\">\n",
              "      <th></th>\n",
              "      <th>측정소코드</th>\n",
              "      <th>측정일시</th>\n",
              "      <th>SO2</th>\n",
              "      <th>CO</th>\n",
              "      <th>O3</th>\n",
              "      <th>NO2</th>\n",
              "      <th>PM10</th>\n",
              "      <th>PM25</th>\n",
              "    </tr>\n",
              "  </thead>\n",
              "  <tbody>\n",
              "    <tr>\n",
              "      <th>count</th>\n",
              "      <td>8760.0</td>\n",
              "      <td>8.760000e+03</td>\n",
              "      <td>8673.000000</td>\n",
              "      <td>8673.000000</td>\n",
              "      <td>8673.000000</td>\n",
              "      <td>8673.000000</td>\n",
              "      <td>8604.000000</td>\n",
              "      <td>8655.000000</td>\n",
              "    </tr>\n",
              "    <tr>\n",
              "      <th>mean</th>\n",
              "      <td>111123.0</td>\n",
              "      <td>2.022067e+09</td>\n",
              "      <td>0.003133</td>\n",
              "      <td>0.473458</td>\n",
              "      <td>0.030759</td>\n",
              "      <td>0.021319</td>\n",
              "      <td>31.756044</td>\n",
              "      <td>19.284575</td>\n",
              "    </tr>\n",
              "    <tr>\n",
              "      <th>std</th>\n",
              "      <td>0.0</td>\n",
              "      <td>3.450216e+04</td>\n",
              "      <td>0.000700</td>\n",
              "      <td>0.183086</td>\n",
              "      <td>0.019796</td>\n",
              "      <td>0.013473</td>\n",
              "      <td>22.466954</td>\n",
              "      <td>14.172678</td>\n",
              "    </tr>\n",
              "    <tr>\n",
              "      <th>min</th>\n",
              "      <td>111123.0</td>\n",
              "      <td>2.022010e+09</td>\n",
              "      <td>0.001000</td>\n",
              "      <td>0.200000</td>\n",
              "      <td>0.001000</td>\n",
              "      <td>0.003000</td>\n",
              "      <td>3.000000</td>\n",
              "      <td>1.000000</td>\n",
              "    </tr>\n",
              "    <tr>\n",
              "      <th>25%</th>\n",
              "      <td>111123.0</td>\n",
              "      <td>2.022040e+09</td>\n",
              "      <td>0.003000</td>\n",
              "      <td>0.400000</td>\n",
              "      <td>0.017000</td>\n",
              "      <td>0.011000</td>\n",
              "      <td>19.000000</td>\n",
              "      <td>10.000000</td>\n",
              "    </tr>\n",
              "    <tr>\n",
              "      <th>50%</th>\n",
              "      <td>111123.0</td>\n",
              "      <td>2.022070e+09</td>\n",
              "      <td>0.003000</td>\n",
              "      <td>0.400000</td>\n",
              "      <td>0.029000</td>\n",
              "      <td>0.017000</td>\n",
              "      <td>28.000000</td>\n",
              "      <td>16.000000</td>\n",
              "    </tr>\n",
              "    <tr>\n",
              "      <th>75%</th>\n",
              "      <td>111123.0</td>\n",
              "      <td>2.022100e+09</td>\n",
              "      <td>0.003000</td>\n",
              "      <td>0.500000</td>\n",
              "      <td>0.042000</td>\n",
              "      <td>0.028000</td>\n",
              "      <td>40.000000</td>\n",
              "      <td>25.000000</td>\n",
              "    </tr>\n",
              "    <tr>\n",
              "      <th>max</th>\n",
              "      <td>111123.0</td>\n",
              "      <td>2.022123e+09</td>\n",
              "      <td>0.008000</td>\n",
              "      <td>1.800000</td>\n",
              "      <td>0.144000</td>\n",
              "      <td>0.074000</td>\n",
              "      <td>385.000000</td>\n",
              "      <td>121.000000</td>\n",
              "    </tr>\n",
              "  </tbody>\n",
              "</table>\n",
              "</div>"
            ],
            "text/plain": [
              "          측정소코드          측정일시          SO2           CO           O3  \\\n",
              "count    8760.0  8.760000e+03  8673.000000  8673.000000  8673.000000   \n",
              "mean   111123.0  2.022067e+09     0.003133     0.473458     0.030759   \n",
              "std         0.0  3.450216e+04     0.000700     0.183086     0.019796   \n",
              "min    111123.0  2.022010e+09     0.001000     0.200000     0.001000   \n",
              "25%    111123.0  2.022040e+09     0.003000     0.400000     0.017000   \n",
              "50%    111123.0  2.022070e+09     0.003000     0.400000     0.029000   \n",
              "75%    111123.0  2.022100e+09     0.003000     0.500000     0.042000   \n",
              "max    111123.0  2.022123e+09     0.008000     1.800000     0.144000   \n",
              "\n",
              "               NO2         PM10         PM25  \n",
              "count  8673.000000  8604.000000  8655.000000  \n",
              "mean      0.021319    31.756044    19.284575  \n",
              "std       0.013473    22.466954    14.172678  \n",
              "min       0.003000     3.000000     1.000000  \n",
              "25%       0.011000    19.000000    10.000000  \n",
              "50%       0.017000    28.000000    16.000000  \n",
              "75%       0.028000    40.000000    25.000000  \n",
              "max       0.074000   385.000000   121.000000  "
            ]
          },
          "metadata": {},
          "output_type": "display_data"
        },
        {
          "data": {
            "text/html": [
              "<div>\n",
              "<style scoped>\n",
              "    .dataframe tbody tr th:only-of-type {\n",
              "        vertical-align: middle;\n",
              "    }\n",
              "\n",
              "    .dataframe tbody tr th {\n",
              "        vertical-align: top;\n",
              "    }\n",
              "\n",
              "    .dataframe thead th {\n",
              "        text-align: right;\n",
              "    }\n",
              "</style>\n",
              "<table border=\"1\" class=\"dataframe\">\n",
              "  <thead>\n",
              "    <tr style=\"text-align: right;\">\n",
              "      <th></th>\n",
              "      <th>측정소코드</th>\n",
              "      <th>측정일시</th>\n",
              "      <th>SO2</th>\n",
              "      <th>CO</th>\n",
              "      <th>O3</th>\n",
              "      <th>NO2</th>\n",
              "      <th>PM10</th>\n",
              "      <th>PM25</th>\n",
              "    </tr>\n",
              "  </thead>\n",
              "  <tbody>\n",
              "    <tr>\n",
              "      <th>count</th>\n",
              "      <td>5832.0</td>\n",
              "      <td>5.832000e+03</td>\n",
              "      <td>5588.000000</td>\n",
              "      <td>5798.000000</td>\n",
              "      <td>5771.000000</td>\n",
              "      <td>5798.000000</td>\n",
              "      <td>5792.000000</td>\n",
              "      <td>5793.000000</td>\n",
              "    </tr>\n",
              "    <tr>\n",
              "      <th>mean</th>\n",
              "      <td>111123.0</td>\n",
              "      <td>2.023047e+09</td>\n",
              "      <td>0.003085</td>\n",
              "      <td>0.480479</td>\n",
              "      <td>0.035430</td>\n",
              "      <td>0.020211</td>\n",
              "      <td>40.767438</td>\n",
              "      <td>20.727257</td>\n",
              "    </tr>\n",
              "    <tr>\n",
              "      <th>std</th>\n",
              "      <td>0.0</td>\n",
              "      <td>2.299144e+04</td>\n",
              "      <td>0.000636</td>\n",
              "      <td>0.174263</td>\n",
              "      <td>0.022049</td>\n",
              "      <td>0.012910</td>\n",
              "      <td>33.555825</td>\n",
              "      <td>16.573257</td>\n",
              "    </tr>\n",
              "    <tr>\n",
              "      <th>min</th>\n",
              "      <td>111123.0</td>\n",
              "      <td>2.023010e+09</td>\n",
              "      <td>0.001700</td>\n",
              "      <td>0.210000</td>\n",
              "      <td>0.001300</td>\n",
              "      <td>0.003200</td>\n",
              "      <td>3.000000</td>\n",
              "      <td>1.000000</td>\n",
              "    </tr>\n",
              "    <tr>\n",
              "      <th>25%</th>\n",
              "      <td>111123.0</td>\n",
              "      <td>2.023030e+09</td>\n",
              "      <td>0.002700</td>\n",
              "      <td>0.360000</td>\n",
              "      <td>0.020000</td>\n",
              "      <td>0.011300</td>\n",
              "      <td>21.000000</td>\n",
              "      <td>10.000000</td>\n",
              "    </tr>\n",
              "    <tr>\n",
              "      <th>50%</th>\n",
              "      <td>111123.0</td>\n",
              "      <td>2.023050e+09</td>\n",
              "      <td>0.003000</td>\n",
              "      <td>0.440000</td>\n",
              "      <td>0.032700</td>\n",
              "      <td>0.016250</td>\n",
              "      <td>32.000000</td>\n",
              "      <td>17.000000</td>\n",
              "    </tr>\n",
              "    <tr>\n",
              "      <th>75%</th>\n",
              "      <td>111123.0</td>\n",
              "      <td>2.023070e+09</td>\n",
              "      <td>0.003400</td>\n",
              "      <td>0.550000</td>\n",
              "      <td>0.047200</td>\n",
              "      <td>0.024300</td>\n",
              "      <td>50.000000</td>\n",
              "      <td>26.000000</td>\n",
              "    </tr>\n",
              "    <tr>\n",
              "      <th>max</th>\n",
              "      <td>111123.0</td>\n",
              "      <td>2.023083e+09</td>\n",
              "      <td>0.009300</td>\n",
              "      <td>1.470000</td>\n",
              "      <td>0.185900</td>\n",
              "      <td>0.080100</td>\n",
              "      <td>346.000000</td>\n",
              "      <td>142.000000</td>\n",
              "    </tr>\n",
              "  </tbody>\n",
              "</table>\n",
              "</div>"
            ],
            "text/plain": [
              "          측정소코드          측정일시          SO2           CO           O3  \\\n",
              "count    5832.0  5.832000e+03  5588.000000  5798.000000  5771.000000   \n",
              "mean   111123.0  2.023047e+09     0.003085     0.480479     0.035430   \n",
              "std         0.0  2.299144e+04     0.000636     0.174263     0.022049   \n",
              "min    111123.0  2.023010e+09     0.001700     0.210000     0.001300   \n",
              "25%    111123.0  2.023030e+09     0.002700     0.360000     0.020000   \n",
              "50%    111123.0  2.023050e+09     0.003000     0.440000     0.032700   \n",
              "75%    111123.0  2.023070e+09     0.003400     0.550000     0.047200   \n",
              "max    111123.0  2.023083e+09     0.009300     1.470000     0.185900   \n",
              "\n",
              "               NO2         PM10         PM25  \n",
              "count  5798.000000  5792.000000  5793.000000  \n",
              "mean      0.020211    40.767438    20.727257  \n",
              "std       0.012910    33.555825    16.573257  \n",
              "min       0.003200     3.000000     1.000000  \n",
              "25%       0.011300    21.000000    10.000000  \n",
              "50%       0.016250    32.000000    17.000000  \n",
              "75%       0.024300    50.000000    26.000000  \n",
              "max       0.080100   346.000000   142.000000  "
            ]
          },
          "metadata": {},
          "output_type": "display_data"
        },
        {
          "data": {
            "text/html": [
              "<div>\n",
              "<style scoped>\n",
              "    .dataframe tbody tr th:only-of-type {\n",
              "        vertical-align: middle;\n",
              "    }\n",
              "\n",
              "    .dataframe tbody tr th {\n",
              "        vertical-align: top;\n",
              "    }\n",
              "\n",
              "    .dataframe thead th {\n",
              "        text-align: right;\n",
              "    }\n",
              "</style>\n",
              "<table border=\"1\" class=\"dataframe\">\n",
              "  <thead>\n",
              "    <tr style=\"text-align: right;\">\n",
              "      <th></th>\n",
              "      <th>지점</th>\n",
              "      <th>기온(°C)</th>\n",
              "      <th>기온 QC플래그</th>\n",
              "      <th>강수량(mm)</th>\n",
              "      <th>강수량 QC플래그</th>\n",
              "      <th>풍속(m/s)</th>\n",
              "      <th>풍속 QC플래그</th>\n",
              "      <th>풍향(16방위)</th>\n",
              "      <th>풍향 QC플래그</th>\n",
              "      <th>습도(%)</th>\n",
              "      <th>...</th>\n",
              "      <th>최저운고(100m )</th>\n",
              "      <th>시정(10m)</th>\n",
              "      <th>지면상태(지면상태코드)</th>\n",
              "      <th>현상번호(국내식)</th>\n",
              "      <th>지면온도(°C)</th>\n",
              "      <th>지면온도 QC플래그</th>\n",
              "      <th>5cm 지중온도(°C)</th>\n",
              "      <th>10cm 지중온도(°C)</th>\n",
              "      <th>20cm 지중온도(°C)</th>\n",
              "      <th>30cm 지중온도(°C)</th>\n",
              "    </tr>\n",
              "  </thead>\n",
              "  <tbody>\n",
              "    <tr>\n",
              "      <th>count</th>\n",
              "      <td>8760.0</td>\n",
              "      <td>8760.000000</td>\n",
              "      <td>0.0</td>\n",
              "      <td>939.000000</td>\n",
              "      <td>1568.0</td>\n",
              "      <td>8760.000000</td>\n",
              "      <td>0.0</td>\n",
              "      <td>8760.000000</td>\n",
              "      <td>0.0</td>\n",
              "      <td>8760.000000</td>\n",
              "      <td>...</td>\n",
              "      <td>4455.000000</td>\n",
              "      <td>8760.000000</td>\n",
              "      <td>0.0</td>\n",
              "      <td>1727.000000</td>\n",
              "      <td>8759.000000</td>\n",
              "      <td>15.00000</td>\n",
              "      <td>8759.000000</td>\n",
              "      <td>8759.000000</td>\n",
              "      <td>8759.000000</td>\n",
              "      <td>8759.000000</td>\n",
              "    </tr>\n",
              "    <tr>\n",
              "      <th>mean</th>\n",
              "      <td>108.0</td>\n",
              "      <td>13.293687</td>\n",
              "      <td>NaN</td>\n",
              "      <td>1.890415</td>\n",
              "      <td>9.0</td>\n",
              "      <td>2.370651</td>\n",
              "      <td>NaN</td>\n",
              "      <td>190.046804</td>\n",
              "      <td>NaN</td>\n",
              "      <td>64.513014</td>\n",
              "      <td>...</td>\n",
              "      <td>15.313805</td>\n",
              "      <td>1772.655251</td>\n",
              "      <td>NaN</td>\n",
              "      <td>3563.773596</td>\n",
              "      <td>14.939171</td>\n",
              "      <td>0.60000</td>\n",
              "      <td>14.560521</td>\n",
              "      <td>14.155257</td>\n",
              "      <td>14.000434</td>\n",
              "      <td>14.347037</td>\n",
              "    </tr>\n",
              "    <tr>\n",
              "      <th>std</th>\n",
              "      <td>0.0</td>\n",
              "      <td>11.336825</td>\n",
              "      <td>NaN</td>\n",
              "      <td>4.389308</td>\n",
              "      <td>0.0</td>\n",
              "      <td>1.147396</td>\n",
              "      <td>NaN</td>\n",
              "      <td>105.888658</td>\n",
              "      <td>NaN</td>\n",
              "      <td>18.538028</td>\n",
              "      <td>...</td>\n",
              "      <td>14.066694</td>\n",
              "      <td>463.688136</td>\n",
              "      <td>NaN</td>\n",
              "      <td>29182.459154</td>\n",
              "      <td>13.450504</td>\n",
              "      <td>2.32379</td>\n",
              "      <td>10.514654</td>\n",
              "      <td>10.404981</td>\n",
              "      <td>10.041081</td>\n",
              "      <td>9.676601</td>\n",
              "    </tr>\n",
              "    <tr>\n",
              "      <th>min</th>\n",
              "      <td>108.0</td>\n",
              "      <td>-13.700000</td>\n",
              "      <td>NaN</td>\n",
              "      <td>0.000000</td>\n",
              "      <td>9.0</td>\n",
              "      <td>0.000000</td>\n",
              "      <td>NaN</td>\n",
              "      <td>0.000000</td>\n",
              "      <td>NaN</td>\n",
              "      <td>17.000000</td>\n",
              "      <td>...</td>\n",
              "      <td>1.000000</td>\n",
              "      <td>44.000000</td>\n",
              "      <td>NaN</td>\n",
              "      <td>1.000000</td>\n",
              "      <td>-10.500000</td>\n",
              "      <td>0.00000</td>\n",
              "      <td>-2.400000</td>\n",
              "      <td>-2.400000</td>\n",
              "      <td>-1.400000</td>\n",
              "      <td>-0.300000</td>\n",
              "    </tr>\n",
              "    <tr>\n",
              "      <th>25%</th>\n",
              "      <td>108.0</td>\n",
              "      <td>4.200000</td>\n",
              "      <td>NaN</td>\n",
              "      <td>0.000000</td>\n",
              "      <td>9.0</td>\n",
              "      <td>1.600000</td>\n",
              "      <td>NaN</td>\n",
              "      <td>70.000000</td>\n",
              "      <td>NaN</td>\n",
              "      <td>50.000000</td>\n",
              "      <td>...</td>\n",
              "      <td>7.000000</td>\n",
              "      <td>1912.750000</td>\n",
              "      <td>NaN</td>\n",
              "      <td>1.000000</td>\n",
              "      <td>3.600000</td>\n",
              "      <td>0.00000</td>\n",
              "      <td>2.800000</td>\n",
              "      <td>2.700000</td>\n",
              "      <td>3.300000</td>\n",
              "      <td>4.600000</td>\n",
              "    </tr>\n",
              "    <tr>\n",
              "      <th>50%</th>\n",
              "      <td>108.0</td>\n",
              "      <td>14.800000</td>\n",
              "      <td>NaN</td>\n",
              "      <td>0.100000</td>\n",
              "      <td>9.0</td>\n",
              "      <td>2.200000</td>\n",
              "      <td>NaN</td>\n",
              "      <td>230.000000</td>\n",
              "      <td>NaN</td>\n",
              "      <td>65.000000</td>\n",
              "      <td>...</td>\n",
              "      <td>10.000000</td>\n",
              "      <td>2000.000000</td>\n",
              "      <td>NaN</td>\n",
              "      <td>19.000000</td>\n",
              "      <td>15.000000</td>\n",
              "      <td>0.00000</td>\n",
              "      <td>15.500000</td>\n",
              "      <td>15.300000</td>\n",
              "      <td>15.200000</td>\n",
              "      <td>15.500000</td>\n",
              "    </tr>\n",
              "    <tr>\n",
              "      <th>75%</th>\n",
              "      <td>108.0</td>\n",
              "      <td>23.200000</td>\n",
              "      <td>NaN</td>\n",
              "      <td>1.600000</td>\n",
              "      <td>9.0</td>\n",
              "      <td>3.000000</td>\n",
              "      <td>NaN</td>\n",
              "      <td>270.000000</td>\n",
              "      <td>NaN</td>\n",
              "      <td>79.000000</td>\n",
              "      <td>...</td>\n",
              "      <td>16.000000</td>\n",
              "      <td>2000.000000</td>\n",
              "      <td>NaN</td>\n",
              "      <td>42.000000</td>\n",
              "      <td>24.700000</td>\n",
              "      <td>0.00000</td>\n",
              "      <td>24.200000</td>\n",
              "      <td>23.600000</td>\n",
              "      <td>23.100000</td>\n",
              "      <td>23.050000</td>\n",
              "    </tr>\n",
              "    <tr>\n",
              "      <th>max</th>\n",
              "      <td>108.0</td>\n",
              "      <td>35.600000</td>\n",
              "      <td>NaN</td>\n",
              "      <td>40.700000</td>\n",
              "      <td>9.0</td>\n",
              "      <td>8.800000</td>\n",
              "      <td>NaN</td>\n",
              "      <td>360.000000</td>\n",
              "      <td>NaN</td>\n",
              "      <td>100.000000</td>\n",
              "      <td>...</td>\n",
              "      <td>77.000000</td>\n",
              "      <td>2000.000000</td>\n",
              "      <td>NaN</td>\n",
              "      <td>421905.000000</td>\n",
              "      <td>59.800000</td>\n",
              "      <td>9.00000</td>\n",
              "      <td>33.300000</td>\n",
              "      <td>31.900000</td>\n",
              "      <td>30.200000</td>\n",
              "      <td>29.200000</td>\n",
              "    </tr>\n",
              "  </tbody>\n",
              "</table>\n",
              "<p>8 rows × 35 columns</p>\n",
              "</div>"
            ],
            "text/plain": [
              "           지점       기온(°C)  기온 QC플래그     강수량(mm)  강수량 QC플래그      풍속(m/s)  \\\n",
              "count  8760.0  8760.000000       0.0  939.000000     1568.0  8760.000000   \n",
              "mean    108.0    13.293687       NaN    1.890415        9.0     2.370651   \n",
              "std       0.0    11.336825       NaN    4.389308        0.0     1.147396   \n",
              "min     108.0   -13.700000       NaN    0.000000        9.0     0.000000   \n",
              "25%     108.0     4.200000       NaN    0.000000        9.0     1.600000   \n",
              "50%     108.0    14.800000       NaN    0.100000        9.0     2.200000   \n",
              "75%     108.0    23.200000       NaN    1.600000        9.0     3.000000   \n",
              "max     108.0    35.600000       NaN   40.700000        9.0     8.800000   \n",
              "\n",
              "       풍속 QC플래그     풍향(16방위)  풍향 QC플래그        습도(%)  ...  최저운고(100m )  \\\n",
              "count       0.0  8760.000000       0.0  8760.000000  ...  4455.000000   \n",
              "mean        NaN   190.046804       NaN    64.513014  ...    15.313805   \n",
              "std         NaN   105.888658       NaN    18.538028  ...    14.066694   \n",
              "min         NaN     0.000000       NaN    17.000000  ...     1.000000   \n",
              "25%         NaN    70.000000       NaN    50.000000  ...     7.000000   \n",
              "50%         NaN   230.000000       NaN    65.000000  ...    10.000000   \n",
              "75%         NaN   270.000000       NaN    79.000000  ...    16.000000   \n",
              "max         NaN   360.000000       NaN   100.000000  ...    77.000000   \n",
              "\n",
              "           시정(10m)  지면상태(지면상태코드)      현상번호(국내식)     지면온도(°C)  지면온도 QC플래그  \\\n",
              "count  8760.000000           0.0    1727.000000  8759.000000    15.00000   \n",
              "mean   1772.655251           NaN    3563.773596    14.939171     0.60000   \n",
              "std     463.688136           NaN   29182.459154    13.450504     2.32379   \n",
              "min      44.000000           NaN       1.000000   -10.500000     0.00000   \n",
              "25%    1912.750000           NaN       1.000000     3.600000     0.00000   \n",
              "50%    2000.000000           NaN      19.000000    15.000000     0.00000   \n",
              "75%    2000.000000           NaN      42.000000    24.700000     0.00000   \n",
              "max    2000.000000           NaN  421905.000000    59.800000     9.00000   \n",
              "\n",
              "       5cm 지중온도(°C)  10cm 지중온도(°C)  20cm 지중온도(°C)  30cm 지중온도(°C)  \n",
              "count   8759.000000    8759.000000    8759.000000    8759.000000  \n",
              "mean      14.560521      14.155257      14.000434      14.347037  \n",
              "std       10.514654      10.404981      10.041081       9.676601  \n",
              "min       -2.400000      -2.400000      -1.400000      -0.300000  \n",
              "25%        2.800000       2.700000       3.300000       4.600000  \n",
              "50%       15.500000      15.300000      15.200000      15.500000  \n",
              "75%       24.200000      23.600000      23.100000      23.050000  \n",
              "max       33.300000      31.900000      30.200000      29.200000  \n",
              "\n",
              "[8 rows x 35 columns]"
            ]
          },
          "metadata": {},
          "output_type": "display_data"
        },
        {
          "data": {
            "text/html": [
              "<div>\n",
              "<style scoped>\n",
              "    .dataframe tbody tr th:only-of-type {\n",
              "        vertical-align: middle;\n",
              "    }\n",
              "\n",
              "    .dataframe tbody tr th {\n",
              "        vertical-align: top;\n",
              "    }\n",
              "\n",
              "    .dataframe thead th {\n",
              "        text-align: right;\n",
              "    }\n",
              "</style>\n",
              "<table border=\"1\" class=\"dataframe\">\n",
              "  <thead>\n",
              "    <tr style=\"text-align: right;\">\n",
              "      <th></th>\n",
              "      <th>지점</th>\n",
              "      <th>기온(°C)</th>\n",
              "      <th>기온 QC플래그</th>\n",
              "      <th>강수량(mm)</th>\n",
              "      <th>강수량 QC플래그</th>\n",
              "      <th>풍속(m/s)</th>\n",
              "      <th>풍속 QC플래그</th>\n",
              "      <th>풍향(16방위)</th>\n",
              "      <th>풍향 QC플래그</th>\n",
              "      <th>습도(%)</th>\n",
              "      <th>...</th>\n",
              "      <th>최저운고(100m )</th>\n",
              "      <th>시정(10m)</th>\n",
              "      <th>지면상태(지면상태코드)</th>\n",
              "      <th>현상번호(국내식)</th>\n",
              "      <th>지면온도(°C)</th>\n",
              "      <th>지면온도 QC플래그</th>\n",
              "      <th>5cm 지중온도(°C)</th>\n",
              "      <th>10cm 지중온도(°C)</th>\n",
              "      <th>20cm 지중온도(°C)</th>\n",
              "      <th>30cm 지중온도(°C)</th>\n",
              "    </tr>\n",
              "  </thead>\n",
              "  <tbody>\n",
              "    <tr>\n",
              "      <th>count</th>\n",
              "      <td>5832.0</td>\n",
              "      <td>5832.000000</td>\n",
              "      <td>0.0</td>\n",
              "      <td>809.000000</td>\n",
              "      <td>935.0</td>\n",
              "      <td>5832.000000</td>\n",
              "      <td>0.0</td>\n",
              "      <td>5832.000000</td>\n",
              "      <td>0.0</td>\n",
              "      <td>5832.000000</td>\n",
              "      <td>...</td>\n",
              "      <td>3143.000000</td>\n",
              "      <td>5832.000000</td>\n",
              "      <td>0.0</td>\n",
              "      <td>1.655000e+03</td>\n",
              "      <td>5832.000000</td>\n",
              "      <td>8.0</td>\n",
              "      <td>5832.000000</td>\n",
              "      <td>5832.000000</td>\n",
              "      <td>5832.000000</td>\n",
              "      <td>5832.000000</td>\n",
              "    </tr>\n",
              "    <tr>\n",
              "      <th>mean</th>\n",
              "      <td>108.0</td>\n",
              "      <td>15.269462</td>\n",
              "      <td>NaN</td>\n",
              "      <td>1.564277</td>\n",
              "      <td>9.0</td>\n",
              "      <td>2.298182</td>\n",
              "      <td>NaN</td>\n",
              "      <td>187.042181</td>\n",
              "      <td>NaN</td>\n",
              "      <td>65.725309</td>\n",
              "      <td>...</td>\n",
              "      <td>15.374483</td>\n",
              "      <td>1663.644204</td>\n",
              "      <td>NaN</td>\n",
              "      <td>2.836398e+04</td>\n",
              "      <td>16.701938</td>\n",
              "      <td>0.0</td>\n",
              "      <td>15.478069</td>\n",
              "      <td>15.181190</td>\n",
              "      <td>14.634019</td>\n",
              "      <td>14.739300</td>\n",
              "    </tr>\n",
              "    <tr>\n",
              "      <th>std</th>\n",
              "      <td>0.0</td>\n",
              "      <td>11.100204</td>\n",
              "      <td>NaN</td>\n",
              "      <td>3.684147</td>\n",
              "      <td>0.0</td>\n",
              "      <td>1.079776</td>\n",
              "      <td>NaN</td>\n",
              "      <td>103.020643</td>\n",
              "      <td>NaN</td>\n",
              "      <td>20.220581</td>\n",
              "      <td>...</td>\n",
              "      <td>14.690920</td>\n",
              "      <td>547.207001</td>\n",
              "      <td>NaN</td>\n",
              "      <td>6.646837e+05</td>\n",
              "      <td>13.647934</td>\n",
              "      <td>0.0</td>\n",
              "      <td>10.839872</td>\n",
              "      <td>10.895837</td>\n",
              "      <td>10.453547</td>\n",
              "      <td>10.116525</td>\n",
              "    </tr>\n",
              "    <tr>\n",
              "      <th>min</th>\n",
              "      <td>108.0</td>\n",
              "      <td>-17.200000</td>\n",
              "      <td>NaN</td>\n",
              "      <td>0.000000</td>\n",
              "      <td>9.0</td>\n",
              "      <td>0.000000</td>\n",
              "      <td>NaN</td>\n",
              "      <td>0.000000</td>\n",
              "      <td>NaN</td>\n",
              "      <td>15.000000</td>\n",
              "      <td>...</td>\n",
              "      <td>1.000000</td>\n",
              "      <td>23.000000</td>\n",
              "      <td>NaN</td>\n",
              "      <td>1.000000e+00</td>\n",
              "      <td>-11.400000</td>\n",
              "      <td>0.0</td>\n",
              "      <td>-3.600000</td>\n",
              "      <td>-3.500000</td>\n",
              "      <td>-2.200000</td>\n",
              "      <td>-0.400000</td>\n",
              "    </tr>\n",
              "    <tr>\n",
              "      <th>25%</th>\n",
              "      <td>108.0</td>\n",
              "      <td>6.100000</td>\n",
              "      <td>NaN</td>\n",
              "      <td>0.000000</td>\n",
              "      <td>9.0</td>\n",
              "      <td>1.500000</td>\n",
              "      <td>NaN</td>\n",
              "      <td>70.000000</td>\n",
              "      <td>NaN</td>\n",
              "      <td>51.000000</td>\n",
              "      <td>...</td>\n",
              "      <td>6.000000</td>\n",
              "      <td>1435.000000</td>\n",
              "      <td>NaN</td>\n",
              "      <td>2.000000e+00</td>\n",
              "      <td>3.800000</td>\n",
              "      <td>0.0</td>\n",
              "      <td>4.300000</td>\n",
              "      <td>4.000000</td>\n",
              "      <td>3.600000</td>\n",
              "      <td>3.800000</td>\n",
              "    </tr>\n",
              "    <tr>\n",
              "      <th>50%</th>\n",
              "      <td>108.0</td>\n",
              "      <td>17.600000</td>\n",
              "      <td>NaN</td>\n",
              "      <td>0.100000</td>\n",
              "      <td>9.0</td>\n",
              "      <td>2.200000</td>\n",
              "      <td>NaN</td>\n",
              "      <td>230.000000</td>\n",
              "      <td>NaN</td>\n",
              "      <td>67.000000</td>\n",
              "      <td>...</td>\n",
              "      <td>10.000000</td>\n",
              "      <td>2000.000000</td>\n",
              "      <td>NaN</td>\n",
              "      <td>1.900000e+01</td>\n",
              "      <td>18.000000</td>\n",
              "      <td>0.0</td>\n",
              "      <td>16.800000</td>\n",
              "      <td>16.300000</td>\n",
              "      <td>15.500000</td>\n",
              "      <td>15.350000</td>\n",
              "    </tr>\n",
              "    <tr>\n",
              "      <th>75%</th>\n",
              "      <td>108.0</td>\n",
              "      <td>24.800000</td>\n",
              "      <td>NaN</td>\n",
              "      <td>1.400000</td>\n",
              "      <td>9.0</td>\n",
              "      <td>2.900000</td>\n",
              "      <td>NaN</td>\n",
              "      <td>270.000000</td>\n",
              "      <td>NaN</td>\n",
              "      <td>82.000000</td>\n",
              "      <td>...</td>\n",
              "      <td>16.000000</td>\n",
              "      <td>2000.000000</td>\n",
              "      <td>NaN</td>\n",
              "      <td>1.901000e+03</td>\n",
              "      <td>25.600000</td>\n",
              "      <td>0.0</td>\n",
              "      <td>25.400000</td>\n",
              "      <td>25.200000</td>\n",
              "      <td>24.400000</td>\n",
              "      <td>24.500000</td>\n",
              "    </tr>\n",
              "    <tr>\n",
              "      <th>max</th>\n",
              "      <td>108.0</td>\n",
              "      <td>35.800000</td>\n",
              "      <td>NaN</td>\n",
              "      <td>34.700000</td>\n",
              "      <td>9.0</td>\n",
              "      <td>7.600000</td>\n",
              "      <td>NaN</td>\n",
              "      <td>360.000000</td>\n",
              "      <td>NaN</td>\n",
              "      <td>100.000000</td>\n",
              "      <td>...</td>\n",
              "      <td>76.000000</td>\n",
              "      <td>2000.000000</td>\n",
              "      <td>NaN</td>\n",
              "      <td>1.916020e+07</td>\n",
              "      <td>58.000000</td>\n",
              "      <td>0.0</td>\n",
              "      <td>32.900000</td>\n",
              "      <td>32.000000</td>\n",
              "      <td>30.000000</td>\n",
              "      <td>29.100000</td>\n",
              "    </tr>\n",
              "  </tbody>\n",
              "</table>\n",
              "<p>8 rows × 35 columns</p>\n",
              "</div>"
            ],
            "text/plain": [
              "           지점       기온(°C)  기온 QC플래그     강수량(mm)  강수량 QC플래그      풍속(m/s)  \\\n",
              "count  5832.0  5832.000000       0.0  809.000000      935.0  5832.000000   \n",
              "mean    108.0    15.269462       NaN    1.564277        9.0     2.298182   \n",
              "std       0.0    11.100204       NaN    3.684147        0.0     1.079776   \n",
              "min     108.0   -17.200000       NaN    0.000000        9.0     0.000000   \n",
              "25%     108.0     6.100000       NaN    0.000000        9.0     1.500000   \n",
              "50%     108.0    17.600000       NaN    0.100000        9.0     2.200000   \n",
              "75%     108.0    24.800000       NaN    1.400000        9.0     2.900000   \n",
              "max     108.0    35.800000       NaN   34.700000        9.0     7.600000   \n",
              "\n",
              "       풍속 QC플래그     풍향(16방위)  풍향 QC플래그        습도(%)  ...  최저운고(100m )  \\\n",
              "count       0.0  5832.000000       0.0  5832.000000  ...  3143.000000   \n",
              "mean        NaN   187.042181       NaN    65.725309  ...    15.374483   \n",
              "std         NaN   103.020643       NaN    20.220581  ...    14.690920   \n",
              "min         NaN     0.000000       NaN    15.000000  ...     1.000000   \n",
              "25%         NaN    70.000000       NaN    51.000000  ...     6.000000   \n",
              "50%         NaN   230.000000       NaN    67.000000  ...    10.000000   \n",
              "75%         NaN   270.000000       NaN    82.000000  ...    16.000000   \n",
              "max         NaN   360.000000       NaN   100.000000  ...    76.000000   \n",
              "\n",
              "           시정(10m)  지면상태(지면상태코드)     현상번호(국내식)     지면온도(°C)  지면온도 QC플래그  \\\n",
              "count  5832.000000           0.0  1.655000e+03  5832.000000         8.0   \n",
              "mean   1663.644204           NaN  2.836398e+04    16.701938         0.0   \n",
              "std     547.207001           NaN  6.646837e+05    13.647934         0.0   \n",
              "min      23.000000           NaN  1.000000e+00   -11.400000         0.0   \n",
              "25%    1435.000000           NaN  2.000000e+00     3.800000         0.0   \n",
              "50%    2000.000000           NaN  1.900000e+01    18.000000         0.0   \n",
              "75%    2000.000000           NaN  1.901000e+03    25.600000         0.0   \n",
              "max    2000.000000           NaN  1.916020e+07    58.000000         0.0   \n",
              "\n",
              "       5cm 지중온도(°C)  10cm 지중온도(°C)  20cm 지중온도(°C)  30cm 지중온도(°C)  \n",
              "count   5832.000000    5832.000000    5832.000000    5832.000000  \n",
              "mean      15.478069      15.181190      14.634019      14.739300  \n",
              "std       10.839872      10.895837      10.453547      10.116525  \n",
              "min       -3.600000      -3.500000      -2.200000      -0.400000  \n",
              "25%        4.300000       4.000000       3.600000       3.800000  \n",
              "50%       16.800000      16.300000      15.500000      15.350000  \n",
              "75%       25.400000      25.200000      24.400000      24.500000  \n",
              "max       32.900000      32.000000      30.000000      29.100000  \n",
              "\n",
              "[8 rows x 35 columns]"
            ]
          },
          "metadata": {},
          "output_type": "display_data"
        }
      ],
      "source": [
        "# 아래에 실습코드를 작성하고 결과를 확인합니다.\n",
        "display(air_22.describe())\n",
        "display(air_23.describe())\n",
        "display(weather_22.describe())\n",
        "display(weather_23.describe())"
      ]
    },
    {
      "cell_type": "code",
      "execution_count": null,
      "id": "a1462d6a-d324-43ee-bdfa-179ce1508285",
      "metadata": {
        "tags": [],
        "id": "a1462d6a-d324-43ee-bdfa-179ce1508285",
        "outputId": "c5a85041-dd54-420a-80c8-b02da6b06f22"
      },
      "outputs": [
        {
          "data": {
            "text/plain": [
              "'2022-01-02 00:00'"
            ]
          },
          "execution_count": 9,
          "metadata": {},
          "output_type": "execute_result"
        }
      ],
      "source": [
        "weather_22['일시'][24]"
      ]
    },
    {
      "cell_type": "code",
      "execution_count": null,
      "id": "6e5d2bf2",
      "metadata": {
        "tags": [],
        "id": "6e5d2bf2",
        "outputId": "af915a52-b6f0-4a68-e54b-19a75d5bb643"
      },
      "outputs": [
        {
          "name": "stdout",
          "output_type": "stream",
          "text": [
            "<class 'pandas.core.frame.DataFrame'>\n",
            "Index: 8760 entries, 0 to 8759\n",
            "Data columns (total 12 columns):\n",
            " #   Column  Non-Null Count  Dtype  \n",
            "---  ------  --------------  -----  \n",
            " 0   지역      8760 non-null   object \n",
            " 1   망       8760 non-null   object \n",
            " 2   측정소코드   8760 non-null   int64  \n",
            " 3   측정소명    8760 non-null   object \n",
            " 4   측정일시    8760 non-null   int64  \n",
            " 5   SO2     8673 non-null   float64\n",
            " 6   CO      8673 non-null   float64\n",
            " 7   O3      8673 non-null   float64\n",
            " 8   NO2     8673 non-null   float64\n",
            " 9   PM10    8604 non-null   float64\n",
            " 10  PM25    8655 non-null   float64\n",
            " 11  주소      8760 non-null   object \n",
            "dtypes: float64(6), int64(2), object(4)\n",
            "memory usage: 889.7+ KB\n"
          ]
        },
        {
          "data": {
            "text/plain": [
              "None"
            ]
          },
          "metadata": {},
          "output_type": "display_data"
        },
        {
          "name": "stdout",
          "output_type": "stream",
          "text": [
            "<class 'pandas.core.frame.DataFrame'>\n",
            "Index: 5832 entries, 0 to 5831\n",
            "Data columns (total 12 columns):\n",
            " #   Column  Non-Null Count  Dtype  \n",
            "---  ------  --------------  -----  \n",
            " 0   지역      5832 non-null   object \n",
            " 1   망       5832 non-null   object \n",
            " 2   측정소코드   5832 non-null   int64  \n",
            " 3   측정소명    5832 non-null   object \n",
            " 4   측정일시    5832 non-null   int64  \n",
            " 5   SO2     5588 non-null   float64\n",
            " 6   CO      5798 non-null   float64\n",
            " 7   O3      5771 non-null   float64\n",
            " 8   NO2     5798 non-null   float64\n",
            " 9   PM10    5792 non-null   float64\n",
            " 10  PM25    5793 non-null   float64\n",
            " 11  주소      5832 non-null   object \n",
            "dtypes: float64(6), int64(2), object(4)\n",
            "memory usage: 592.3+ KB\n"
          ]
        },
        {
          "data": {
            "text/plain": [
              "None"
            ]
          },
          "metadata": {},
          "output_type": "display_data"
        },
        {
          "name": "stdout",
          "output_type": "stream",
          "text": [
            "<class 'pandas.core.frame.DataFrame'>\n",
            "RangeIndex: 8760 entries, 0 to 8759\n",
            "Data columns (total 38 columns):\n",
            " #   Column         Non-Null Count  Dtype  \n",
            "---  ------         --------------  -----  \n",
            " 0   지점             8760 non-null   int64  \n",
            " 1   지점명            8760 non-null   object \n",
            " 2   일시             8760 non-null   object \n",
            " 3   기온(°C)         8760 non-null   float64\n",
            " 4   기온 QC플래그       0 non-null      float64\n",
            " 5   강수량(mm)        939 non-null    float64\n",
            " 6   강수량 QC플래그      1568 non-null   float64\n",
            " 7   풍속(m/s)        8760 non-null   float64\n",
            " 8   풍속 QC플래그       0 non-null      float64\n",
            " 9   풍향(16방위)       8760 non-null   int64  \n",
            " 10  풍향 QC플래그       0 non-null      float64\n",
            " 11  습도(%)          8760 non-null   int64  \n",
            " 12  습도 QC플래그       0 non-null      float64\n",
            " 13  증기압(hPa)       8760 non-null   float64\n",
            " 14  이슬점온도(°C)      8760 non-null   float64\n",
            " 15  현지기압(hPa)      8760 non-null   float64\n",
            " 16  현지기압 QC플래그     0 non-null      float64\n",
            " 17  해면기압(hPa)      8760 non-null   float64\n",
            " 18  해면기압 QC플래그     0 non-null      float64\n",
            " 19  일조(hr)         4791 non-null   float64\n",
            " 20  일조 QC플래그       3969 non-null   float64\n",
            " 21  일사(MJ/m2)      4791 non-null   float64\n",
            " 22  일사 QC플래그       3970 non-null   float64\n",
            " 23  적설(cm)         489 non-null    float64\n",
            " 24  3시간신적설(cm)     31 non-null     float64\n",
            " 25  전운량(10분위)      8760 non-null   int64  \n",
            " 26  중하층운량(10분위)    8760 non-null   int64  \n",
            " 27  운형(운형약어)       4815 non-null   object \n",
            " 28  최저운고(100m )    4455 non-null   float64\n",
            " 29  시정(10m)        8760 non-null   int64  \n",
            " 30  지면상태(지면상태코드)   0 non-null      float64\n",
            " 31  현상번호(국내식)      1727 non-null   float64\n",
            " 32  지면온도(°C)       8759 non-null   float64\n",
            " 33  지면온도 QC플래그     15 non-null     float64\n",
            " 34  5cm 지중온도(°C)   8759 non-null   float64\n",
            " 35  10cm 지중온도(°C)  8759 non-null   float64\n",
            " 36  20cm 지중온도(°C)  8759 non-null   float64\n",
            " 37  30cm 지중온도(°C)  8759 non-null   float64\n",
            "dtypes: float64(29), int64(6), object(3)\n",
            "memory usage: 2.5+ MB\n"
          ]
        },
        {
          "data": {
            "text/plain": [
              "None"
            ]
          },
          "metadata": {},
          "output_type": "display_data"
        },
        {
          "name": "stdout",
          "output_type": "stream",
          "text": [
            "<class 'pandas.core.frame.DataFrame'>\n",
            "RangeIndex: 5832 entries, 0 to 5831\n",
            "Data columns (total 38 columns):\n",
            " #   Column         Non-Null Count  Dtype  \n",
            "---  ------         --------------  -----  \n",
            " 0   지점             5832 non-null   int64  \n",
            " 1   지점명            5832 non-null   object \n",
            " 2   일시             5832 non-null   object \n",
            " 3   기온(°C)         5832 non-null   float64\n",
            " 4   기온 QC플래그       0 non-null      float64\n",
            " 5   강수량(mm)        809 non-null    float64\n",
            " 6   강수량 QC플래그      935 non-null    float64\n",
            " 7   풍속(m/s)        5832 non-null   float64\n",
            " 8   풍속 QC플래그       0 non-null      float64\n",
            " 9   풍향(16방위)       5832 non-null   int64  \n",
            " 10  풍향 QC플래그       0 non-null      float64\n",
            " 11  습도(%)          5832 non-null   int64  \n",
            " 12  습도 QC플래그       0 non-null      float64\n",
            " 13  증기압(hPa)       5832 non-null   float64\n",
            " 14  이슬점온도(°C)      5832 non-null   float64\n",
            " 15  현지기압(hPa)      5832 non-null   float64\n",
            " 16  현지기압 QC플래그     0 non-null      float64\n",
            " 17  해면기압(hPa)      5832 non-null   float64\n",
            " 18  해면기압 QC플래그     0 non-null      float64\n",
            " 19  일조(hr)         3343 non-null   float64\n",
            " 20  일조 QC플래그       2489 non-null   float64\n",
            " 21  일사(MJ/m2)      3343 non-null   float64\n",
            " 22  일사 QC플래그       2489 non-null   float64\n",
            " 23  적설(cm)         76 non-null     float64\n",
            " 24  3시간신적설(cm)     9 non-null      float64\n",
            " 25  전운량(10분위)      5832 non-null   int64  \n",
            " 26  중하층운량(10분위)    5832 non-null   int64  \n",
            " 27  운형(운형약어)       3378 non-null   object \n",
            " 28  최저운고(100m )    3143 non-null   float64\n",
            " 29  시정(10m)        5832 non-null   int64  \n",
            " 30  지면상태(지면상태코드)   0 non-null      float64\n",
            " 31  현상번호(국내식)      1655 non-null   float64\n",
            " 32  지면온도(°C)       5832 non-null   float64\n",
            " 33  지면온도 QC플래그     8 non-null      float64\n",
            " 34  5cm 지중온도(°C)   5832 non-null   float64\n",
            " 35  10cm 지중온도(°C)  5832 non-null   float64\n",
            " 36  20cm 지중온도(°C)  5832 non-null   float64\n",
            " 37  30cm 지중온도(°C)  5832 non-null   float64\n",
            "dtypes: float64(29), int64(6), object(3)\n",
            "memory usage: 1.7+ MB\n"
          ]
        },
        {
          "data": {
            "text/plain": [
              "None"
            ]
          },
          "metadata": {},
          "output_type": "display_data"
        }
      ],
      "source": [
        "# 아래에 실습코드를 작성하고 결과를 확인합니다.\n",
        "display(air_22.info())\n",
        "display(air_23.info())\n",
        "display(weather_22.info())\n",
        "display(weather_23.info())"
      ]
    },
    {
      "cell_type": "code",
      "execution_count": null,
      "id": "eadabeec-1422-4be8-b2b8-d1e8db033723",
      "metadata": {
        "tags": [],
        "id": "eadabeec-1422-4be8-b2b8-d1e8db033723",
        "outputId": "7925250f-dc52-4d18-f033-cdeecbd99934"
      },
      "outputs": [
        {
          "data": {
            "text/plain": [
              "지점                  0\n",
              "지점명                 0\n",
              "일시                  0\n",
              "기온(°C)              0\n",
              "기온 QC플래그         8760\n",
              "강수량(mm)          7821\n",
              "강수량 QC플래그        7192\n",
              "풍속(m/s)             0\n",
              "풍속 QC플래그         8760\n",
              "풍향(16방위)            0\n",
              "풍향 QC플래그         8760\n",
              "습도(%)               0\n",
              "습도 QC플래그         8760\n",
              "증기압(hPa)            0\n",
              "이슬점온도(°C)           0\n",
              "현지기압(hPa)           0\n",
              "현지기압 QC플래그       8760\n",
              "해면기압(hPa)           0\n",
              "해면기압 QC플래그       8760\n",
              "일조(hr)           3969\n",
              "일조 QC플래그         4791\n",
              "일사(MJ/m2)        3969\n",
              "일사 QC플래그         4790\n",
              "적설(cm)           8271\n",
              "3시간신적설(cm)       8729\n",
              "전운량(10분위)           0\n",
              "중하층운량(10분위)         0\n",
              "운형(운형약어)         3945\n",
              "최저운고(100m )      4305\n",
              "시정(10m)             0\n",
              "지면상태(지면상태코드)     8760\n",
              "현상번호(국내식)        7033\n",
              "지면온도(°C)            1\n",
              "지면온도 QC플래그       8745\n",
              "5cm 지중온도(°C)        1\n",
              "10cm 지중온도(°C)       1\n",
              "20cm 지중온도(°C)       1\n",
              "30cm 지중온도(°C)       1\n",
              "dtype: int64"
            ]
          },
          "execution_count": 11,
          "metadata": {},
          "output_type": "execute_result"
        }
      ],
      "source": [
        "weather_22.isna().sum()"
      ]
    },
    {
      "cell_type": "markdown",
      "id": "3d860d6b",
      "metadata": {
        "id": "3d860d6b"
      },
      "source": [
        "## **2.EDA 1단계 - 데이터 기본 탐색 및 분석**\n",
        "\n",
        "* 단변량 분석은 데이터분석의 매우 기초적인 분석기법으로, 독립적인 개별 변수가 가지고있는 특성들을 이해하는 과정입니다.\n",
        "\n",
        "    * <span style=\"color: green\"> 개별 변수에 대해 아래 사항들을 분석해보세요. </span>\n",
        "\n",
        "        1. 변수가 내포하고 있는 의미\n",
        "        2. 변수가 수치형인지, 범주형인지\n",
        "        3. 결측치 존재 여부 및 조치 방안\n",
        "        4. 기초 통계량 확인\n",
        "        5. 데이터 분포 확인\n",
        "        6. 위 정보로부터 파악한 내용 정리\n",
        "        7. 추가 분석사항 도출"
      ]
    },
    {
      "cell_type": "markdown",
      "id": "a7f8c42f",
      "metadata": {
        "id": "a7f8c42f"
      },
      "source": [
        "### (1) 변수별 단변량 분석\n",
        "- 4 ~ 5개 변수를 선택해서 위 1~6번을 확인해보세요 (7번은 선택)"
      ]
    },
    {
      "cell_type": "markdown",
      "id": "883c8d2d",
      "metadata": {
        "tags": [],
        "id": "883c8d2d"
      },
      "source": [
        "#### **[예시] 1) Feature1 : 측정일시**"
      ]
    },
    {
      "cell_type": "markdown",
      "id": "ef6422db",
      "metadata": {
        "id": "ef6422db"
      },
      "source": [
        "**1. 변수가 내포하고 있는 의미**"
      ]
    },
    {
      "cell_type": "code",
      "execution_count": null,
      "id": "70748961",
      "metadata": {
        "tags": [],
        "id": "70748961",
        "outputId": "546a2a90-c6b2-469c-bcaa-f0ae52620278"
      },
      "outputs": [
        {
          "data": {
            "text/plain": [
              "0       2022010101\n",
              "1       2022010102\n",
              "2       2022010103\n",
              "3       2022010104\n",
              "4       2022010105\n",
              "           ...    \n",
              "8755    2022123120\n",
              "8756    2022123121\n",
              "8757    2022123122\n",
              "8758    2022123123\n",
              "8759    2022123124\n",
              "Name: 측정일시, Length: 8760, dtype: int64"
            ]
          },
          "execution_count": 12,
          "metadata": {},
          "output_type": "execute_result"
        }
      ],
      "source": [
        "# 고민하고 확인해봅시다.\n",
        "air_22['측정일시']"
      ]
    },
    {
      "cell_type": "markdown",
      "id": "a1dd9478",
      "metadata": {
        "id": "a1dd9478"
      },
      "source": [
        "**2. 변수가 수치형인지 범주형인지**\n",
        "  - 날짜는 범주형? 수치형?"
      ]
    },
    {
      "cell_type": "code",
      "execution_count": null,
      "id": "71c2eb29",
      "metadata": {
        "tags": [],
        "id": "71c2eb29",
        "outputId": "8ccf8173-3a71-4937-c6a8-8ea49caab647"
      },
      "outputs": [
        {
          "name": "stdout",
          "output_type": "stream",
          "text": [
            "2022010102\n",
            "<class 'numpy.int64'>\n"
          ]
        }
      ],
      "source": [
        "# 고민하고 확인해봅시다.\n",
        "print(air_22['측정일시'][1])\n",
        "print(type(air_22['측정일시'][1]))"
      ]
    },
    {
      "cell_type": "markdown",
      "id": "e19390d9",
      "metadata": {
        "id": "e19390d9"
      },
      "source": [
        "**3. 변수의 결측치 존재 여부 및 조치 방안**"
      ]
    },
    {
      "cell_type": "code",
      "execution_count": null,
      "id": "ba8ccde5",
      "metadata": {
        "tags": [],
        "id": "ba8ccde5",
        "outputId": "82d82627-db14-443f-ef07-3aadfe54be19"
      },
      "outputs": [
        {
          "data": {
            "text/plain": [
              "0"
            ]
          },
          "execution_count": 14,
          "metadata": {},
          "output_type": "execute_result"
        }
      ],
      "source": [
        "# 고민하고 확인해봅시다.\n",
        "air_22['측정일시'].isna().sum()"
      ]
    },
    {
      "cell_type": "markdown",
      "id": "c4298881",
      "metadata": {
        "id": "c4298881"
      },
      "source": [
        "**4.변수의 기초 통계량 확인**"
      ]
    },
    {
      "cell_type": "code",
      "execution_count": null,
      "id": "05f34abb",
      "metadata": {
        "tags": [],
        "id": "05f34abb",
        "outputId": "99c48181-1b65-463b-9fbd-fbb7fa051881"
      },
      "outputs": [
        {
          "data": {
            "text/plain": [
              "count    8.760000e+03\n",
              "mean     2.022067e+09\n",
              "std      3.450216e+04\n",
              "min      2.022010e+09\n",
              "25%      2.022040e+09\n",
              "50%      2.022070e+09\n",
              "75%      2.022100e+09\n",
              "max      2.022123e+09\n",
              "Name: 측정일시, dtype: float64"
            ]
          },
          "execution_count": 15,
          "metadata": {},
          "output_type": "execute_result"
        }
      ],
      "source": [
        "# 고민하고 확인해봅시다.\n",
        "air_22['측정일시'].describe()"
      ]
    },
    {
      "cell_type": "markdown",
      "id": "efa6eebc",
      "metadata": {
        "id": "efa6eebc"
      },
      "source": [
        "**5. 변수의 분포 확인**"
      ]
    },
    {
      "cell_type": "code",
      "execution_count": null,
      "id": "59a0975d-da2f-4a64-a86f-c1223c047d00",
      "metadata": {
        "tags": [],
        "id": "59a0975d-da2f-4a64-a86f-c1223c047d00"
      },
      "outputs": [],
      "source": [
        "# air_22['측정일시_str'] = air_22['측정일시'].astype('string')"
      ]
    },
    {
      "cell_type": "code",
      "execution_count": null,
      "id": "cbec492b-14c8-4d1b-94f9-57bc09886bc3",
      "metadata": {
        "tags": [],
        "id": "cbec492b-14c8-4d1b-94f9-57bc09886bc3"
      },
      "outputs": [],
      "source": [
        "# air_22['측정일시_str'][len(air_22['측정일시_str'])-1]"
      ]
    },
    {
      "cell_type": "code",
      "execution_count": null,
      "id": "0bdc6ae9",
      "metadata": {
        "tags": [],
        "id": "0bdc6ae9"
      },
      "outputs": [],
      "source": [
        "# # 고민하고 확인해봅시다.\n",
        "# plt.figure(figsize=(9,3))\n",
        "# sns.lineplot(x='측정일시_str', y='PM10', data=air_22)\n",
        "# # plt.xticks(air_22['측정일시_str'][])\n",
        "# plt.show()"
      ]
    },
    {
      "cell_type": "markdown",
      "id": "956b9620",
      "metadata": {
        "id": "956b9620"
      },
      "source": [
        "**6. 위 정보로 부터 파악한 내용 정리**"
      ]
    },
    {
      "cell_type": "markdown",
      "id": "4fa96c40-6437-46c6-9990-681c374bdd5f",
      "metadata": {
        "id": "4fa96c40-6437-46c6-9990-681c374bdd5f"
      },
      "source": [
        "weather의 일시는 0 ~ 23으로 표기되는 반면, air는 1 ~ 24로 표기됨."
      ]
    },
    {
      "cell_type": "markdown",
      "id": "762bbeca",
      "metadata": {
        "id": "762bbeca"
      },
      "source": [
        "-----------**아래에 추가로 3-4개의 변수를 같은 방법으로 고민해보기!** -----------------------"
      ]
    },
    {
      "cell_type": "markdown",
      "id": "a6da4fae-58f1-42f3-a7a2-5a53f6bad624",
      "metadata": {
        "jp-MarkdownHeadingCollapsed": true,
        "tags": [],
        "id": "a6da4fae-58f1-42f3-a7a2-5a53f6bad624"
      },
      "source": [
        "#### **2) SO2**"
      ]
    },
    {
      "cell_type": "code",
      "execution_count": null,
      "id": "5f16d2b9-75ad-4d90-8c09-708b2b8393c9",
      "metadata": {
        "tags": [],
        "id": "5f16d2b9-75ad-4d90-8c09-708b2b8393c9",
        "outputId": "4c7b962f-1ecd-4227-8165-bad6c6b3692e"
      },
      "outputs": [
        {
          "data": {
            "text/plain": [
              "count    8673.000000\n",
              "mean        0.003133\n",
              "std         0.000700\n",
              "min         0.001000\n",
              "25%         0.003000\n",
              "50%         0.003000\n",
              "75%         0.003000\n",
              "max         0.008000\n",
              "Name: SO2, dtype: float64"
            ]
          },
          "execution_count": 19,
          "metadata": {},
          "output_type": "execute_result"
        }
      ],
      "source": [
        "# 고민하고 확인해봅시다.\n",
        "air_22['SO2'].describe()"
      ]
    },
    {
      "cell_type": "markdown",
      "id": "2132a2d6-ccd3-447a-8075-c76539df2209",
      "metadata": {
        "id": "2132a2d6-ccd3-447a-8075-c76539df2209"
      },
      "source": [
        "**1. 변수가 내포하고 있는 의미**"
      ]
    },
    {
      "cell_type": "code",
      "execution_count": null,
      "id": "c253d0f0-4e6d-423d-b159-7650f33cf28e",
      "metadata": {
        "tags": [],
        "id": "c253d0f0-4e6d-423d-b159-7650f33cf28e",
        "outputId": "7c78f813-ddb6-45e6-c8dd-c96ed8b2a071"
      },
      "outputs": [
        {
          "data": {
            "text/plain": [
              "0       0.003\n",
              "1       0.003\n",
              "2       0.003\n",
              "3       0.003\n",
              "4       0.003\n",
              "        ...  \n",
              "8755    0.004\n",
              "8756    0.005\n",
              "8757    0.004\n",
              "8758    0.005\n",
              "8759    0.004\n",
              "Name: SO2, Length: 8760, dtype: float64"
            ]
          },
          "execution_count": 20,
          "metadata": {},
          "output_type": "execute_result"
        }
      ],
      "source": [
        "# 고민하고 확인해봅시다.\n",
        "air_22['SO2']"
      ]
    },
    {
      "cell_type": "markdown",
      "id": "a37c4ae3-3fe9-4506-9e8f-43e0f4345a8f",
      "metadata": {
        "id": "a37c4ae3-3fe9-4506-9e8f-43e0f4345a8f"
      },
      "source": [
        "**2. 변수가 수치형인지 범주형인지**\n",
        "  - 날짜는 범주형? 수치형?"
      ]
    },
    {
      "cell_type": "code",
      "execution_count": null,
      "id": "a62d98ca-7c4d-4951-8d63-1b265d08c9d4",
      "metadata": {
        "tags": [],
        "id": "a62d98ca-7c4d-4951-8d63-1b265d08c9d4",
        "outputId": "405ae994-9f38-47f8-b4ad-c6192966632f"
      },
      "outputs": [
        {
          "data": {
            "text/plain": [
              "numpy.float64"
            ]
          },
          "execution_count": 21,
          "metadata": {},
          "output_type": "execute_result"
        }
      ],
      "source": [
        "# 고민하고 확인해봅시다.\n",
        "type(air_22['SO2'][1])"
      ]
    },
    {
      "cell_type": "markdown",
      "id": "8444ec2d-7823-42b8-aba8-39650d373ddb",
      "metadata": {
        "id": "8444ec2d-7823-42b8-aba8-39650d373ddb"
      },
      "source": [
        "**3. 변수의 결측치 존재 여부 및 조치 방안**"
      ]
    },
    {
      "cell_type": "code",
      "execution_count": null,
      "id": "e4cebab4-34ba-4460-8be7-1bc65b19bbea",
      "metadata": {
        "tags": [],
        "id": "e4cebab4-34ba-4460-8be7-1bc65b19bbea",
        "outputId": "6380f271-8e5a-4440-9898-ac67e05286ed"
      },
      "outputs": [
        {
          "data": {
            "text/plain": [
              "87"
            ]
          },
          "execution_count": 22,
          "metadata": {},
          "output_type": "execute_result"
        }
      ],
      "source": [
        "# 고민하고 확인해봅시다.\n",
        "air_22['SO2'].isna().sum()"
      ]
    },
    {
      "cell_type": "code",
      "execution_count": null,
      "id": "b8648ae9-2ada-4c7b-b6f7-43f27f042971",
      "metadata": {
        "tags": [],
        "id": "b8648ae9-2ada-4c7b-b6f7-43f27f042971"
      },
      "outputs": [],
      "source": [
        "air_22['SO2'].interpolate(method='values', inplace=True)"
      ]
    },
    {
      "cell_type": "code",
      "execution_count": null,
      "id": "6d3749b8-32ed-4ac4-9ce5-dbc5a338ac90",
      "metadata": {
        "tags": [],
        "id": "6d3749b8-32ed-4ac4-9ce5-dbc5a338ac90",
        "outputId": "c0c2232b-4c2d-45c9-d2aa-962703b69c1e"
      },
      "outputs": [
        {
          "data": {
            "text/plain": [
              "0"
            ]
          },
          "execution_count": 24,
          "metadata": {},
          "output_type": "execute_result"
        }
      ],
      "source": [
        "air_22['SO2'].isna().sum()"
      ]
    },
    {
      "cell_type": "markdown",
      "id": "e467b460-83c9-4b39-887a-a027ee376318",
      "metadata": {
        "id": "e467b460-83c9-4b39-887a-a027ee376318"
      },
      "source": [
        "**4.변수의 기초 통계량 확인**"
      ]
    },
    {
      "cell_type": "code",
      "execution_count": null,
      "id": "39f78a0a-ccd5-4229-9c5e-f354c99339e2",
      "metadata": {
        "tags": [],
        "id": "39f78a0a-ccd5-4229-9c5e-f354c99339e2",
        "outputId": "4c91e855-2164-4fe3-f07e-6db37432ab7b"
      },
      "outputs": [
        {
          "data": {
            "text/plain": [
              "count    8760.000000\n",
              "mean        0.003137\n",
              "std         0.000702\n",
              "min         0.001000\n",
              "25%         0.003000\n",
              "50%         0.003000\n",
              "75%         0.003000\n",
              "max         0.008000\n",
              "Name: SO2, dtype: float64"
            ]
          },
          "execution_count": 25,
          "metadata": {},
          "output_type": "execute_result"
        }
      ],
      "source": [
        "# 고민하고 확인해봅시다.\n",
        "air_22['SO2'].describe()"
      ]
    },
    {
      "cell_type": "markdown",
      "id": "ad2855f9-6c40-4678-a12e-0107ab66f856",
      "metadata": {
        "id": "ad2855f9-6c40-4678-a12e-0107ab66f856"
      },
      "source": [
        "**5. 변수의 분포 확인**"
      ]
    },
    {
      "cell_type": "code",
      "execution_count": null,
      "id": "1cdacb52-e2e0-4b73-9948-cbae1eb72876",
      "metadata": {
        "tags": [],
        "id": "1cdacb52-e2e0-4b73-9948-cbae1eb72876",
        "outputId": "77d45f2d-34ad-4ae2-ffed-c686fd668a62"
      },
      "outputs": [
        {
          "data": {
            "image/png": "[encoded data removed]",
            "text/plain": [
              "<Figure size 640x480 with 1 Axes>"
            ]
          },
          "metadata": {},
          "output_type": "display_data"
        }
      ],
      "source": [
        "# 고민하고 확인해봅시다.\n",
        "plt.plot(air_22['측정일시'], air_22['SO2'])\n",
        "plt.show()"
      ]
    },
    {
      "cell_type": "markdown",
      "id": "8856c2ad-2fc3-452d-9eef-a6b3a9713313",
      "metadata": {
        "id": "8856c2ad-2fc3-452d-9eef-a6b3a9713313"
      },
      "source": [
        "**6. 위 정보로 부터 파악한 내용 정리**"
      ]
    },
    {
      "cell_type": "code",
      "execution_count": null,
      "id": "67231649-4950-4269-bfe5-1f6cec8cb42a",
      "metadata": {
        "id": "67231649-4950-4269-bfe5-1f6cec8cb42a"
      },
      "outputs": [],
      "source": [
        "# 고민하고 확인해봅시다."
      ]
    },
    {
      "cell_type": "markdown",
      "id": "515c45d1-3520-4283-8a2e-44e71cc27c1f",
      "metadata": {
        "tags": [],
        "id": "515c45d1-3520-4283-8a2e-44e71cc27c1f"
      },
      "source": [
        "#### **2) NO2**"
      ]
    },
    {
      "cell_type": "markdown",
      "id": "63681020-c541-468f-be06-5a9b930d6dda",
      "metadata": {
        "id": "63681020-c541-468f-be06-5a9b930d6dda"
      },
      "source": [
        "**1. 변수가 내포하고 있는 의미**"
      ]
    },
    {
      "cell_type": "code",
      "execution_count": null,
      "id": "ad716aae-463f-45a3-8886-84687f5aa427",
      "metadata": {
        "tags": [],
        "id": "ad716aae-463f-45a3-8886-84687f5aa427",
        "outputId": "cd388815-a4d5-40e7-d57f-b82982309d69"
      },
      "outputs": [
        {
          "data": {
            "text/plain": [
              "0       0.016\n",
              "1       0.020\n",
              "2       0.028\n",
              "3       0.027\n",
              "4       0.040\n",
              "        ...  \n",
              "8755    0.070\n",
              "8756    0.070\n",
              "8757    0.072\n",
              "8758    0.072\n",
              "8759    0.070\n",
              "Name: NO2, Length: 8760, dtype: float64"
            ]
          },
          "execution_count": 28,
          "metadata": {},
          "output_type": "execute_result"
        }
      ],
      "source": [
        "# 고민하고 확인해봅시다.\n",
        "air_22['NO2']"
      ]
    },
    {
      "cell_type": "markdown",
      "id": "8357a5da-9664-476e-ae32-a36b8572cd22",
      "metadata": {
        "id": "8357a5da-9664-476e-ae32-a36b8572cd22"
      },
      "source": [
        "**2. 변수가 수치형인지 범주형인지**\n",
        "  - 날짜는 범주형? 수치형?"
      ]
    },
    {
      "cell_type": "code",
      "execution_count": null,
      "id": "97320ef8-3043-4eb3-a5ce-e88af11dd955",
      "metadata": {
        "tags": [],
        "id": "97320ef8-3043-4eb3-a5ce-e88af11dd955",
        "outputId": "ed54d2af-d24c-4cd6-9324-3f3cc621a66e"
      },
      "outputs": [
        {
          "data": {
            "text/plain": [
              "numpy.float64"
            ]
          },
          "execution_count": 29,
          "metadata": {},
          "output_type": "execute_result"
        }
      ],
      "source": [
        "# 고민하고 확인해봅시다.\n",
        "type(air_22['NO2'][1])"
      ]
    },
    {
      "cell_type": "markdown",
      "id": "39f8a565-cf8d-424f-a97d-8f1451fad882",
      "metadata": {
        "id": "39f8a565-cf8d-424f-a97d-8f1451fad882"
      },
      "source": [
        "**3. 변수의 결측치 존재 여부 및 조치 방안**"
      ]
    },
    {
      "cell_type": "code",
      "execution_count": null,
      "id": "06f846d6-73a0-42f1-935a-469b9afb8f09",
      "metadata": {
        "tags": [],
        "id": "06f846d6-73a0-42f1-935a-469b9afb8f09",
        "outputId": "b8f356d7-fee3-4633-cdb4-37d539e73337"
      },
      "outputs": [
        {
          "data": {
            "text/plain": [
              "87"
            ]
          },
          "execution_count": 30,
          "metadata": {},
          "output_type": "execute_result"
        }
      ],
      "source": [
        "# 고민하고 확인해봅시다.\n",
        "air_22['NO2'].isna().sum()"
      ]
    },
    {
      "cell_type": "code",
      "execution_count": null,
      "id": "111776b1-2f14-443f-8b95-714f07dd9bea",
      "metadata": {
        "tags": [],
        "id": "111776b1-2f14-443f-8b95-714f07dd9bea"
      },
      "outputs": [],
      "source": [
        "# air_22['NO2'].interpolate(method='time', inplace=True)"
      ]
    },
    {
      "cell_type": "code",
      "execution_count": null,
      "id": "6e4b489d-0bd6-4074-9ecf-36271f107df6",
      "metadata": {
        "tags": [],
        "id": "6e4b489d-0bd6-4074-9ecf-36271f107df6",
        "outputId": "5672286d-5780-43a3-c18b-8ea19c9612f8"
      },
      "outputs": [
        {
          "data": {
            "text/plain": [
              "87"
            ]
          },
          "execution_count": 32,
          "metadata": {},
          "output_type": "execute_result"
        }
      ],
      "source": [
        "# 고민하고 확인해봅시다.\n",
        "air_22['NO2'].isna().sum()"
      ]
    },
    {
      "cell_type": "markdown",
      "id": "86201897-1aea-4252-a59f-cb8836c505a0",
      "metadata": {
        "id": "86201897-1aea-4252-a59f-cb8836c505a0"
      },
      "source": [
        "**4.변수의 기초 통계량 확인**"
      ]
    },
    {
      "cell_type": "markdown",
      "id": "56d1f2e2-f20e-4315-8964-1a18e2fadcb6",
      "metadata": {
        "jp-MarkdownHeadingCollapsed": true,
        "tags": [],
        "id": "56d1f2e2-f20e-4315-8964-1a18e2fadcb6"
      },
      "source": [
        "#### **2) O3**"
      ]
    },
    {
      "cell_type": "markdown",
      "id": "eb16a592-27a8-4648-9d88-50575341ae34",
      "metadata": {
        "id": "eb16a592-27a8-4648-9d88-50575341ae34"
      },
      "source": [
        "**1. 변수가 내포하고 있는 의미**"
      ]
    },
    {
      "cell_type": "code",
      "execution_count": null,
      "id": "40a5d37b-4f7c-44a2-bcec-11066b79d823",
      "metadata": {
        "tags": [],
        "id": "40a5d37b-4f7c-44a2-bcec-11066b79d823",
        "outputId": "2a6a5943-cd59-4dfa-ef3d-60f843ad9174"
      },
      "outputs": [
        {
          "data": {
            "text/plain": [
              "0       0.026\n",
              "1       0.022\n",
              "2       0.014\n",
              "3       0.016\n",
              "4       0.005\n",
              "        ...  \n",
              "8755    0.002\n",
              "8756    0.002\n",
              "8757    0.002\n",
              "8758    0.002\n",
              "8759    0.002\n",
              "Name: O3, Length: 8760, dtype: float64"
            ]
          },
          "execution_count": 33,
          "metadata": {},
          "output_type": "execute_result"
        }
      ],
      "source": [
        "# 고민하고 확인해봅시다.\n",
        "air_22['O3']"
      ]
    },
    {
      "cell_type": "markdown",
      "id": "261ada84-f8eb-4c02-bc46-4aac10d156bf",
      "metadata": {
        "id": "261ada84-f8eb-4c02-bc46-4aac10d156bf"
      },
      "source": [
        "**2. 변수가 수치형인지 범주형인지**\n",
        "  - 날짜는 범주형? 수치형?"
      ]
    },
    {
      "cell_type": "code",
      "execution_count": null,
      "id": "ac354b23-8b47-4f73-8259-b34b066d6ef5",
      "metadata": {
        "tags": [],
        "id": "ac354b23-8b47-4f73-8259-b34b066d6ef5",
        "outputId": "7a0922ae-d4db-4593-8ca3-4d9744fb1b74"
      },
      "outputs": [
        {
          "data": {
            "text/plain": [
              "numpy.float64"
            ]
          },
          "execution_count": 34,
          "metadata": {},
          "output_type": "execute_result"
        }
      ],
      "source": [
        "# 고민하고 확인해봅시다.\n",
        "type(air_22['O3'][1])"
      ]
    },
    {
      "cell_type": "markdown",
      "id": "3ce463dd-1829-43d8-aa8e-98405a628b5b",
      "metadata": {
        "id": "3ce463dd-1829-43d8-aa8e-98405a628b5b"
      },
      "source": [
        "**3. 변수의 결측치 존재 여부 및 조치 방안**"
      ]
    },
    {
      "cell_type": "code",
      "execution_count": null,
      "id": "b0c6db8b-b726-4976-9fb9-a429743a3859",
      "metadata": {
        "tags": [],
        "id": "b0c6db8b-b726-4976-9fb9-a429743a3859",
        "outputId": "b384634d-7cc7-4194-feda-2db8b6ee6e5e"
      },
      "outputs": [
        {
          "data": {
            "text/plain": [
              "87"
            ]
          },
          "execution_count": 35,
          "metadata": {},
          "output_type": "execute_result"
        }
      ],
      "source": [
        "# 고민하고 확인해봅시다.\n",
        "air_22['O3'].isna().sum()"
      ]
    },
    {
      "cell_type": "code",
      "execution_count": null,
      "id": "cc52eb7c-c80d-4779-a740-69b39cceb988",
      "metadata": {
        "tags": [],
        "id": "cc52eb7c-c80d-4779-a740-69b39cceb988"
      },
      "outputs": [],
      "source": [
        "air_22['O3'].interpolate(method='values', inplace=True)"
      ]
    },
    {
      "cell_type": "code",
      "execution_count": null,
      "id": "3c4806f1-d477-4ed6-bece-c4ebf042d613",
      "metadata": {
        "tags": [],
        "id": "3c4806f1-d477-4ed6-bece-c4ebf042d613",
        "outputId": "b5f04787-36b0-4e25-b57e-df7ae44bee16"
      },
      "outputs": [
        {
          "data": {
            "text/plain": [
              "0"
            ]
          },
          "execution_count": 37,
          "metadata": {},
          "output_type": "execute_result"
        }
      ],
      "source": [
        "# 고민하고 확인해봅시다.\n",
        "air_22['O3'].isna().sum()"
      ]
    },
    {
      "cell_type": "markdown",
      "id": "1b6404fc-f3ad-445a-b015-f61028831664",
      "metadata": {
        "id": "1b6404fc-f3ad-445a-b015-f61028831664"
      },
      "source": [
        "**4.변수의 기초 통계량 확인**"
      ]
    },
    {
      "cell_type": "markdown",
      "id": "4726c953-e74d-4db0-a876-d521f4c631c8",
      "metadata": {
        "jp-MarkdownHeadingCollapsed": true,
        "tags": [],
        "id": "4726c953-e74d-4db0-a876-d521f4c631c8"
      },
      "source": [
        "#### **3) 망**"
      ]
    },
    {
      "cell_type": "code",
      "execution_count": null,
      "id": "1a9c1c60-16b5-4b3a-a965-186117b948c1",
      "metadata": {
        "id": "1a9c1c60-16b5-4b3a-a965-186117b948c1"
      },
      "outputs": [],
      "source": []
    },
    {
      "cell_type": "code",
      "execution_count": null,
      "id": "1983e755-d0d6-4e78-b19d-16865b98a523",
      "metadata": {
        "tags": [],
        "id": "1983e755-d0d6-4e78-b19d-16865b98a523",
        "outputId": "bc8d2e0d-4cf8-4f8d-f599-1925b049116a"
      },
      "outputs": [
        {
          "data": {
            "text/plain": [
              "망\n",
              "도시대기    8760\n",
              "Name: count, dtype: int64"
            ]
          },
          "execution_count": 38,
          "metadata": {},
          "output_type": "execute_result"
        }
      ],
      "source": [
        "# 고민하고 확인해봅시다.\n",
        "air_22['망'].value_counts()"
      ]
    },
    {
      "cell_type": "code",
      "execution_count": null,
      "id": "64f8ccce-9ca9-4dda-bf3e-44fd5e41de06",
      "metadata": {
        "tags": [],
        "id": "64f8ccce-9ca9-4dda-bf3e-44fd5e41de06",
        "outputId": "0fe2b152-04c3-46c1-c736-9889eb1bb9d3"
      },
      "outputs": [
        {
          "data": {
            "text/plain": [
              "지역\n",
              "서울 종로구    8760\n",
              "Name: count, dtype: int64"
            ]
          },
          "execution_count": 39,
          "metadata": {},
          "output_type": "execute_result"
        }
      ],
      "source": [
        "# 고민하고 확인해봅시다.\n",
        "air_22['지역'].value_counts()"
      ]
    },
    {
      "cell_type": "code",
      "execution_count": null,
      "id": "decd9954-41da-4ad8-bf6d-3cae10ffc688",
      "metadata": {
        "tags": [],
        "id": "decd9954-41da-4ad8-bf6d-3cae10ffc688",
        "outputId": "4de26139-9cd5-4389-e14b-30e860e8341a"
      },
      "outputs": [
        {
          "data": {
            "text/plain": [
              "지역\n",
              "서울 종로구    5832\n",
              "Name: count, dtype: int64"
            ]
          },
          "execution_count": 40,
          "metadata": {},
          "output_type": "execute_result"
        }
      ],
      "source": [
        "# 고민하고 확인해봅시다.\n",
        "air_23['지역'].value_counts()"
      ]
    },
    {
      "cell_type": "code",
      "execution_count": null,
      "id": "1f1ba78f-7643-4a8e-8912-328fca68b6c1",
      "metadata": {
        "tags": [],
        "id": "1f1ba78f-7643-4a8e-8912-328fca68b6c1",
        "outputId": "7ce1b4ba-99c6-472e-9440-3414f67f6012"
      },
      "outputs": [
        {
          "data": {
            "text/plain": [
              "주소\n",
              "서울 종로구 종로35가길 19    8760\n",
              "Name: count, dtype: int64"
            ]
          },
          "execution_count": 41,
          "metadata": {},
          "output_type": "execute_result"
        }
      ],
      "source": [
        "# 고민하고 확인해봅시다.\n",
        "air_22['주소'].value_counts()"
      ]
    },
    {
      "cell_type": "code",
      "execution_count": null,
      "id": "e179e0d6-f1e0-4822-84cf-98e1d33627c2",
      "metadata": {
        "tags": [],
        "id": "e179e0d6-f1e0-4822-84cf-98e1d33627c2",
        "outputId": "4b44ddca-472d-42c7-a17f-fe444c607cd8"
      },
      "outputs": [
        {
          "data": {
            "text/plain": [
              "주소\n",
              "서울 종로구 종로35가길 19    5832\n",
              "Name: count, dtype: int64"
            ]
          },
          "execution_count": 42,
          "metadata": {},
          "output_type": "execute_result"
        }
      ],
      "source": [
        "# 고민하고 확인해봅시다.\n",
        "air_23['주소'].value_counts()"
      ]
    },
    {
      "cell_type": "code",
      "execution_count": null,
      "id": "795f1091-1981-40bc-a0fa-630f31139a12",
      "metadata": {
        "tags": [],
        "id": "795f1091-1981-40bc-a0fa-630f31139a12",
        "outputId": "2a1943aa-582d-4e5f-aa28-c211217ed16b"
      },
      "outputs": [
        {
          "data": {
            "text/plain": [
              "지점\n",
              "108    8760\n",
              "Name: count, dtype: int64"
            ]
          },
          "execution_count": 43,
          "metadata": {},
          "output_type": "execute_result"
        }
      ],
      "source": [
        "# 고민하고 확인해봅시다.\n",
        "weather_22['지점'].value_counts()"
      ]
    },
    {
      "cell_type": "code",
      "execution_count": null,
      "id": "0ed46439-9308-4d07-9161-08942db38654",
      "metadata": {
        "tags": [],
        "id": "0ed46439-9308-4d07-9161-08942db38654",
        "outputId": "bae7c30c-236e-4dee-c000-99c4d75fe882"
      },
      "outputs": [
        {
          "data": {
            "text/plain": [
              "지점명\n",
              "서울    8760\n",
              "Name: count, dtype: int64"
            ]
          },
          "execution_count": 44,
          "metadata": {},
          "output_type": "execute_result"
        }
      ],
      "source": [
        "# 고민하고 확인해봅시다.\n",
        "weather_22['지점명'].value_counts()"
      ]
    },
    {
      "cell_type": "code",
      "execution_count": null,
      "id": "9ad68e24-4279-4400-a3b0-28fbb451d45d",
      "metadata": {
        "tags": [],
        "id": "9ad68e24-4279-4400-a3b0-28fbb451d45d",
        "outputId": "6f40b9cc-4dc7-442a-e459-1fc8f20156b6"
      },
      "outputs": [
        {
          "data": {
            "text/plain": [
              "count      1727.000000\n",
              "mean       3563.773596\n",
              "std       29182.459154\n",
              "min           1.000000\n",
              "25%           1.000000\n",
              "50%          19.000000\n",
              "75%          42.000000\n",
              "max      421905.000000\n",
              "Name: 현상번호(국내식), dtype: float64"
            ]
          },
          "execution_count": 45,
          "metadata": {},
          "output_type": "execute_result"
        }
      ],
      "source": [
        "weather_22['현상번호(국내식)'].describe()"
      ]
    },
    {
      "cell_type": "code",
      "execution_count": null,
      "id": "672d8b62-e727-4c53-9ddf-13a3a4eabaf2",
      "metadata": {
        "tags": [],
        "id": "672d8b62-e727-4c53-9ddf-13a3a4eabaf2",
        "outputId": "c298acd9-aa93-4503-bfdb-23caffbe050f"
      },
      "outputs": [
        {
          "data": {
            "text/plain": [
              "0   NaN\n",
              "1   NaN\n",
              "Name: 일조(hr), dtype: float64"
            ]
          },
          "execution_count": 46,
          "metadata": {},
          "output_type": "execute_result"
        }
      ],
      "source": [
        "weather_22['일조(hr)'].head(2)"
      ]
    },
    {
      "cell_type": "markdown",
      "id": "2302da1d-6d9c-4c84-a036-982694cb234d",
      "metadata": {
        "tags": [],
        "id": "2302da1d-6d9c-4c84-a036-982694cb234d"
      },
      "source": [
        "#### weather"
      ]
    },
    {
      "cell_type": "code",
      "execution_count": null,
      "id": "8e8362b1-4636-4f64-827f-2c2b3fcde750",
      "metadata": {
        "tags": [],
        "id": "8e8362b1-4636-4f64-827f-2c2b3fcde750",
        "outputId": "d2ef58dc-2e7d-44de-c187-7f35147057b8"
      },
      "outputs": [
        {
          "data": {
            "text/plain": [
              "8       0.0\n",
              "9       1.0\n",
              "10      1.0\n",
              "11      1.0\n",
              "12      1.0\n",
              "       ... \n",
              "8750    0.0\n",
              "8751    0.0\n",
              "8752    0.2\n",
              "8753    0.9\n",
              "8754    0.0\n",
              "Name: 일조(hr), Length: 4791, dtype: float64"
            ]
          },
          "execution_count": 47,
          "metadata": {},
          "output_type": "execute_result"
        }
      ],
      "source": [
        "weather_22['일조(hr)'].dropna()"
      ]
    },
    {
      "cell_type": "code",
      "execution_count": null,
      "id": "58933bc4-7dfc-467f-b9a6-a0762f01c092",
      "metadata": {
        "tags": [],
        "id": "58933bc4-7dfc-467f-b9a6-a0762f01c092",
        "outputId": "8f098a53-6056-46a1-d10c-e1cef98ebbb8"
      },
      "outputs": [
        {
          "data": {
            "text/plain": [
              "3969"
            ]
          },
          "execution_count": 48,
          "metadata": {},
          "output_type": "execute_result"
        }
      ],
      "source": [
        "weather_22['일조(hr)'].isna().sum()"
      ]
    },
    {
      "cell_type": "code",
      "execution_count": null,
      "id": "5b15f756-6c46-43bd-a51c-1475a77c2a40",
      "metadata": {
        "tags": [],
        "id": "5b15f756-6c46-43bd-a51c-1475a77c2a40"
      },
      "outputs": [],
      "source": [
        "weather_22['일조(hr)'].interpolate(method='values', inplace=True)"
      ]
    },
    {
      "cell_type": "code",
      "execution_count": null,
      "id": "80a7301c-1626-4d0e-82f0-1d6f6c5accf5",
      "metadata": {
        "tags": [],
        "id": "80a7301c-1626-4d0e-82f0-1d6f6c5accf5",
        "outputId": "8100a9e1-fc0e-4617-fff1-fd7b9d5a49a6"
      },
      "outputs": [
        {
          "data": {
            "text/plain": [
              "8"
            ]
          },
          "execution_count": 50,
          "metadata": {},
          "output_type": "execute_result"
        }
      ],
      "source": [
        "weather_22['일조(hr)'].isna().sum()"
      ]
    },
    {
      "cell_type": "markdown",
      "id": "a17b3d11-215a-4de6-804f-74d792f1d8ac",
      "metadata": {
        "id": "a17b3d11-215a-4de6-804f-74d792f1d8ac"
      },
      "source": [
        "## **3.EDA 2단계 - 데이터 전처리**\n",
        "- 진행한 개별 변수 분석에 맞추어 데이터를 전처리 하겠습니다."
      ]
    },
    {
      "cell_type": "markdown",
      "id": "480d374b",
      "metadata": {
        "id": "480d374b"
      },
      "source": [
        "### (1) air_22, air_23, weather_22, weather_23 데이터 전처리\n",
        "* air_22, air_23  각각 '측정일시'를 활용하여 'time'변수 생성\n",
        "    * 참고: 미세먼지 데이터는 1시-24시, 날씨 데이터는 0시-23시로 구성되어 있습니다. 미세먼지와 날씨 데이터를 time 기준으로 합치려면 기준이 동일해야 합니다. 미세먼지 데이터에서 time 변수 생성 시 이를 미리 고려(예: air_22['측정일시'] -1)하세요.\n",
        "* time 변수를 pd.to_datetime으로 데이터 타입 변경\n",
        "    * 참고: format = '%Y%m%d%H'"
      ]
    },
    {
      "cell_type": "markdown",
      "id": "c3726f76",
      "metadata": {
        "id": "c3726f76"
      },
      "source": [
        "#### 1) air_22, air_23 의 '측정일시'를 활용하여 'time' 변수 생성"
      ]
    },
    {
      "cell_type": "code",
      "execution_count": null,
      "id": "81775c7e",
      "metadata": {
        "tags": [],
        "id": "81775c7e"
      },
      "outputs": [],
      "source": [
        "# 아래에 필요한 코드를 작성하고 결과를 확인합니다.\n",
        "air_22['time'] = air_22['측정일시']-1\n",
        "air_23['time'] = air_23['측정일시']-1"
      ]
    },
    {
      "cell_type": "code",
      "execution_count": null,
      "id": "7bf0b579",
      "metadata": {
        "tags": [],
        "id": "7bf0b579",
        "outputId": "a5280f57-8b77-4ac5-fee6-10a89a4498e9"
      },
      "outputs": [
        {
          "data": {
            "text/plain": [
              "0    2023010100\n",
              "1    2023010101\n",
              "2    2023010102\n",
              "3    2023010103\n",
              "4    2023010104\n",
              "Name: time, dtype: int64"
            ]
          },
          "execution_count": 52,
          "metadata": {},
          "output_type": "execute_result"
        }
      ],
      "source": [
        "# 결과확인\n",
        "air_22['time'].head()\n",
        "air_23['time'].head()"
      ]
    },
    {
      "cell_type": "code",
      "execution_count": null,
      "id": "48cc72b4-42ad-40c3-a157-dbb53686fc2c",
      "metadata": {
        "tags": [],
        "id": "48cc72b4-42ad-40c3-a157-dbb53686fc2c"
      },
      "outputs": [],
      "source": [
        "air_22['time'] = pd.to_datetime(air_22['time'], format='%Y%m%d%H')\n",
        "air_23['time'] = pd.to_datetime(air_23['time'], format='%Y%m%d%H')"
      ]
    },
    {
      "cell_type": "code",
      "execution_count": null,
      "id": "19165fef-71ff-4e5b-ba3c-19f5e4559d62",
      "metadata": {
        "tags": [],
        "id": "19165fef-71ff-4e5b-ba3c-19f5e4559d62",
        "outputId": "18dd4db6-b002-4349-e98a-6ceb1b03a2a5"
      },
      "outputs": [
        {
          "data": {
            "text/plain": [
              "0   2022-01-01 00:00:00\n",
              "1   2022-01-01 01:00:00\n",
              "2   2022-01-01 02:00:00\n",
              "3   2022-01-01 03:00:00\n",
              "4   2022-01-01 04:00:00\n",
              "Name: time, dtype: datetime64[ns]"
            ]
          },
          "execution_count": 54,
          "metadata": {},
          "output_type": "execute_result"
        }
      ],
      "source": [
        "air_22['time'].head()"
      ]
    },
    {
      "cell_type": "code",
      "execution_count": null,
      "id": "cf028755-6137-486a-97ff-f996d87d7707",
      "metadata": {
        "tags": [],
        "id": "cf028755-6137-486a-97ff-f996d87d7707",
        "outputId": "7ed49e97-dc82-427f-f2ad-27338028be13"
      },
      "outputs": [
        {
          "data": {
            "text/html": [
              "<div>\n",
              "<style scoped>\n",
              "    .dataframe tbody tr th:only-of-type {\n",
              "        vertical-align: middle;\n",
              "    }\n",
              "\n",
              "    .dataframe tbody tr th {\n",
              "        vertical-align: top;\n",
              "    }\n",
              "\n",
              "    .dataframe thead th {\n",
              "        text-align: right;\n",
              "    }\n",
              "</style>\n",
              "<table border=\"1\" class=\"dataframe\">\n",
              "  <thead>\n",
              "    <tr style=\"text-align: right;\">\n",
              "      <th></th>\n",
              "      <th>지역</th>\n",
              "      <th>망</th>\n",
              "      <th>측정소코드</th>\n",
              "      <th>측정소명</th>\n",
              "      <th>측정일시</th>\n",
              "      <th>SO2</th>\n",
              "      <th>CO</th>\n",
              "      <th>O3</th>\n",
              "      <th>NO2</th>\n",
              "      <th>PM10</th>\n",
              "      <th>PM25</th>\n",
              "      <th>주소</th>\n",
              "      <th>time</th>\n",
              "    </tr>\n",
              "  </thead>\n",
              "  <tbody>\n",
              "    <tr>\n",
              "      <th>0</th>\n",
              "      <td>서울 종로구</td>\n",
              "      <td>도시대기</td>\n",
              "      <td>111123</td>\n",
              "      <td>종로구</td>\n",
              "      <td>2023010101</td>\n",
              "      <td>0.005</td>\n",
              "      <td>1.4</td>\n",
              "      <td>0.002</td>\n",
              "      <td>0.064</td>\n",
              "      <td>68.0</td>\n",
              "      <td>58.0</td>\n",
              "      <td>서울 종로구 종로35가길 19</td>\n",
              "      <td>2023-01-01 00:00:00</td>\n",
              "    </tr>\n",
              "    <tr>\n",
              "      <th>1</th>\n",
              "      <td>서울 종로구</td>\n",
              "      <td>도시대기</td>\n",
              "      <td>111123</td>\n",
              "      <td>종로구</td>\n",
              "      <td>2023010102</td>\n",
              "      <td>0.004</td>\n",
              "      <td>1.4</td>\n",
              "      <td>0.002</td>\n",
              "      <td>0.061</td>\n",
              "      <td>64.0</td>\n",
              "      <td>50.0</td>\n",
              "      <td>서울 종로구 종로35가길 19</td>\n",
              "      <td>2023-01-01 01:00:00</td>\n",
              "    </tr>\n",
              "    <tr>\n",
              "      <th>2</th>\n",
              "      <td>서울 종로구</td>\n",
              "      <td>도시대기</td>\n",
              "      <td>111123</td>\n",
              "      <td>종로구</td>\n",
              "      <td>2023010103</td>\n",
              "      <td>0.004</td>\n",
              "      <td>1.0</td>\n",
              "      <td>0.002</td>\n",
              "      <td>0.051</td>\n",
              "      <td>67.0</td>\n",
              "      <td>56.0</td>\n",
              "      <td>서울 종로구 종로35가길 19</td>\n",
              "      <td>2023-01-01 02:00:00</td>\n",
              "    </tr>\n",
              "    <tr>\n",
              "      <th>3</th>\n",
              "      <td>서울 종로구</td>\n",
              "      <td>도시대기</td>\n",
              "      <td>111123</td>\n",
              "      <td>종로구</td>\n",
              "      <td>2023010104</td>\n",
              "      <td>0.004</td>\n",
              "      <td>0.7</td>\n",
              "      <td>0.012</td>\n",
              "      <td>0.030</td>\n",
              "      <td>76.0</td>\n",
              "      <td>64.0</td>\n",
              "      <td>서울 종로구 종로35가길 19</td>\n",
              "      <td>2023-01-01 03:00:00</td>\n",
              "    </tr>\n",
              "    <tr>\n",
              "      <th>4</th>\n",
              "      <td>서울 종로구</td>\n",
              "      <td>도시대기</td>\n",
              "      <td>111123</td>\n",
              "      <td>종로구</td>\n",
              "      <td>2023010105</td>\n",
              "      <td>0.004</td>\n",
              "      <td>0.7</td>\n",
              "      <td>0.021</td>\n",
              "      <td>0.017</td>\n",
              "      <td>81.0</td>\n",
              "      <td>64.0</td>\n",
              "      <td>서울 종로구 종로35가길 19</td>\n",
              "      <td>2023-01-01 04:00:00</td>\n",
              "    </tr>\n",
              "  </tbody>\n",
              "</table>\n",
              "</div>"
            ],
            "text/plain": [
              "       지역     망   측정소코드 측정소명        측정일시    SO2   CO     O3    NO2  PM10  \\\n",
              "0  서울 종로구  도시대기  111123  종로구  2023010101  0.005  1.4  0.002  0.064  68.0   \n",
              "1  서울 종로구  도시대기  111123  종로구  2023010102  0.004  1.4  0.002  0.061  64.0   \n",
              "2  서울 종로구  도시대기  111123  종로구  2023010103  0.004  1.0  0.002  0.051  67.0   \n",
              "3  서울 종로구  도시대기  111123  종로구  2023010104  0.004  0.7  0.012  0.030  76.0   \n",
              "4  서울 종로구  도시대기  111123  종로구  2023010105  0.004  0.7  0.021  0.017  81.0   \n",
              "\n",
              "   PM25                주소                time  \n",
              "0  58.0  서울 종로구 종로35가길 19 2023-01-01 00:00:00  \n",
              "1  50.0  서울 종로구 종로35가길 19 2023-01-01 01:00:00  \n",
              "2  56.0  서울 종로구 종로35가길 19 2023-01-01 02:00:00  \n",
              "3  64.0  서울 종로구 종로35가길 19 2023-01-01 03:00:00  \n",
              "4  64.0  서울 종로구 종로35가길 19 2023-01-01 04:00:00  "
            ]
          },
          "execution_count": 55,
          "metadata": {},
          "output_type": "execute_result"
        }
      ],
      "source": [
        "air_23.head()"
      ]
    },
    {
      "cell_type": "markdown",
      "id": "49c9d404",
      "metadata": {
        "id": "49c9d404"
      },
      "source": [
        "#### 2) weather_22, weather_23 의 '일시'를 활용하여 'time' 변수 생성\n",
        "* weather_22, weather_23 의 '일시'를 활용하여 'time'변수 생성\n",
        "* time 변수를 pd.to_datetime으로 데이터 타입 변경"
      ]
    },
    {
      "cell_type": "code",
      "execution_count": null,
      "id": "cc56b617",
      "metadata": {
        "tags": [],
        "id": "cc56b617"
      },
      "outputs": [],
      "source": [
        "# 아래에 필요한 코드를 작성하고 결과를 확인합니다.\n",
        "weather_22['time'] = pd.to_datetime(weather_22['일시'])\n",
        "weather_23['time'] = pd.to_datetime(weather_23['일시'])"
      ]
    },
    {
      "cell_type": "code",
      "execution_count": null,
      "id": "1228635b",
      "metadata": {
        "tags": [],
        "id": "1228635b",
        "outputId": "545d2a07-080e-4115-e119-353f55983ee9"
      },
      "outputs": [
        {
          "data": {
            "text/plain": [
              "0   2022-01-01 00:00:00\n",
              "1   2022-01-01 01:00:00\n",
              "2   2022-01-01 02:00:00\n",
              "3   2022-01-01 03:00:00\n",
              "4   2022-01-01 04:00:00\n",
              "Name: time, dtype: datetime64[ns]"
            ]
          },
          "execution_count": 57,
          "metadata": {},
          "output_type": "execute_result"
        }
      ],
      "source": [
        "# 결과확인\n",
        "weather_22.time.head()"
      ]
    },
    {
      "cell_type": "code",
      "execution_count": null,
      "id": "ad0ca358-0528-4837-adc2-ed21048f49ba",
      "metadata": {
        "tags": [],
        "id": "ad0ca358-0528-4837-adc2-ed21048f49ba",
        "outputId": "1ce3d571-fea8-4e7b-db76-0397ac8faad8"
      },
      "outputs": [
        {
          "data": {
            "text/html": [
              "<div>\n",
              "<style scoped>\n",
              "    .dataframe tbody tr th:only-of-type {\n",
              "        vertical-align: middle;\n",
              "    }\n",
              "\n",
              "    .dataframe tbody tr th {\n",
              "        vertical-align: top;\n",
              "    }\n",
              "\n",
              "    .dataframe thead th {\n",
              "        text-align: right;\n",
              "    }\n",
              "</style>\n",
              "<table border=\"1\" class=\"dataframe\">\n",
              "  <thead>\n",
              "    <tr style=\"text-align: right;\">\n",
              "      <th></th>\n",
              "      <th>지점</th>\n",
              "      <th>지점명</th>\n",
              "      <th>일시</th>\n",
              "      <th>기온(°C)</th>\n",
              "      <th>기온 QC플래그</th>\n",
              "      <th>강수량(mm)</th>\n",
              "      <th>강수량 QC플래그</th>\n",
              "      <th>풍속(m/s)</th>\n",
              "      <th>풍속 QC플래그</th>\n",
              "      <th>풍향(16방위)</th>\n",
              "      <th>...</th>\n",
              "      <th>시정(10m)</th>\n",
              "      <th>지면상태(지면상태코드)</th>\n",
              "      <th>현상번호(국내식)</th>\n",
              "      <th>지면온도(°C)</th>\n",
              "      <th>지면온도 QC플래그</th>\n",
              "      <th>5cm 지중온도(°C)</th>\n",
              "      <th>10cm 지중온도(°C)</th>\n",
              "      <th>20cm 지중온도(°C)</th>\n",
              "      <th>30cm 지중온도(°C)</th>\n",
              "      <th>time</th>\n",
              "    </tr>\n",
              "  </thead>\n",
              "  <tbody>\n",
              "    <tr>\n",
              "      <th>0</th>\n",
              "      <td>108</td>\n",
              "      <td>서울</td>\n",
              "      <td>2023-01-01 0:00</td>\n",
              "      <td>0.9</td>\n",
              "      <td>NaN</td>\n",
              "      <td>NaN</td>\n",
              "      <td>9.0</td>\n",
              "      <td>1.4</td>\n",
              "      <td>NaN</td>\n",
              "      <td>200</td>\n",
              "      <td>...</td>\n",
              "      <td>1503</td>\n",
              "      <td>NaN</td>\n",
              "      <td>NaN</td>\n",
              "      <td>-1.6</td>\n",
              "      <td>NaN</td>\n",
              "      <td>-0.3</td>\n",
              "      <td>-0.6</td>\n",
              "      <td>-0.5</td>\n",
              "      <td>0.6</td>\n",
              "      <td>2023-01-01 00:00:00</td>\n",
              "    </tr>\n",
              "    <tr>\n",
              "      <th>1</th>\n",
              "      <td>108</td>\n",
              "      <td>서울</td>\n",
              "      <td>2023-01-01 1:00</td>\n",
              "      <td>1.5</td>\n",
              "      <td>NaN</td>\n",
              "      <td>NaN</td>\n",
              "      <td>NaN</td>\n",
              "      <td>1.9</td>\n",
              "      <td>NaN</td>\n",
              "      <td>250</td>\n",
              "      <td>...</td>\n",
              "      <td>1104</td>\n",
              "      <td>NaN</td>\n",
              "      <td>NaN</td>\n",
              "      <td>-1.4</td>\n",
              "      <td>NaN</td>\n",
              "      <td>-0.3</td>\n",
              "      <td>-0.5</td>\n",
              "      <td>-0.5</td>\n",
              "      <td>0.6</td>\n",
              "      <td>2023-01-01 01:00:00</td>\n",
              "    </tr>\n",
              "    <tr>\n",
              "      <th>2</th>\n",
              "      <td>108</td>\n",
              "      <td>서울</td>\n",
              "      <td>2023-01-01 2:00</td>\n",
              "      <td>1.5</td>\n",
              "      <td>NaN</td>\n",
              "      <td>NaN</td>\n",
              "      <td>NaN</td>\n",
              "      <td>1.9</td>\n",
              "      <td>NaN</td>\n",
              "      <td>250</td>\n",
              "      <td>...</td>\n",
              "      <td>925</td>\n",
              "      <td>NaN</td>\n",
              "      <td>40.0</td>\n",
              "      <td>-1.6</td>\n",
              "      <td>NaN</td>\n",
              "      <td>-0.3</td>\n",
              "      <td>-0.5</td>\n",
              "      <td>-0.5</td>\n",
              "      <td>0.6</td>\n",
              "      <td>2023-01-01 02:00:00</td>\n",
              "    </tr>\n",
              "    <tr>\n",
              "      <th>3</th>\n",
              "      <td>108</td>\n",
              "      <td>서울</td>\n",
              "      <td>2023-01-01 3:00</td>\n",
              "      <td>1.6</td>\n",
              "      <td>NaN</td>\n",
              "      <td>NaN</td>\n",
              "      <td>NaN</td>\n",
              "      <td>1.6</td>\n",
              "      <td>NaN</td>\n",
              "      <td>250</td>\n",
              "      <td>...</td>\n",
              "      <td>794</td>\n",
              "      <td>NaN</td>\n",
              "      <td>40.0</td>\n",
              "      <td>-1.8</td>\n",
              "      <td>NaN</td>\n",
              "      <td>-0.3</td>\n",
              "      <td>-0.5</td>\n",
              "      <td>-0.5</td>\n",
              "      <td>0.6</td>\n",
              "      <td>2023-01-01 03:00:00</td>\n",
              "    </tr>\n",
              "    <tr>\n",
              "      <th>4</th>\n",
              "      <td>108</td>\n",
              "      <td>서울</td>\n",
              "      <td>2023-01-01 4:00</td>\n",
              "      <td>1.5</td>\n",
              "      <td>NaN</td>\n",
              "      <td>NaN</td>\n",
              "      <td>NaN</td>\n",
              "      <td>1.4</td>\n",
              "      <td>NaN</td>\n",
              "      <td>290</td>\n",
              "      <td>...</td>\n",
              "      <td>709</td>\n",
              "      <td>NaN</td>\n",
              "      <td>40.0</td>\n",
              "      <td>-1.3</td>\n",
              "      <td>NaN</td>\n",
              "      <td>-0.2</td>\n",
              "      <td>-0.5</td>\n",
              "      <td>-0.5</td>\n",
              "      <td>0.6</td>\n",
              "      <td>2023-01-01 04:00:00</td>\n",
              "    </tr>\n",
              "  </tbody>\n",
              "</table>\n",
              "<p>5 rows × 39 columns</p>\n",
              "</div>"
            ],
            "text/plain": [
              "    지점 지점명               일시  기온(°C)  기온 QC플래그  강수량(mm)  강수량 QC플래그  풍속(m/s)  \\\n",
              "0  108  서울  2023-01-01 0:00     0.9       NaN      NaN        9.0      1.4   \n",
              "1  108  서울  2023-01-01 1:00     1.5       NaN      NaN        NaN      1.9   \n",
              "2  108  서울  2023-01-01 2:00     1.5       NaN      NaN        NaN      1.9   \n",
              "3  108  서울  2023-01-01 3:00     1.6       NaN      NaN        NaN      1.6   \n",
              "4  108  서울  2023-01-01 4:00     1.5       NaN      NaN        NaN      1.4   \n",
              "\n",
              "   풍속 QC플래그  풍향(16방위)  ...  시정(10m)  지면상태(지면상태코드)  현상번호(국내식)  지면온도(°C)  \\\n",
              "0       NaN       200  ...     1503           NaN        NaN      -1.6   \n",
              "1       NaN       250  ...     1104           NaN        NaN      -1.4   \n",
              "2       NaN       250  ...      925           NaN       40.0      -1.6   \n",
              "3       NaN       250  ...      794           NaN       40.0      -1.8   \n",
              "4       NaN       290  ...      709           NaN       40.0      -1.3   \n",
              "\n",
              "   지면온도 QC플래그  5cm 지중온도(°C)  10cm 지중온도(°C)  20cm 지중온도(°C)  30cm 지중온도(°C)  \\\n",
              "0         NaN          -0.3           -0.6           -0.5            0.6   \n",
              "1         NaN          -0.3           -0.5           -0.5            0.6   \n",
              "2         NaN          -0.3           -0.5           -0.5            0.6   \n",
              "3         NaN          -0.3           -0.5           -0.5            0.6   \n",
              "4         NaN          -0.2           -0.5           -0.5            0.6   \n",
              "\n",
              "                 time  \n",
              "0 2023-01-01 00:00:00  \n",
              "1 2023-01-01 01:00:00  \n",
              "2 2023-01-01 02:00:00  \n",
              "3 2023-01-01 03:00:00  \n",
              "4 2023-01-01 04:00:00  \n",
              "\n",
              "[5 rows x 39 columns]"
            ]
          },
          "execution_count": 58,
          "metadata": {},
          "output_type": "execute_result"
        }
      ],
      "source": [
        "weather_23.head()"
      ]
    },
    {
      "cell_type": "markdown",
      "id": "3b4d6b43",
      "metadata": {
        "id": "3b4d6b43"
      },
      "source": [
        "#### 3) 'time' 기준으로 데이터 합치기\n",
        "* 미세먼지 데이터와 날씨 데이터를 'time' 기준으로 합쳐보세요.\n",
        "    * df_22에는 'time' 기준으로 22년도 미세먼지, 날씨 데이터를 합쳐보세요.\n",
        "    * df_23에는 'time' 기준으로 23년도 미세먼지, 날씨 데이터를 합쳐보세요."
      ]
    },
    {
      "cell_type": "code",
      "execution_count": null,
      "id": "8e77f9fa",
      "metadata": {
        "tags": [],
        "id": "8e77f9fa"
      },
      "outputs": [],
      "source": [
        "# 아래에 필요한 코드를 작성하고 결과를 확인합니다.\n",
        "df_22 = pd.merge(air_22, weather_22, how='inner', on='time')\n",
        "df_23 = pd.merge(air_23, weather_23, how='inner', on='time')"
      ]
    },
    {
      "cell_type": "code",
      "execution_count": null,
      "id": "02361a34",
      "metadata": {
        "tags": [],
        "id": "02361a34",
        "outputId": "a44805b7-bf95-4483-b515-d2c0f30fe890"
      },
      "outputs": [
        {
          "name": "stdout",
          "output_type": "stream",
          "text": [
            "       지역     망   측정소코드 측정소명        측정일시    SO2   CO     O3    NO2  PM10  ...  \\\n",
            "0  서울 종로구  도시대기  111123  종로구  2022010101  0.003  0.4  0.026  0.016  23.0  ...   \n",
            "1  서울 종로구  도시대기  111123  종로구  2022010102  0.003  0.4  0.022  0.020  20.0  ...   \n",
            "2  서울 종로구  도시대기  111123  종로구  2022010103  0.003  0.5  0.014  0.028  20.0  ...   \n",
            "3  서울 종로구  도시대기  111123  종로구  2022010104  0.003  0.5  0.016  0.027  19.0  ...   \n",
            "4  서울 종로구  도시대기  111123  종로구  2022010105  0.003  0.5  0.005  0.040  24.0  ...   \n",
            "\n",
            "   최저운고(100m ) 시정(10m) 지면상태(지면상태코드)  현상번호(국내식) 지면온도(°C) 지면온도 QC플래그  \\\n",
            "0          NaN    2000          NaN        NaN     -7.0        NaN   \n",
            "1          NaN    2000          NaN        NaN     -7.2        NaN   \n",
            "2          NaN    2000          NaN        NaN     -7.5        NaN   \n",
            "3          NaN    2000          NaN        NaN     -7.6        NaN   \n",
            "4          NaN    2000          NaN        NaN     -7.6        NaN   \n",
            "\n",
            "   5cm 지중온도(°C)  10cm 지중온도(°C)  20cm 지중온도(°C)  30cm 지중온도(°C)  \n",
            "0          -1.0           -1.0           -0.2            1.0  \n",
            "1          -1.1           -1.1           -0.2            1.0  \n",
            "2          -1.3           -1.2           -0.2            1.0  \n",
            "3          -1.4           -1.2           -0.2            1.0  \n",
            "4          -1.4           -1.3           -0.3            1.0  \n",
            "\n",
            "[5 rows x 51 columns]\n",
            "       지역     망   측정소코드 측정소명        측정일시    SO2   CO     O3    NO2  PM10  ...  \\\n",
            "0  서울 종로구  도시대기  111123  종로구  2023010101  0.005  1.4  0.002  0.064  68.0  ...   \n",
            "1  서울 종로구  도시대기  111123  종로구  2023010102  0.004  1.4  0.002  0.061  64.0  ...   \n",
            "2  서울 종로구  도시대기  111123  종로구  2023010103  0.004  1.0  0.002  0.051  67.0  ...   \n",
            "3  서울 종로구  도시대기  111123  종로구  2023010104  0.004  0.7  0.012  0.030  76.0  ...   \n",
            "4  서울 종로구  도시대기  111123  종로구  2023010105  0.004  0.7  0.021  0.017  81.0  ...   \n",
            "\n",
            "   최저운고(100m ) 시정(10m) 지면상태(지면상태코드)  현상번호(국내식) 지면온도(°C) 지면온도 QC플래그  \\\n",
            "0          NaN    1503          NaN        NaN     -1.6        NaN   \n",
            "1         12.0    1104          NaN        NaN     -1.4        NaN   \n",
            "2         11.0     925          NaN       40.0     -1.6        NaN   \n",
            "3         16.0     794          NaN       40.0     -1.8        NaN   \n",
            "4         10.0     709          NaN       40.0     -1.3        NaN   \n",
            "\n",
            "   5cm 지중온도(°C)  10cm 지중온도(°C)  20cm 지중온도(°C)  30cm 지중온도(°C)  \n",
            "0          -0.3           -0.6           -0.5            0.6  \n",
            "1          -0.3           -0.5           -0.5            0.6  \n",
            "2          -0.3           -0.5           -0.5            0.6  \n",
            "3          -0.3           -0.5           -0.5            0.6  \n",
            "4          -0.2           -0.5           -0.5            0.6  \n",
            "\n",
            "[5 rows x 51 columns]\n"
          ]
        }
      ],
      "source": [
        "# 결과확인\n",
        "print(df_22.head())\n",
        "print(df_23.head())"
      ]
    },
    {
      "cell_type": "markdown",
      "id": "1bcfb4a7",
      "metadata": {
        "id": "1bcfb4a7"
      },
      "source": [
        "#### 4) 사용하지 않을 변수 제거\n",
        "\n",
        "* 머신러닝에 사용하지 않을 변수들을 제거해줍니다.\n",
        "    * df_22, df_23에 여러분들이 사용할 변수들만 넣어보세요.\n",
        "* time 변수를 index로 세팅하고 (set_index) 데이터가 정렬되어 있지 않으므로 index 기준으로 정렬하세요. (sort_index)"
      ]
    },
    {
      "cell_type": "code",
      "execution_count": null,
      "id": "27bf07d0-a119-42ef-bb89-9ace71e479f8",
      "metadata": {
        "tags": [],
        "id": "27bf07d0-a119-42ef-bb89-9ace71e479f8",
        "outputId": "d47b4bc7-5bed-4fee-a275-c0eda57a67fb"
      },
      "outputs": [
        {
          "data": {
            "text/html": [
              "<div>\n",
              "<style scoped>\n",
              "    .dataframe tbody tr th:only-of-type {\n",
              "        vertical-align: middle;\n",
              "    }\n",
              "\n",
              "    .dataframe tbody tr th {\n",
              "        vertical-align: top;\n",
              "    }\n",
              "\n",
              "    .dataframe thead th {\n",
              "        text-align: right;\n",
              "    }\n",
              "</style>\n",
              "<table border=\"1\" class=\"dataframe\">\n",
              "  <thead>\n",
              "    <tr style=\"text-align: right;\">\n",
              "      <th></th>\n",
              "      <th>지역</th>\n",
              "      <th>망</th>\n",
              "      <th>측정소코드</th>\n",
              "      <th>측정소명</th>\n",
              "      <th>측정일시</th>\n",
              "      <th>SO2</th>\n",
              "      <th>CO</th>\n",
              "      <th>O3</th>\n",
              "      <th>NO2</th>\n",
              "      <th>PM10</th>\n",
              "      <th>...</th>\n",
              "      <th>최저운고(100m )</th>\n",
              "      <th>시정(10m)</th>\n",
              "      <th>지면상태(지면상태코드)</th>\n",
              "      <th>현상번호(국내식)</th>\n",
              "      <th>지면온도(°C)</th>\n",
              "      <th>지면온도 QC플래그</th>\n",
              "      <th>5cm 지중온도(°C)</th>\n",
              "      <th>10cm 지중온도(°C)</th>\n",
              "      <th>20cm 지중온도(°C)</th>\n",
              "      <th>30cm 지중온도(°C)</th>\n",
              "    </tr>\n",
              "  </thead>\n",
              "  <tbody>\n",
              "    <tr>\n",
              "      <th>0</th>\n",
              "      <td>서울 종로구</td>\n",
              "      <td>도시대기</td>\n",
              "      <td>111123</td>\n",
              "      <td>종로구</td>\n",
              "      <td>2022010101</td>\n",
              "      <td>0.003</td>\n",
              "      <td>0.4</td>\n",
              "      <td>0.026</td>\n",
              "      <td>0.016</td>\n",
              "      <td>23.0</td>\n",
              "      <td>...</td>\n",
              "      <td>NaN</td>\n",
              "      <td>2000</td>\n",
              "      <td>NaN</td>\n",
              "      <td>NaN</td>\n",
              "      <td>-7.0</td>\n",
              "      <td>NaN</td>\n",
              "      <td>-1.0</td>\n",
              "      <td>-1.0</td>\n",
              "      <td>-0.2</td>\n",
              "      <td>1.0</td>\n",
              "    </tr>\n",
              "    <tr>\n",
              "      <th>1</th>\n",
              "      <td>서울 종로구</td>\n",
              "      <td>도시대기</td>\n",
              "      <td>111123</td>\n",
              "      <td>종로구</td>\n",
              "      <td>2022010102</td>\n",
              "      <td>0.003</td>\n",
              "      <td>0.4</td>\n",
              "      <td>0.022</td>\n",
              "      <td>0.020</td>\n",
              "      <td>20.0</td>\n",
              "      <td>...</td>\n",
              "      <td>NaN</td>\n",
              "      <td>2000</td>\n",
              "      <td>NaN</td>\n",
              "      <td>NaN</td>\n",
              "      <td>-7.2</td>\n",
              "      <td>NaN</td>\n",
              "      <td>-1.1</td>\n",
              "      <td>-1.1</td>\n",
              "      <td>-0.2</td>\n",
              "      <td>1.0</td>\n",
              "    </tr>\n",
              "    <tr>\n",
              "      <th>2</th>\n",
              "      <td>서울 종로구</td>\n",
              "      <td>도시대기</td>\n",
              "      <td>111123</td>\n",
              "      <td>종로구</td>\n",
              "      <td>2022010103</td>\n",
              "      <td>0.003</td>\n",
              "      <td>0.5</td>\n",
              "      <td>0.014</td>\n",
              "      <td>0.028</td>\n",
              "      <td>20.0</td>\n",
              "      <td>...</td>\n",
              "      <td>NaN</td>\n",
              "      <td>2000</td>\n",
              "      <td>NaN</td>\n",
              "      <td>NaN</td>\n",
              "      <td>-7.5</td>\n",
              "      <td>NaN</td>\n",
              "      <td>-1.3</td>\n",
              "      <td>-1.2</td>\n",
              "      <td>-0.2</td>\n",
              "      <td>1.0</td>\n",
              "    </tr>\n",
              "    <tr>\n",
              "      <th>3</th>\n",
              "      <td>서울 종로구</td>\n",
              "      <td>도시대기</td>\n",
              "      <td>111123</td>\n",
              "      <td>종로구</td>\n",
              "      <td>2022010104</td>\n",
              "      <td>0.003</td>\n",
              "      <td>0.5</td>\n",
              "      <td>0.016</td>\n",
              "      <td>0.027</td>\n",
              "      <td>19.0</td>\n",
              "      <td>...</td>\n",
              "      <td>NaN</td>\n",
              "      <td>2000</td>\n",
              "      <td>NaN</td>\n",
              "      <td>NaN</td>\n",
              "      <td>-7.6</td>\n",
              "      <td>NaN</td>\n",
              "      <td>-1.4</td>\n",
              "      <td>-1.2</td>\n",
              "      <td>-0.2</td>\n",
              "      <td>1.0</td>\n",
              "    </tr>\n",
              "    <tr>\n",
              "      <th>4</th>\n",
              "      <td>서울 종로구</td>\n",
              "      <td>도시대기</td>\n",
              "      <td>111123</td>\n",
              "      <td>종로구</td>\n",
              "      <td>2022010105</td>\n",
              "      <td>0.003</td>\n",
              "      <td>0.5</td>\n",
              "      <td>0.005</td>\n",
              "      <td>0.040</td>\n",
              "      <td>24.0</td>\n",
              "      <td>...</td>\n",
              "      <td>NaN</td>\n",
              "      <td>2000</td>\n",
              "      <td>NaN</td>\n",
              "      <td>NaN</td>\n",
              "      <td>-7.6</td>\n",
              "      <td>NaN</td>\n",
              "      <td>-1.4</td>\n",
              "      <td>-1.3</td>\n",
              "      <td>-0.3</td>\n",
              "      <td>1.0</td>\n",
              "    </tr>\n",
              "  </tbody>\n",
              "</table>\n",
              "<p>5 rows × 51 columns</p>\n",
              "</div>"
            ],
            "text/plain": [
              "       지역     망   측정소코드 측정소명        측정일시    SO2   CO     O3    NO2  PM10  ...  \\\n",
              "0  서울 종로구  도시대기  111123  종로구  2022010101  0.003  0.4  0.026  0.016  23.0  ...   \n",
              "1  서울 종로구  도시대기  111123  종로구  2022010102  0.003  0.4  0.022  0.020  20.0  ...   \n",
              "2  서울 종로구  도시대기  111123  종로구  2022010103  0.003  0.5  0.014  0.028  20.0  ...   \n",
              "3  서울 종로구  도시대기  111123  종로구  2022010104  0.003  0.5  0.016  0.027  19.0  ...   \n",
              "4  서울 종로구  도시대기  111123  종로구  2022010105  0.003  0.5  0.005  0.040  24.0  ...   \n",
              "\n",
              "   최저운고(100m ) 시정(10m) 지면상태(지면상태코드)  현상번호(국내식) 지면온도(°C) 지면온도 QC플래그  \\\n",
              "0          NaN    2000          NaN        NaN     -7.0        NaN   \n",
              "1          NaN    2000          NaN        NaN     -7.2        NaN   \n",
              "2          NaN    2000          NaN        NaN     -7.5        NaN   \n",
              "3          NaN    2000          NaN        NaN     -7.6        NaN   \n",
              "4          NaN    2000          NaN        NaN     -7.6        NaN   \n",
              "\n",
              "   5cm 지중온도(°C)  10cm 지중온도(°C)  20cm 지중온도(°C)  30cm 지중온도(°C)  \n",
              "0          -1.0           -1.0           -0.2            1.0  \n",
              "1          -1.1           -1.1           -0.2            1.0  \n",
              "2          -1.3           -1.2           -0.2            1.0  \n",
              "3          -1.4           -1.2           -0.2            1.0  \n",
              "4          -1.4           -1.3           -0.3            1.0  \n",
              "\n",
              "[5 rows x 51 columns]"
            ]
          },
          "execution_count": 61,
          "metadata": {},
          "output_type": "execute_result"
        }
      ],
      "source": [
        "df_22.head()"
      ]
    },
    {
      "cell_type": "code",
      "execution_count": null,
      "id": "c88bf944-9c74-469f-a629-c7c8a70eb773",
      "metadata": {
        "tags": [],
        "id": "c88bf944-9c74-469f-a629-c7c8a70eb773",
        "outputId": "47a6160e-c298-41a5-a41c-9f09f28afa9d"
      },
      "outputs": [
        {
          "data": {
            "text/plain": [
              "Index(['지역', '망', '측정소코드', '측정소명', '측정일시', 'SO2', 'CO', 'O3', 'NO2', 'PM10',\n",
              "       'PM25', '주소', 'time', '지점', '지점명', '일시', '기온(°C)', '기온 QC플래그',\n",
              "       '강수량(mm)', '강수량 QC플래그', '풍속(m/s)', '풍속 QC플래그', '풍향(16방위)', '풍향 QC플래그',\n",
              "       '습도(%)', '습도 QC플래그', '증기압(hPa)', '이슬점온도(°C)', '현지기압(hPa)', '현지기압 QC플래그',\n",
              "       '해면기압(hPa)', '해면기압 QC플래그', '일조(hr)', '일조 QC플래그', '일사(MJ/m2)',\n",
              "       '일사 QC플래그', '적설(cm)', '3시간신적설(cm)', '전운량(10분위)', '중하층운량(10분위)',\n",
              "       '운형(운형약어)', '최저운고(100m )', '시정(10m)', '지면상태(지면상태코드)', '현상번호(국내식)',\n",
              "       '지면온도(°C)', '지면온도 QC플래그', '5cm 지중온도(°C)', '10cm 지중온도(°C)',\n",
              "       '20cm 지중온도(°C)', '30cm 지중온도(°C)'],\n",
              "      dtype='object')"
            ]
          },
          "execution_count": 62,
          "metadata": {},
          "output_type": "execute_result"
        }
      ],
      "source": [
        "df_22.columns"
      ]
    },
    {
      "cell_type": "code",
      "execution_count": null,
      "id": "21f3263f-d069-4bb6-b1ae-fdaa7fe6bc5e",
      "metadata": {
        "tags": [],
        "id": "21f3263f-d069-4bb6-b1ae-fdaa7fe6bc5e",
        "outputId": "1f8a6e86-ea2c-4eeb-b4de-de5c3167a313"
      },
      "outputs": [
        {
          "data": {
            "text/plain": [
              "Index(['지역', '망', '측정소코드', '측정소명', '측정일시', 'SO2', 'O3', '주소', 'time', '지점',\n",
              "       '지점명', '일시', '기온(°C)', '풍속(m/s)', '풍향(16방위)', '습도(%)', '증기압(hPa)',\n",
              "       '이슬점온도(°C)', '현지기압(hPa)', '해면기압(hPa)', '전운량(10분위)', '중하층운량(10분위)',\n",
              "       '시정(10m)'],\n",
              "      dtype='object')"
            ]
          },
          "execution_count": 63,
          "metadata": {},
          "output_type": "execute_result"
        }
      ],
      "source": [
        "df_22.dropna(axis=1).columns"
      ]
    },
    {
      "cell_type": "code",
      "execution_count": null,
      "id": "ddf39400",
      "metadata": {
        "tags": [],
        "id": "ddf39400"
      },
      "outputs": [],
      "source": [
        "# df_22, df_23에 사용할 변수들만 할당\n",
        "cols = ['SO2', 'CO', 'O3', 'NO2', 'PM10', 'PM25', 'time', '기온(°C)', '기온 QC플래그',\n",
        "       '강수량(mm)', '풍속(m/s)', '풍향(16방위)',\n",
        "       '습도(%)', '증기압(hPa)', '이슬점온도(°C)', '현지기압(hPa)',\n",
        "       '해면기압(hPa)', '해면기압 QC플래그', '일조(hr)', '일사(MJ/m2)', '적설(cm)', '3시간신적설(cm)', '전운량(10분위)', '중하층운량(10분위)',\n",
        "       '운형(운형약어)', '최저운고(100m )', '시정(10m)', '지면상태(지면상태코드)',\n",
        "       '지면온도(°C)', '지면온도 QC플래그', '5cm 지중온도(°C)', '10cm 지중온도(°C)',\n",
        "       '20cm 지중온도(°C)', '30cm 지중온도(°C)'],"
      ]
    },
    {
      "cell_type": "code",
      "execution_count": null,
      "id": "4f6d40a8-648e-4920-953d-09c5f80ee05a",
      "metadata": {
        "tags": [],
        "id": "4f6d40a8-648e-4920-953d-09c5f80ee05a",
        "outputId": "564f9e47-99a8-45a5-f49d-09c26ced8d9e"
      },
      "outputs": [
        {
          "data": {
            "text/html": [
              "<div>\n",
              "<style scoped>\n",
              "    .dataframe tbody tr th:only-of-type {\n",
              "        vertical-align: middle;\n",
              "    }\n",
              "\n",
              "    .dataframe tbody tr th {\n",
              "        vertical-align: top;\n",
              "    }\n",
              "\n",
              "    .dataframe thead th {\n",
              "        text-align: right;\n",
              "    }\n",
              "</style>\n",
              "<table border=\"1\" class=\"dataframe\">\n",
              "  <thead>\n",
              "    <tr style=\"text-align: right;\">\n",
              "      <th></th>\n",
              "      <th>지역</th>\n",
              "      <th>망</th>\n",
              "      <th>측정소코드</th>\n",
              "      <th>측정소명</th>\n",
              "      <th>측정일시</th>\n",
              "      <th>SO2</th>\n",
              "      <th>CO</th>\n",
              "      <th>O3</th>\n",
              "      <th>NO2</th>\n",
              "      <th>PM10</th>\n",
              "      <th>...</th>\n",
              "      <th>최저운고(100m )</th>\n",
              "      <th>시정(10m)</th>\n",
              "      <th>지면상태(지면상태코드)</th>\n",
              "      <th>현상번호(국내식)</th>\n",
              "      <th>지면온도(°C)</th>\n",
              "      <th>지면온도 QC플래그</th>\n",
              "      <th>5cm 지중온도(°C)</th>\n",
              "      <th>10cm 지중온도(°C)</th>\n",
              "      <th>20cm 지중온도(°C)</th>\n",
              "      <th>30cm 지중온도(°C)</th>\n",
              "    </tr>\n",
              "    <tr>\n",
              "      <th>time</th>\n",
              "      <th></th>\n",
              "      <th></th>\n",
              "      <th></th>\n",
              "      <th></th>\n",
              "      <th></th>\n",
              "      <th></th>\n",
              "      <th></th>\n",
              "      <th></th>\n",
              "      <th></th>\n",
              "      <th></th>\n",
              "      <th></th>\n",
              "      <th></th>\n",
              "      <th></th>\n",
              "      <th></th>\n",
              "      <th></th>\n",
              "      <th></th>\n",
              "      <th></th>\n",
              "      <th></th>\n",
              "      <th></th>\n",
              "      <th></th>\n",
              "      <th></th>\n",
              "    </tr>\n",
              "  </thead>\n",
              "  <tbody>\n",
              "    <tr>\n",
              "      <th>2022-01-01 00:00:00</th>\n",
              "      <td>서울 종로구</td>\n",
              "      <td>도시대기</td>\n",
              "      <td>111123</td>\n",
              "      <td>종로구</td>\n",
              "      <td>2022010101</td>\n",
              "      <td>0.003</td>\n",
              "      <td>0.4</td>\n",
              "      <td>0.026</td>\n",
              "      <td>0.016</td>\n",
              "      <td>23.0</td>\n",
              "      <td>...</td>\n",
              "      <td>NaN</td>\n",
              "      <td>2000</td>\n",
              "      <td>NaN</td>\n",
              "      <td>NaN</td>\n",
              "      <td>-7.0</td>\n",
              "      <td>NaN</td>\n",
              "      <td>-1.0</td>\n",
              "      <td>-1.0</td>\n",
              "      <td>-0.2</td>\n",
              "      <td>1.0</td>\n",
              "    </tr>\n",
              "    <tr>\n",
              "      <th>2022-01-01 01:00:00</th>\n",
              "      <td>서울 종로구</td>\n",
              "      <td>도시대기</td>\n",
              "      <td>111123</td>\n",
              "      <td>종로구</td>\n",
              "      <td>2022010102</td>\n",
              "      <td>0.003</td>\n",
              "      <td>0.4</td>\n",
              "      <td>0.022</td>\n",
              "      <td>0.020</td>\n",
              "      <td>20.0</td>\n",
              "      <td>...</td>\n",
              "      <td>NaN</td>\n",
              "      <td>2000</td>\n",
              "      <td>NaN</td>\n",
              "      <td>NaN</td>\n",
              "      <td>-7.2</td>\n",
              "      <td>NaN</td>\n",
              "      <td>-1.1</td>\n",
              "      <td>-1.1</td>\n",
              "      <td>-0.2</td>\n",
              "      <td>1.0</td>\n",
              "    </tr>\n",
              "    <tr>\n",
              "      <th>2022-01-01 02:00:00</th>\n",
              "      <td>서울 종로구</td>\n",
              "      <td>도시대기</td>\n",
              "      <td>111123</td>\n",
              "      <td>종로구</td>\n",
              "      <td>2022010103</td>\n",
              "      <td>0.003</td>\n",
              "      <td>0.5</td>\n",
              "      <td>0.014</td>\n",
              "      <td>0.028</td>\n",
              "      <td>20.0</td>\n",
              "      <td>...</td>\n",
              "      <td>NaN</td>\n",
              "      <td>2000</td>\n",
              "      <td>NaN</td>\n",
              "      <td>NaN</td>\n",
              "      <td>-7.5</td>\n",
              "      <td>NaN</td>\n",
              "      <td>-1.3</td>\n",
              "      <td>-1.2</td>\n",
              "      <td>-0.2</td>\n",
              "      <td>1.0</td>\n",
              "    </tr>\n",
              "    <tr>\n",
              "      <th>2022-01-01 03:00:00</th>\n",
              "      <td>서울 종로구</td>\n",
              "      <td>도시대기</td>\n",
              "      <td>111123</td>\n",
              "      <td>종로구</td>\n",
              "      <td>2022010104</td>\n",
              "      <td>0.003</td>\n",
              "      <td>0.5</td>\n",
              "      <td>0.016</td>\n",
              "      <td>0.027</td>\n",
              "      <td>19.0</td>\n",
              "      <td>...</td>\n",
              "      <td>NaN</td>\n",
              "      <td>2000</td>\n",
              "      <td>NaN</td>\n",
              "      <td>NaN</td>\n",
              "      <td>-7.6</td>\n",
              "      <td>NaN</td>\n",
              "      <td>-1.4</td>\n",
              "      <td>-1.2</td>\n",
              "      <td>-0.2</td>\n",
              "      <td>1.0</td>\n",
              "    </tr>\n",
              "    <tr>\n",
              "      <th>2022-01-01 04:00:00</th>\n",
              "      <td>서울 종로구</td>\n",
              "      <td>도시대기</td>\n",
              "      <td>111123</td>\n",
              "      <td>종로구</td>\n",
              "      <td>2022010105</td>\n",
              "      <td>0.003</td>\n",
              "      <td>0.5</td>\n",
              "      <td>0.005</td>\n",
              "      <td>0.040</td>\n",
              "      <td>24.0</td>\n",
              "      <td>...</td>\n",
              "      <td>NaN</td>\n",
              "      <td>2000</td>\n",
              "      <td>NaN</td>\n",
              "      <td>NaN</td>\n",
              "      <td>-7.6</td>\n",
              "      <td>NaN</td>\n",
              "      <td>-1.4</td>\n",
              "      <td>-1.3</td>\n",
              "      <td>-0.3</td>\n",
              "      <td>1.0</td>\n",
              "    </tr>\n",
              "  </tbody>\n",
              "</table>\n",
              "<p>5 rows × 50 columns</p>\n",
              "</div>"
            ],
            "text/plain": [
              "                         지역     망   측정소코드 측정소명        측정일시    SO2   CO     O3  \\\n",
              "time                                                                            \n",
              "2022-01-01 00:00:00  서울 종로구  도시대기  111123  종로구  2022010101  0.003  0.4  0.026   \n",
              "2022-01-01 01:00:00  서울 종로구  도시대기  111123  종로구  2022010102  0.003  0.4  0.022   \n",
              "2022-01-01 02:00:00  서울 종로구  도시대기  111123  종로구  2022010103  0.003  0.5  0.014   \n",
              "2022-01-01 03:00:00  서울 종로구  도시대기  111123  종로구  2022010104  0.003  0.5  0.016   \n",
              "2022-01-01 04:00:00  서울 종로구  도시대기  111123  종로구  2022010105  0.003  0.5  0.005   \n",
              "\n",
              "                       NO2  PM10  ...  최저운고(100m ) 시정(10m)  지면상태(지면상태코드)  \\\n",
              "time                              ...                                      \n",
              "2022-01-01 00:00:00  0.016  23.0  ...          NaN    2000           NaN   \n",
              "2022-01-01 01:00:00  0.020  20.0  ...          NaN    2000           NaN   \n",
              "2022-01-01 02:00:00  0.028  20.0  ...          NaN    2000           NaN   \n",
              "2022-01-01 03:00:00  0.027  19.0  ...          NaN    2000           NaN   \n",
              "2022-01-01 04:00:00  0.040  24.0  ...          NaN    2000           NaN   \n",
              "\n",
              "                    현상번호(국내식) 지면온도(°C)  지면온도 QC플래그  5cm 지중온도(°C)  \\\n",
              "time                                                               \n",
              "2022-01-01 00:00:00       NaN     -7.0         NaN          -1.0   \n",
              "2022-01-01 01:00:00       NaN     -7.2         NaN          -1.1   \n",
              "2022-01-01 02:00:00       NaN     -7.5         NaN          -1.3   \n",
              "2022-01-01 03:00:00       NaN     -7.6         NaN          -1.4   \n",
              "2022-01-01 04:00:00       NaN     -7.6         NaN          -1.4   \n",
              "\n",
              "                     10cm 지중온도(°C)  20cm 지중온도(°C)  30cm 지중온도(°C)  \n",
              "time                                                              \n",
              "2022-01-01 00:00:00           -1.0           -0.2            1.0  \n",
              "2022-01-01 01:00:00           -1.1           -0.2            1.0  \n",
              "2022-01-01 02:00:00           -1.2           -0.2            1.0  \n",
              "2022-01-01 03:00:00           -1.2           -0.2            1.0  \n",
              "2022-01-01 04:00:00           -1.3           -0.3            1.0  \n",
              "\n",
              "[5 rows x 50 columns]"
            ]
          },
          "execution_count": 65,
          "metadata": {},
          "output_type": "execute_result"
        }
      ],
      "source": [
        "df_22.set_index('time', inplace=True)\n",
        "df_22.head()"
      ]
    },
    {
      "cell_type": "code",
      "execution_count": null,
      "id": "f7d391da-8e21-4eb1-98d9-d4b99e6f79e1",
      "metadata": {
        "tags": [],
        "id": "f7d391da-8e21-4eb1-98d9-d4b99e6f79e1",
        "outputId": "582a73f9-df11-4372-c6c4-c0202f0d91a5"
      },
      "outputs": [
        {
          "data": {
            "text/html": [
              "<div>\n",
              "<style scoped>\n",
              "    .dataframe tbody tr th:only-of-type {\n",
              "        vertical-align: middle;\n",
              "    }\n",
              "\n",
              "    .dataframe tbody tr th {\n",
              "        vertical-align: top;\n",
              "    }\n",
              "\n",
              "    .dataframe thead th {\n",
              "        text-align: right;\n",
              "    }\n",
              "</style>\n",
              "<table border=\"1\" class=\"dataframe\">\n",
              "  <thead>\n",
              "    <tr style=\"text-align: right;\">\n",
              "      <th></th>\n",
              "      <th>지역</th>\n",
              "      <th>망</th>\n",
              "      <th>측정소코드</th>\n",
              "      <th>측정소명</th>\n",
              "      <th>측정일시</th>\n",
              "      <th>SO2</th>\n",
              "      <th>CO</th>\n",
              "      <th>O3</th>\n",
              "      <th>NO2</th>\n",
              "      <th>PM10</th>\n",
              "      <th>...</th>\n",
              "      <th>최저운고(100m )</th>\n",
              "      <th>시정(10m)</th>\n",
              "      <th>지면상태(지면상태코드)</th>\n",
              "      <th>현상번호(국내식)</th>\n",
              "      <th>지면온도(°C)</th>\n",
              "      <th>지면온도 QC플래그</th>\n",
              "      <th>5cm 지중온도(°C)</th>\n",
              "      <th>10cm 지중온도(°C)</th>\n",
              "      <th>20cm 지중온도(°C)</th>\n",
              "      <th>30cm 지중온도(°C)</th>\n",
              "    </tr>\n",
              "    <tr>\n",
              "      <th>time</th>\n",
              "      <th></th>\n",
              "      <th></th>\n",
              "      <th></th>\n",
              "      <th></th>\n",
              "      <th></th>\n",
              "      <th></th>\n",
              "      <th></th>\n",
              "      <th></th>\n",
              "      <th></th>\n",
              "      <th></th>\n",
              "      <th></th>\n",
              "      <th></th>\n",
              "      <th></th>\n",
              "      <th></th>\n",
              "      <th></th>\n",
              "      <th></th>\n",
              "      <th></th>\n",
              "      <th></th>\n",
              "      <th></th>\n",
              "      <th></th>\n",
              "      <th></th>\n",
              "    </tr>\n",
              "  </thead>\n",
              "  <tbody>\n",
              "    <tr>\n",
              "      <th>2023-01-01 00:00:00</th>\n",
              "      <td>서울 종로구</td>\n",
              "      <td>도시대기</td>\n",
              "      <td>111123</td>\n",
              "      <td>종로구</td>\n",
              "      <td>2023010101</td>\n",
              "      <td>0.005</td>\n",
              "      <td>1.4</td>\n",
              "      <td>0.002</td>\n",
              "      <td>0.064</td>\n",
              "      <td>68.0</td>\n",
              "      <td>...</td>\n",
              "      <td>NaN</td>\n",
              "      <td>1503</td>\n",
              "      <td>NaN</td>\n",
              "      <td>NaN</td>\n",
              "      <td>-1.6</td>\n",
              "      <td>NaN</td>\n",
              "      <td>-0.3</td>\n",
              "      <td>-0.6</td>\n",
              "      <td>-0.5</td>\n",
              "      <td>0.6</td>\n",
              "    </tr>\n",
              "    <tr>\n",
              "      <th>2023-01-01 01:00:00</th>\n",
              "      <td>서울 종로구</td>\n",
              "      <td>도시대기</td>\n",
              "      <td>111123</td>\n",
              "      <td>종로구</td>\n",
              "      <td>2023010102</td>\n",
              "      <td>0.004</td>\n",
              "      <td>1.4</td>\n",
              "      <td>0.002</td>\n",
              "      <td>0.061</td>\n",
              "      <td>64.0</td>\n",
              "      <td>...</td>\n",
              "      <td>12.0</td>\n",
              "      <td>1104</td>\n",
              "      <td>NaN</td>\n",
              "      <td>NaN</td>\n",
              "      <td>-1.4</td>\n",
              "      <td>NaN</td>\n",
              "      <td>-0.3</td>\n",
              "      <td>-0.5</td>\n",
              "      <td>-0.5</td>\n",
              "      <td>0.6</td>\n",
              "    </tr>\n",
              "    <tr>\n",
              "      <th>2023-01-01 02:00:00</th>\n",
              "      <td>서울 종로구</td>\n",
              "      <td>도시대기</td>\n",
              "      <td>111123</td>\n",
              "      <td>종로구</td>\n",
              "      <td>2023010103</td>\n",
              "      <td>0.004</td>\n",
              "      <td>1.0</td>\n",
              "      <td>0.002</td>\n",
              "      <td>0.051</td>\n",
              "      <td>67.0</td>\n",
              "      <td>...</td>\n",
              "      <td>11.0</td>\n",
              "      <td>925</td>\n",
              "      <td>NaN</td>\n",
              "      <td>40.0</td>\n",
              "      <td>-1.6</td>\n",
              "      <td>NaN</td>\n",
              "      <td>-0.3</td>\n",
              "      <td>-0.5</td>\n",
              "      <td>-0.5</td>\n",
              "      <td>0.6</td>\n",
              "    </tr>\n",
              "    <tr>\n",
              "      <th>2023-01-01 03:00:00</th>\n",
              "      <td>서울 종로구</td>\n",
              "      <td>도시대기</td>\n",
              "      <td>111123</td>\n",
              "      <td>종로구</td>\n",
              "      <td>2023010104</td>\n",
              "      <td>0.004</td>\n",
              "      <td>0.7</td>\n",
              "      <td>0.012</td>\n",
              "      <td>0.030</td>\n",
              "      <td>76.0</td>\n",
              "      <td>...</td>\n",
              "      <td>16.0</td>\n",
              "      <td>794</td>\n",
              "      <td>NaN</td>\n",
              "      <td>40.0</td>\n",
              "      <td>-1.8</td>\n",
              "      <td>NaN</td>\n",
              "      <td>-0.3</td>\n",
              "      <td>-0.5</td>\n",
              "      <td>-0.5</td>\n",
              "      <td>0.6</td>\n",
              "    </tr>\n",
              "    <tr>\n",
              "      <th>2023-01-01 04:00:00</th>\n",
              "      <td>서울 종로구</td>\n",
              "      <td>도시대기</td>\n",
              "      <td>111123</td>\n",
              "      <td>종로구</td>\n",
              "      <td>2023010105</td>\n",
              "      <td>0.004</td>\n",
              "      <td>0.7</td>\n",
              "      <td>0.021</td>\n",
              "      <td>0.017</td>\n",
              "      <td>81.0</td>\n",
              "      <td>...</td>\n",
              "      <td>10.0</td>\n",
              "      <td>709</td>\n",
              "      <td>NaN</td>\n",
              "      <td>40.0</td>\n",
              "      <td>-1.3</td>\n",
              "      <td>NaN</td>\n",
              "      <td>-0.2</td>\n",
              "      <td>-0.5</td>\n",
              "      <td>-0.5</td>\n",
              "      <td>0.6</td>\n",
              "    </tr>\n",
              "  </tbody>\n",
              "</table>\n",
              "<p>5 rows × 50 columns</p>\n",
              "</div>"
            ],
            "text/plain": [
              "                         지역     망   측정소코드 측정소명        측정일시    SO2   CO     O3  \\\n",
              "time                                                                            \n",
              "2023-01-01 00:00:00  서울 종로구  도시대기  111123  종로구  2023010101  0.005  1.4  0.002   \n",
              "2023-01-01 01:00:00  서울 종로구  도시대기  111123  종로구  2023010102  0.004  1.4  0.002   \n",
              "2023-01-01 02:00:00  서울 종로구  도시대기  111123  종로구  2023010103  0.004  1.0  0.002   \n",
              "2023-01-01 03:00:00  서울 종로구  도시대기  111123  종로구  2023010104  0.004  0.7  0.012   \n",
              "2023-01-01 04:00:00  서울 종로구  도시대기  111123  종로구  2023010105  0.004  0.7  0.021   \n",
              "\n",
              "                       NO2  PM10  ...  최저운고(100m ) 시정(10m)  지면상태(지면상태코드)  \\\n",
              "time                              ...                                      \n",
              "2023-01-01 00:00:00  0.064  68.0  ...          NaN    1503           NaN   \n",
              "2023-01-01 01:00:00  0.061  64.0  ...         12.0    1104           NaN   \n",
              "2023-01-01 02:00:00  0.051  67.0  ...         11.0     925           NaN   \n",
              "2023-01-01 03:00:00  0.030  76.0  ...         16.0     794           NaN   \n",
              "2023-01-01 04:00:00  0.017  81.0  ...         10.0     709           NaN   \n",
              "\n",
              "                    현상번호(국내식) 지면온도(°C)  지면온도 QC플래그  5cm 지중온도(°C)  \\\n",
              "time                                                               \n",
              "2023-01-01 00:00:00       NaN     -1.6         NaN          -0.3   \n",
              "2023-01-01 01:00:00       NaN     -1.4         NaN          -0.3   \n",
              "2023-01-01 02:00:00      40.0     -1.6         NaN          -0.3   \n",
              "2023-01-01 03:00:00      40.0     -1.8         NaN          -0.3   \n",
              "2023-01-01 04:00:00      40.0     -1.3         NaN          -0.2   \n",
              "\n",
              "                     10cm 지중온도(°C)  20cm 지중온도(°C)  30cm 지중온도(°C)  \n",
              "time                                                              \n",
              "2023-01-01 00:00:00           -0.6           -0.5            0.6  \n",
              "2023-01-01 01:00:00           -0.5           -0.5            0.6  \n",
              "2023-01-01 02:00:00           -0.5           -0.5            0.6  \n",
              "2023-01-01 03:00:00           -0.5           -0.5            0.6  \n",
              "2023-01-01 04:00:00           -0.5           -0.5            0.6  \n",
              "\n",
              "[5 rows x 50 columns]"
            ]
          },
          "execution_count": 66,
          "metadata": {},
          "output_type": "execute_result"
        }
      ],
      "source": [
        "df_23.set_index('time', inplace=True)\n",
        "df_23.head()"
      ]
    },
    {
      "cell_type": "code",
      "execution_count": null,
      "id": "351bed8d",
      "metadata": {
        "tags": [],
        "id": "351bed8d"
      },
      "outputs": [],
      "source": [
        "# time 변수를 index로 세팅\n"
      ]
    },
    {
      "cell_type": "markdown",
      "id": "d227338e-eb0d-44e3-b847-c2f95287dab8",
      "metadata": {
        "tags": [],
        "id": "d227338e-eb0d-44e3-b847-c2f95287dab8"
      },
      "source": [
        "#### 5) 변수들의 결측치 처리"
      ]
    },
    {
      "cell_type": "code",
      "execution_count": null,
      "id": "e38d021e",
      "metadata": {
        "id": "e38d021e",
        "outputId": "e86dde64-cff0-45fe-c4c3-d5db0c615718"
      },
      "outputs": [
        {
          "data": {
            "text/plain": [
              "지역                  0\n",
              "망                   0\n",
              "측정소코드               0\n",
              "측정소명                0\n",
              "측정일시                0\n",
              "SO2                 0\n",
              "CO                 87\n",
              "O3                  0\n",
              "NO2                87\n",
              "PM10              156\n",
              "PM25              105\n",
              "주소                  0\n",
              "지점                  0\n",
              "지점명                 0\n",
              "일시                  0\n",
              "기온(°C)              0\n",
              "기온 QC플래그         8760\n",
              "강수량(mm)          7821\n",
              "강수량 QC플래그        7192\n",
              "풍속(m/s)             0\n",
              "풍속 QC플래그         8760\n",
              "풍향(16방위)            0\n",
              "풍향 QC플래그         8760\n",
              "습도(%)               0\n",
              "습도 QC플래그         8760\n",
              "증기압(hPa)            0\n",
              "이슬점온도(°C)           0\n",
              "현지기압(hPa)           0\n",
              "현지기압 QC플래그       8760\n",
              "해면기압(hPa)           0\n",
              "해면기압 QC플래그       8760\n",
              "일조(hr)              8\n",
              "일조 QC플래그         4791\n",
              "일사(MJ/m2)        3969\n",
              "일사 QC플래그         4790\n",
              "적설(cm)           8271\n",
              "3시간신적설(cm)       8729\n",
              "전운량(10분위)           0\n",
              "중하층운량(10분위)         0\n",
              "운형(운형약어)         3945\n",
              "최저운고(100m )      4305\n",
              "시정(10m)             0\n",
              "지면상태(지면상태코드)     8760\n",
              "현상번호(국내식)        7033\n",
              "지면온도(°C)            1\n",
              "지면온도 QC플래그       8745\n",
              "5cm 지중온도(°C)        1\n",
              "10cm 지중온도(°C)       1\n",
              "20cm 지중온도(°C)       1\n",
              "30cm 지중온도(°C)       1\n",
              "dtype: int64"
            ]
          },
          "execution_count": 68,
          "metadata": {},
          "output_type": "execute_result"
        }
      ],
      "source": [
        "# df_22, df_23의 결측치 확인\n",
        "df_22.isna().sum()"
      ]
    },
    {
      "cell_type": "code",
      "execution_count": null,
      "id": "550a942c-5e8f-4b99-b2f1-481821a35d18",
      "metadata": {
        "tags": [],
        "id": "550a942c-5e8f-4b99-b2f1-481821a35d18",
        "outputId": "16e3cbb9-0562-4e5e-da99-9c5cc3d4fad6"
      },
      "outputs": [
        {
          "data": {
            "text/plain": [
              "지역                  0\n",
              "망                   0\n",
              "측정소코드               0\n",
              "측정소명                0\n",
              "측정일시                0\n",
              "SO2               244\n",
              "CO                 34\n",
              "O3                 61\n",
              "NO2                34\n",
              "PM10               40\n",
              "PM25               39\n",
              "주소                  0\n",
              "지점                  0\n",
              "지점명                 0\n",
              "일시                  0\n",
              "기온(°C)              0\n",
              "기온 QC플래그         5832\n",
              "강수량(mm)          5023\n",
              "강수량 QC플래그        4897\n",
              "풍속(m/s)             0\n",
              "풍속 QC플래그         5832\n",
              "풍향(16방위)            0\n",
              "풍향 QC플래그         5832\n",
              "습도(%)               0\n",
              "습도 QC플래그         5832\n",
              "증기압(hPa)            0\n",
              "이슬점온도(°C)           0\n",
              "현지기압(hPa)           0\n",
              "현지기압 QC플래그       5832\n",
              "해면기압(hPa)           0\n",
              "해면기압 QC플래그       5832\n",
              "일조(hr)           2489\n",
              "일조 QC플래그         3343\n",
              "일사(MJ/m2)        2489\n",
              "일사 QC플래그         3343\n",
              "적설(cm)           5756\n",
              "3시간신적설(cm)       5823\n",
              "전운량(10분위)           0\n",
              "중하층운량(10분위)         0\n",
              "운형(운형약어)         2454\n",
              "최저운고(100m )      2689\n",
              "시정(10m)             0\n",
              "지면상태(지면상태코드)     5832\n",
              "현상번호(국내식)        4177\n",
              "지면온도(°C)            0\n",
              "지면온도 QC플래그       5824\n",
              "5cm 지중온도(°C)        0\n",
              "10cm 지중온도(°C)       0\n",
              "20cm 지중온도(°C)       0\n",
              "30cm 지중온도(°C)       0\n",
              "dtype: int64"
            ]
          },
          "execution_count": 69,
          "metadata": {},
          "output_type": "execute_result"
        }
      ],
      "source": [
        "df_23.isna().sum()"
      ]
    },
    {
      "cell_type": "code",
      "execution_count": null,
      "id": "d5ceccfc",
      "metadata": {
        "id": "d5ceccfc"
      },
      "outputs": [],
      "source": [
        "# df_22, df_23의 변수 중 결측치를 처리(결측치 처리 방법은 다양!)\n",
        "# 선택해서 결측치를 처리해보세요.\n",
        "\n"
      ]
    },
    {
      "cell_type": "code",
      "execution_count": null,
      "id": "ee480f6b-da7b-449f-a0b6-758ff03deaa9",
      "metadata": {
        "tags": [],
        "id": "ee480f6b-da7b-449f-a0b6-758ff03deaa9",
        "outputId": "0b7e22c6-f95d-40b3-e7f1-f9618a18f348"
      },
      "outputs": [
        {
          "data": {
            "text/plain": [
              "0"
            ]
          },
          "execution_count": 71,
          "metadata": {},
          "output_type": "execute_result"
        }
      ],
      "source": [
        "# df_22.set_index(df['time'], inplace=True)\n",
        "df_22['CO'].interpolate(method='time', inplace=True)\n",
        "df_22['CO'].isna().sum()"
      ]
    },
    {
      "cell_type": "code",
      "execution_count": null,
      "id": "04d388df-cfd2-40e0-a50d-2ff1dd43923c",
      "metadata": {
        "tags": [],
        "id": "04d388df-cfd2-40e0-a50d-2ff1dd43923c",
        "outputId": "4c2f1b6a-7405-46d1-b14d-b0183f16fa8b"
      },
      "outputs": [
        {
          "data": {
            "text/plain": [
              "0"
            ]
          },
          "execution_count": 72,
          "metadata": {},
          "output_type": "execute_result"
        }
      ],
      "source": [
        "df_23['CO'].interpolate(method='time', inplace=True)\n",
        "df_23['CO'].isna().sum()"
      ]
    },
    {
      "cell_type": "code",
      "execution_count": null,
      "id": "c87b46e2-c708-4bbe-96eb-5132b995a7c8",
      "metadata": {
        "tags": [],
        "id": "c87b46e2-c708-4bbe-96eb-5132b995a7c8",
        "outputId": "7dfa94a1-1881-448a-fade-1ce53c56a513"
      },
      "outputs": [
        {
          "data": {
            "text/plain": [
              "0"
            ]
          },
          "execution_count": 73,
          "metadata": {},
          "output_type": "execute_result"
        }
      ],
      "source": [
        "# df_22.set_index(df['time'], inplace=True)\n",
        "df_22['SO2'].interpolate(method='time', inplace=True)\n",
        "df_22['SO2'].isna().sum()"
      ]
    },
    {
      "cell_type": "code",
      "execution_count": null,
      "id": "c5da5d35-2aa4-4f7c-9d15-1b86db68568e",
      "metadata": {
        "tags": [],
        "id": "c5da5d35-2aa4-4f7c-9d15-1b86db68568e",
        "outputId": "9dc16487-7743-4051-bd21-44843af2fea5"
      },
      "outputs": [
        {
          "data": {
            "text/plain": [
              "0"
            ]
          },
          "execution_count": 74,
          "metadata": {},
          "output_type": "execute_result"
        }
      ],
      "source": [
        "df_23['SO2'].interpolate(method='time', inplace=True)\n",
        "df_23['SO2'].isna().sum()"
      ]
    },
    {
      "cell_type": "code",
      "execution_count": null,
      "id": "a4f7de08-edc5-4927-bd2e-03b9fd341784",
      "metadata": {
        "tags": [],
        "id": "a4f7de08-edc5-4927-bd2e-03b9fd341784",
        "outputId": "62d9f46f-faa3-4a28-c3ed-109d07172cee"
      },
      "outputs": [
        {
          "data": {
            "text/plain": [
              "0"
            ]
          },
          "execution_count": 75,
          "metadata": {},
          "output_type": "execute_result"
        }
      ],
      "source": [
        "df_22['NO2'].interpolate(method='time', inplace=True)\n",
        "df_22['NO2'].isna().sum()"
      ]
    },
    {
      "cell_type": "code",
      "execution_count": null,
      "id": "c4de6f19-05c7-4410-a893-58e0739ea55f",
      "metadata": {
        "tags": [],
        "id": "c4de6f19-05c7-4410-a893-58e0739ea55f",
        "outputId": "3cb04625-1645-4a31-8ef9-e720ed53bdec"
      },
      "outputs": [
        {
          "data": {
            "text/plain": [
              "0"
            ]
          },
          "execution_count": 76,
          "metadata": {},
          "output_type": "execute_result"
        }
      ],
      "source": [
        "df_23['NO2'].interpolate(method='time', inplace=True)\n",
        "df_23['NO2'].isna().sum()"
      ]
    },
    {
      "cell_type": "code",
      "execution_count": null,
      "id": "6e6055bd-f305-423d-998c-48ad77be2f14",
      "metadata": {
        "tags": [],
        "id": "6e6055bd-f305-423d-998c-48ad77be2f14",
        "outputId": "a187868b-2767-4f8d-8638-7584cf4cad89"
      },
      "outputs": [
        {
          "data": {
            "text/plain": [
              "0"
            ]
          },
          "execution_count": 77,
          "metadata": {},
          "output_type": "execute_result"
        }
      ],
      "source": [
        "df_22['O3'].interpolate(method='time', inplace=True)\n",
        "df_22['O3'].isna().sum()"
      ]
    },
    {
      "cell_type": "code",
      "execution_count": null,
      "id": "75c9f239-b069-45bc-a6b2-995f14afe8fe",
      "metadata": {
        "tags": [],
        "id": "75c9f239-b069-45bc-a6b2-995f14afe8fe",
        "outputId": "bf00e0e4-55a0-4385-8842-ce676586b286"
      },
      "outputs": [
        {
          "name": "stdout",
          "output_type": "stream",
          "text": [
            "61\n",
            "0\n"
          ]
        }
      ],
      "source": [
        "print(df_23['O3'].isna().sum())\n",
        "df_23['O3'].interpolate(method='time', inplace=True)\n",
        "print(df_23['O3'].isna().sum())"
      ]
    },
    {
      "cell_type": "code",
      "execution_count": null,
      "id": "a2cbabe9-ccc6-41ab-aa46-7de71fb48ed2",
      "metadata": {
        "tags": [],
        "id": "a2cbabe9-ccc6-41ab-aa46-7de71fb48ed2"
      },
      "outputs": [],
      "source": [
        "df_22['PM10'].interpolate(method='time', inplace=True)\n",
        "df_23['PM10'].interpolate(method='time', inplace=True)\n",
        "df_22['PM25'].interpolate(method='time', inplace=True)\n",
        "df_23['PM25'].interpolate(method='time', inplace=True)\n",
        "df_22['일조(hr)'].interpolate(method='time', inplace=True)\n",
        "df_23['일조(hr)'].interpolate(method='time', inplace=True)\n",
        "df_22['일사(MJ/m2)'].interpolate(method='time', inplace=True)\n",
        "df_23['일사(MJ/m2)'].interpolate(method='time', inplace=True)\n",
        "df_22['지면온도(°C)'].interpolate(method='time', inplace=True)\n",
        "df_22['5cm 지중온도(°C)'].interpolate(method='time', inplace=True)\n",
        "df_22['10cm 지중온도(°C)'].interpolate(method='time', inplace=True)\n",
        "df_22['20cm 지중온도(°C)'].interpolate(method='time', inplace=True)\n",
        "df_22['30cm 지중온도(°C)'].interpolate(method='time', inplace=True)"
      ]
    },
    {
      "cell_type": "code",
      "execution_count": null,
      "id": "18602a26-8631-470f-9a63-3dd8a7cd8ae2",
      "metadata": {
        "tags": [],
        "id": "18602a26-8631-470f-9a63-3dd8a7cd8ae2",
        "outputId": "a766dcae-a695-449b-90a0-f06b839785f6"
      },
      "outputs": [
        {
          "data": {
            "text/plain": [
              "0.22284417549167929"
            ]
          },
          "execution_count": 80,
          "metadata": {},
          "output_type": "execute_result"
        }
      ],
      "source": [
        "df_22['적설(cm)'].interpolate(method='time')[1600]\n",
        "# 8월인데 눈 왔다고 나옴. 적설은 interpolate에서 제외하도록."
      ]
    },
    {
      "cell_type": "code",
      "execution_count": null,
      "id": "b6229e5f-02cd-4cf4-957f-bbb28f4a3054",
      "metadata": {
        "tags": [],
        "id": "b6229e5f-02cd-4cf4-957f-bbb28f4a3054",
        "outputId": "c66ac4aa-a205-473e-9cdd-50b9b9d09d8a"
      },
      "outputs": [
        {
          "data": {
            "text/plain": [
              "지역                         서울 종로구\n",
              "망                            도시대기\n",
              "측정소코드                      111123\n",
              "측정소명                          종로구\n",
              "측정일시                   2022122606\n",
              "SO2                         0.003\n",
              "CO                            1.1\n",
              "O3                          0.002\n",
              "NO2                         0.057\n",
              "PM10                         45.0\n",
              "PM25                         38.0\n",
              "주소               서울 종로구 종로35가길 19\n",
              "지점                            108\n",
              "지점명                            서울\n",
              "일시               2022-12-26 05:00\n",
              "기온(°C)                       -7.1\n",
              "기온 QC플래그                      NaN\n",
              "강수량(mm)                       NaN\n",
              "강수량 QC플래그                     NaN\n",
              "풍속(m/s)                       0.8\n",
              "풍속 QC플래그                      NaN\n",
              "풍향(16방위)                      290\n",
              "풍향 QC플래그                      NaN\n",
              "습도(%)                          82\n",
              "습도 QC플래그                      NaN\n",
              "증기압(hPa)                      3.0\n",
              "이슬점온도(°C)                    -9.6\n",
              "현지기압(hPa)                  1014.5\n",
              "현지기압 QC플래그                    NaN\n",
              "해면기압(hPa)                  1025.7\n",
              "해면기압 QC플래그                    NaN\n",
              "일조(hr)                        0.0\n",
              "일조 QC플래그                      9.0\n",
              "일사(MJ/m2)                0.002143\n",
              "일사 QC플래그                      9.0\n",
              "적설(cm)                        1.2\n",
              "3시간신적설(cm)                    NaN\n",
              "전운량(10분위)                       0\n",
              "중하층운량(10분위)                     0\n",
              "운형(운형약어)                      NaN\n",
              "최저운고(100m )                   NaN\n",
              "시정(10m)                      1400\n",
              "지면상태(지면상태코드)                  NaN\n",
              "현상번호(국내식)                     NaN\n",
              "지면온도(°C)                     -6.9\n",
              "지면온도 QC플래그                    NaN\n",
              "5cm 지중온도(°C)                 -1.6\n",
              "10cm 지중온도(°C)                -1.5\n",
              "20cm 지중온도(°C)                -0.6\n",
              "30cm 지중온도(°C)                 0.9\n",
              "Name: 2022-12-26 05:00:00, dtype: object"
            ]
          },
          "execution_count": 81,
          "metadata": {},
          "output_type": "execute_result"
        }
      ],
      "source": [
        "df_22[df_22['적설(cm)'].notna()].iloc[450]"
      ]
    },
    {
      "cell_type": "code",
      "execution_count": null,
      "id": "d94a0bef-1eb2-4539-b88e-103225411068",
      "metadata": {
        "tags": [],
        "id": "d94a0bef-1eb2-4539-b88e-103225411068"
      },
      "outputs": [],
      "source": [
        "# 적설이 NA인 곳은 그냥 0으로 채우기\n",
        "df_22['적설(cm)'].fillna(0, inplace=True)\n",
        "df_23['적설(cm)'].fillna(0, inplace=True)\n",
        "df_22['3시간신적설(cm)'].fillna(0, inplace=True)\n",
        "df_23['3시간신적설(cm)'].fillna(0, inplace=True)"
      ]
    },
    {
      "cell_type": "code",
      "execution_count": null,
      "id": "6949a8ab-1c10-4c1f-9295-42f11b0d5a05",
      "metadata": {
        "tags": [],
        "id": "6949a8ab-1c10-4c1f-9295-42f11b0d5a05",
        "outputId": "ee200883-d218-49c0-ded2-42aec89015ec"
      },
      "outputs": [
        {
          "data": {
            "text/plain": [
              "강수량(mm)    1.1\n",
              "적설(cm)     0.0\n",
              "Name: 2022-07-24 00:00:00, dtype: float64"
            ]
          },
          "execution_count": 83,
          "metadata": {},
          "output_type": "execute_result"
        }
      ],
      "source": [
        "df_22[df_22['강수량(mm)'].notna() & df_22['적설(cm)'].notna()][['강수량(mm)', '적설(cm)']].iloc[450]"
      ]
    },
    {
      "cell_type": "code",
      "execution_count": null,
      "id": "55c99513-6272-49e7-94bc-3f603186b6c7",
      "metadata": {
        "tags": [],
        "id": "55c99513-6272-49e7-94bc-3f603186b6c7"
      },
      "outputs": [],
      "source": [
        "# 대부분 강수량이 0인 곳은 적설도 0 근데 비는 사계 모두 내리니까 그냥 interpolate\n",
        "df_22['강수량(mm)'].interpolate(method='time', inplace=True)\n",
        "df_23['강수량(mm)'].interpolate(method='time', inplace=True)"
      ]
    },
    {
      "cell_type": "code",
      "execution_count": null,
      "id": "f37251a9",
      "metadata": {
        "id": "f37251a9",
        "outputId": "6cbfa258-cfdc-4412-e176-da222fd1bb08"
      },
      "outputs": [
        {
          "data": {
            "text/plain": [
              "지역                  0\n",
              "망                   0\n",
              "측정소코드               0\n",
              "측정소명                0\n",
              "측정일시                0\n",
              "SO2                 0\n",
              "CO                  0\n",
              "O3                  0\n",
              "NO2                 0\n",
              "PM10                0\n",
              "PM25                0\n",
              "주소                  0\n",
              "지점                  0\n",
              "지점명                 0\n",
              "일시                  0\n",
              "기온(°C)              0\n",
              "기온 QC플래그         8760\n",
              "강수량(mm)            30\n",
              "강수량 QC플래그        7192\n",
              "풍속(m/s)             0\n",
              "풍속 QC플래그         8760\n",
              "풍향(16방위)            0\n",
              "풍향 QC플래그         8760\n",
              "습도(%)               0\n",
              "습도 QC플래그         8760\n",
              "증기압(hPa)            0\n",
              "이슬점온도(°C)           0\n",
              "현지기압(hPa)           0\n",
              "현지기압 QC플래그       8760\n",
              "해면기압(hPa)           0\n",
              "해면기압 QC플래그       8760\n",
              "일조(hr)              8\n",
              "일조 QC플래그         4791\n",
              "일사(MJ/m2)           8\n",
              "일사 QC플래그         4790\n",
              "적설(cm)              0\n",
              "3시간신적설(cm)          0\n",
              "전운량(10분위)           0\n",
              "중하층운량(10분위)         0\n",
              "운형(운형약어)         3945\n",
              "최저운고(100m )      4305\n",
              "시정(10m)             0\n",
              "지면상태(지면상태코드)     8760\n",
              "현상번호(국내식)        7033\n",
              "지면온도(°C)            0\n",
              "지면온도 QC플래그       8745\n",
              "5cm 지중온도(°C)        0\n",
              "10cm 지중온도(°C)       0\n",
              "20cm 지중온도(°C)       0\n",
              "30cm 지중온도(°C)       0\n",
              "dtype: int64"
            ]
          },
          "execution_count": 85,
          "metadata": {},
          "output_type": "execute_result"
        }
      ],
      "source": [
        "# df_22, df_23의 결측치 처리 후 재확인 해보기\n",
        "df_22.isna().sum()"
      ]
    },
    {
      "cell_type": "code",
      "execution_count": null,
      "id": "1bb0d561-c4d0-4c27-b9fe-b704202791a9",
      "metadata": {
        "tags": [],
        "id": "1bb0d561-c4d0-4c27-b9fe-b704202791a9"
      },
      "outputs": [],
      "source": [
        "df_22.dropna(axis=1, inplace=True)\n",
        "df_23.dropna(axis=1, inplace=True)"
      ]
    },
    {
      "cell_type": "code",
      "execution_count": null,
      "id": "2e1760dd-a427-4997-a48e-fd83f9b50e6a",
      "metadata": {
        "tags": [],
        "id": "2e1760dd-a427-4997-a48e-fd83f9b50e6a",
        "outputId": "4bb8ae55-14d4-43bb-b561-b5a9d54fe696"
      },
      "outputs": [
        {
          "data": {
            "text/plain": [
              "Index(['지역', '망', '측정소코드', '측정소명', '측정일시', 'SO2', 'CO', 'O3', 'NO2', 'PM10',\n",
              "       'PM25', '주소', '지점', '지점명', '일시', '기온(°C)', '풍속(m/s)', '풍향(16방위)',\n",
              "       '습도(%)', '증기압(hPa)', '이슬점온도(°C)', '현지기압(hPa)', '해면기압(hPa)', '적설(cm)',\n",
              "       '3시간신적설(cm)', '전운량(10분위)', '중하층운량(10분위)', '시정(10m)', '지면온도(°C)',\n",
              "       '5cm 지중온도(°C)', '10cm 지중온도(°C)', '20cm 지중온도(°C)', '30cm 지중온도(°C)'],\n",
              "      dtype='object')"
            ]
          },
          "execution_count": 87,
          "metadata": {},
          "output_type": "execute_result"
        }
      ],
      "source": [
        "df_22.columns"
      ]
    },
    {
      "cell_type": "code",
      "execution_count": null,
      "id": "ac1c7b1c-437b-451a-98d3-d4f2451b3786",
      "metadata": {
        "tags": [],
        "id": "ac1c7b1c-437b-451a-98d3-d4f2451b3786"
      },
      "outputs": [],
      "source": [
        "drop_col = ['지역', '망', '측정소코드', '측정소명', '주소', '지점', '지점명', '측정일시', '일시']"
      ]
    },
    {
      "cell_type": "code",
      "execution_count": null,
      "id": "61f8427d-0e15-4982-a9f1-678a807e969f",
      "metadata": {
        "tags": [],
        "id": "61f8427d-0e15-4982-a9f1-678a807e969f"
      },
      "outputs": [],
      "source": [
        "df_22.drop(columns=drop_col, inplace=True)\n",
        "df_23.drop(columns=drop_col, axis=1, inplace=True)"
      ]
    },
    {
      "cell_type": "code",
      "execution_count": null,
      "id": "3047ee09-5627-4a92-ab65-4f0c3d8b6dba",
      "metadata": {
        "tags": [],
        "id": "3047ee09-5627-4a92-ab65-4f0c3d8b6dba",
        "outputId": "a9b32340-e5d5-46ab-bb7c-bab6ff8896fc"
      },
      "outputs": [
        {
          "data": {
            "text/html": [
              "<div>\n",
              "<style scoped>\n",
              "    .dataframe tbody tr th:only-of-type {\n",
              "        vertical-align: middle;\n",
              "    }\n",
              "\n",
              "    .dataframe tbody tr th {\n",
              "        vertical-align: top;\n",
              "    }\n",
              "\n",
              "    .dataframe thead th {\n",
              "        text-align: right;\n",
              "    }\n",
              "</style>\n",
              "<table border=\"1\" class=\"dataframe\">\n",
              "  <thead>\n",
              "    <tr style=\"text-align: right;\">\n",
              "      <th></th>\n",
              "      <th>SO2</th>\n",
              "      <th>CO</th>\n",
              "      <th>O3</th>\n",
              "      <th>NO2</th>\n",
              "      <th>PM10</th>\n",
              "      <th>PM25</th>\n",
              "      <th>기온(°C)</th>\n",
              "      <th>풍속(m/s)</th>\n",
              "      <th>풍향(16방위)</th>\n",
              "      <th>습도(%)</th>\n",
              "      <th>...</th>\n",
              "      <th>적설(cm)</th>\n",
              "      <th>3시간신적설(cm)</th>\n",
              "      <th>전운량(10분위)</th>\n",
              "      <th>중하층운량(10분위)</th>\n",
              "      <th>시정(10m)</th>\n",
              "      <th>지면온도(°C)</th>\n",
              "      <th>5cm 지중온도(°C)</th>\n",
              "      <th>10cm 지중온도(°C)</th>\n",
              "      <th>20cm 지중온도(°C)</th>\n",
              "      <th>30cm 지중온도(°C)</th>\n",
              "    </tr>\n",
              "    <tr>\n",
              "      <th>time</th>\n",
              "      <th></th>\n",
              "      <th></th>\n",
              "      <th></th>\n",
              "      <th></th>\n",
              "      <th></th>\n",
              "      <th></th>\n",
              "      <th></th>\n",
              "      <th></th>\n",
              "      <th></th>\n",
              "      <th></th>\n",
              "      <th></th>\n",
              "      <th></th>\n",
              "      <th></th>\n",
              "      <th></th>\n",
              "      <th></th>\n",
              "      <th></th>\n",
              "      <th></th>\n",
              "      <th></th>\n",
              "      <th></th>\n",
              "      <th></th>\n",
              "      <th></th>\n",
              "    </tr>\n",
              "  </thead>\n",
              "  <tbody>\n",
              "    <tr>\n",
              "      <th>2022-01-01 00:00:00</th>\n",
              "      <td>0.003</td>\n",
              "      <td>0.4</td>\n",
              "      <td>0.026</td>\n",
              "      <td>0.016</td>\n",
              "      <td>23.0</td>\n",
              "      <td>12.0</td>\n",
              "      <td>-8.5</td>\n",
              "      <td>1.9</td>\n",
              "      <td>320</td>\n",
              "      <td>41</td>\n",
              "      <td>...</td>\n",
              "      <td>0.0</td>\n",
              "      <td>0.0</td>\n",
              "      <td>0</td>\n",
              "      <td>0</td>\n",
              "      <td>2000</td>\n",
              "      <td>-7.0</td>\n",
              "      <td>-1.0</td>\n",
              "      <td>-1.0</td>\n",
              "      <td>-0.2</td>\n",
              "      <td>1.0</td>\n",
              "    </tr>\n",
              "    <tr>\n",
              "      <th>2022-01-01 01:00:00</th>\n",
              "      <td>0.003</td>\n",
              "      <td>0.4</td>\n",
              "      <td>0.022</td>\n",
              "      <td>0.020</td>\n",
              "      <td>20.0</td>\n",
              "      <td>9.0</td>\n",
              "      <td>-9.2</td>\n",
              "      <td>1.8</td>\n",
              "      <td>270</td>\n",
              "      <td>42</td>\n",
              "      <td>...</td>\n",
              "      <td>0.0</td>\n",
              "      <td>0.0</td>\n",
              "      <td>0</td>\n",
              "      <td>0</td>\n",
              "      <td>2000</td>\n",
              "      <td>-7.2</td>\n",
              "      <td>-1.1</td>\n",
              "      <td>-1.1</td>\n",
              "      <td>-0.2</td>\n",
              "      <td>1.0</td>\n",
              "    </tr>\n",
              "    <tr>\n",
              "      <th>2022-01-01 02:00:00</th>\n",
              "      <td>0.003</td>\n",
              "      <td>0.5</td>\n",
              "      <td>0.014</td>\n",
              "      <td>0.028</td>\n",
              "      <td>20.0</td>\n",
              "      <td>9.0</td>\n",
              "      <td>-9.5</td>\n",
              "      <td>1.2</td>\n",
              "      <td>270</td>\n",
              "      <td>43</td>\n",
              "      <td>...</td>\n",
              "      <td>0.0</td>\n",
              "      <td>0.0</td>\n",
              "      <td>0</td>\n",
              "      <td>0</td>\n",
              "      <td>2000</td>\n",
              "      <td>-7.5</td>\n",
              "      <td>-1.3</td>\n",
              "      <td>-1.2</td>\n",
              "      <td>-0.2</td>\n",
              "      <td>1.0</td>\n",
              "    </tr>\n",
              "    <tr>\n",
              "      <th>2022-01-01 03:00:00</th>\n",
              "      <td>0.003</td>\n",
              "      <td>0.5</td>\n",
              "      <td>0.016</td>\n",
              "      <td>0.027</td>\n",
              "      <td>19.0</td>\n",
              "      <td>10.0</td>\n",
              "      <td>-9.3</td>\n",
              "      <td>1.4</td>\n",
              "      <td>290</td>\n",
              "      <td>46</td>\n",
              "      <td>...</td>\n",
              "      <td>0.0</td>\n",
              "      <td>0.0</td>\n",
              "      <td>0</td>\n",
              "      <td>0</td>\n",
              "      <td>2000</td>\n",
              "      <td>-7.6</td>\n",
              "      <td>-1.4</td>\n",
              "      <td>-1.2</td>\n",
              "      <td>-0.2</td>\n",
              "      <td>1.0</td>\n",
              "    </tr>\n",
              "    <tr>\n",
              "      <th>2022-01-01 04:00:00</th>\n",
              "      <td>0.003</td>\n",
              "      <td>0.5</td>\n",
              "      <td>0.005</td>\n",
              "      <td>0.040</td>\n",
              "      <td>24.0</td>\n",
              "      <td>11.0</td>\n",
              "      <td>-9.6</td>\n",
              "      <td>1.7</td>\n",
              "      <td>340</td>\n",
              "      <td>48</td>\n",
              "      <td>...</td>\n",
              "      <td>0.0</td>\n",
              "      <td>0.0</td>\n",
              "      <td>0</td>\n",
              "      <td>0</td>\n",
              "      <td>2000</td>\n",
              "      <td>-7.6</td>\n",
              "      <td>-1.4</td>\n",
              "      <td>-1.3</td>\n",
              "      <td>-0.3</td>\n",
              "      <td>1.0</td>\n",
              "    </tr>\n",
              "  </tbody>\n",
              "</table>\n",
              "<p>5 rows × 24 columns</p>\n",
              "</div>"
            ],
            "text/plain": [
              "                       SO2   CO     O3    NO2  PM10  PM25  기온(°C)  풍속(m/s)  \\\n",
              "time                                                                         \n",
              "2022-01-01 00:00:00  0.003  0.4  0.026  0.016  23.0  12.0    -8.5      1.9   \n",
              "2022-01-01 01:00:00  0.003  0.4  0.022  0.020  20.0   9.0    -9.2      1.8   \n",
              "2022-01-01 02:00:00  0.003  0.5  0.014  0.028  20.0   9.0    -9.5      1.2   \n",
              "2022-01-01 03:00:00  0.003  0.5  0.016  0.027  19.0  10.0    -9.3      1.4   \n",
              "2022-01-01 04:00:00  0.003  0.5  0.005  0.040  24.0  11.0    -9.6      1.7   \n",
              "\n",
              "                     풍향(16방위)  습도(%)  ...  적설(cm)  3시간신적설(cm)  전운량(10분위)  \\\n",
              "time                                  ...                                  \n",
              "2022-01-01 00:00:00       320     41  ...     0.0         0.0          0   \n",
              "2022-01-01 01:00:00       270     42  ...     0.0         0.0          0   \n",
              "2022-01-01 02:00:00       270     43  ...     0.0         0.0          0   \n",
              "2022-01-01 03:00:00       290     46  ...     0.0         0.0          0   \n",
              "2022-01-01 04:00:00       340     48  ...     0.0         0.0          0   \n",
              "\n",
              "                     중하층운량(10분위)  시정(10m)  지면온도(°C)  5cm 지중온도(°C)  \\\n",
              "time                                                                \n",
              "2022-01-01 00:00:00            0     2000      -7.0          -1.0   \n",
              "2022-01-01 01:00:00            0     2000      -7.2          -1.1   \n",
              "2022-01-01 02:00:00            0     2000      -7.5          -1.3   \n",
              "2022-01-01 03:00:00            0     2000      -7.6          -1.4   \n",
              "2022-01-01 04:00:00            0     2000      -7.6          -1.4   \n",
              "\n",
              "                     10cm 지중온도(°C)  20cm 지중온도(°C)  30cm 지중온도(°C)  \n",
              "time                                                              \n",
              "2022-01-01 00:00:00           -1.0           -0.2            1.0  \n",
              "2022-01-01 01:00:00           -1.1           -0.2            1.0  \n",
              "2022-01-01 02:00:00           -1.2           -0.2            1.0  \n",
              "2022-01-01 03:00:00           -1.2           -0.2            1.0  \n",
              "2022-01-01 04:00:00           -1.3           -0.3            1.0  \n",
              "\n",
              "[5 rows x 24 columns]"
            ]
          },
          "execution_count": 90,
          "metadata": {},
          "output_type": "execute_result"
        }
      ],
      "source": [
        "df_22.head()"
      ]
    },
    {
      "cell_type": "code",
      "execution_count": null,
      "id": "ff237432-73fc-4195-aa75-89608a52a5e7",
      "metadata": {
        "tags": [],
        "id": "ff237432-73fc-4195-aa75-89608a52a5e7",
        "outputId": "8329300f-8cec-4ba0-940e-4ecd72c7d88b"
      },
      "outputs": [
        {
          "data": {
            "text/plain": [
              "Index(['SO2', 'CO', 'O3', 'NO2', 'PM10', 'PM25', '기온(°C)', '풍속(m/s)',\n",
              "       '풍향(16방위)', '습도(%)', '증기압(hPa)', '이슬점온도(°C)', '현지기압(hPa)', '해면기압(hPa)',\n",
              "       '적설(cm)', '3시간신적설(cm)', '전운량(10분위)', '중하층운량(10분위)', '시정(10m)',\n",
              "       '지면온도(°C)', '5cm 지중온도(°C)', '10cm 지중온도(°C)', '20cm 지중온도(°C)',\n",
              "       '30cm 지중온도(°C)'],\n",
              "      dtype='object')"
            ]
          },
          "execution_count": 91,
          "metadata": {},
          "output_type": "execute_result"
        }
      ],
      "source": [
        "df_22.columns"
      ]
    },
    {
      "cell_type": "code",
      "execution_count": null,
      "id": "b220805e-5532-435d-a9ec-859b75ea2331",
      "metadata": {
        "tags": [],
        "id": "b220805e-5532-435d-a9ec-859b75ea2331",
        "outputId": "4d7a22a0-02a8-4aee-b641-7866deac2a58"
      },
      "outputs": [
        {
          "name": "stdout",
          "output_type": "stream",
          "text": [
            "<class 'pandas.core.frame.DataFrame'>\n",
            "DatetimeIndex: 8760 entries, 2022-01-01 00:00:00 to 2022-12-31 23:00:00\n",
            "Data columns (total 24 columns):\n",
            " #   Column         Non-Null Count  Dtype  \n",
            "---  ------         --------------  -----  \n",
            " 0   SO2            8760 non-null   float64\n",
            " 1   CO             8760 non-null   float64\n",
            " 2   O3             8760 non-null   float64\n",
            " 3   NO2            8760 non-null   float64\n",
            " 4   PM10           8760 non-null   float64\n",
            " 5   PM25           8760 non-null   float64\n",
            " 6   기온(°C)         8760 non-null   float64\n",
            " 7   풍속(m/s)        8760 non-null   float64\n",
            " 8   풍향(16방위)       8760 non-null   int64  \n",
            " 9   습도(%)          8760 non-null   int64  \n",
            " 10  증기압(hPa)       8760 non-null   float64\n",
            " 11  이슬점온도(°C)      8760 non-null   float64\n",
            " 12  현지기압(hPa)      8760 non-null   float64\n",
            " 13  해면기압(hPa)      8760 non-null   float64\n",
            " 14  적설(cm)         8760 non-null   float64\n",
            " 15  3시간신적설(cm)     8760 non-null   float64\n",
            " 16  전운량(10분위)      8760 non-null   int64  \n",
            " 17  중하층운량(10분위)    8760 non-null   int64  \n",
            " 18  시정(10m)        8760 non-null   int64  \n",
            " 19  지면온도(°C)       8760 non-null   float64\n",
            " 20  5cm 지중온도(°C)   8760 non-null   float64\n",
            " 21  10cm 지중온도(°C)  8760 non-null   float64\n",
            " 22  20cm 지중온도(°C)  8760 non-null   float64\n",
            " 23  30cm 지중온도(°C)  8760 non-null   float64\n",
            "dtypes: float64(19), int64(5)\n",
            "memory usage: 1.7 MB\n"
          ]
        }
      ],
      "source": [
        "df_22.info()"
      ]
    },
    {
      "cell_type": "code",
      "execution_count": null,
      "id": "73651974-bee6-4b62-ad40-cc40f90e4c8b",
      "metadata": {
        "tags": [],
        "id": "73651974-bee6-4b62-ad40-cc40f90e4c8b",
        "outputId": "f9f790d8-3283-48ce-cbc6-a9183ebada78"
      },
      "outputs": [
        {
          "data": {
            "text/plain": [
              "SO2                 0.003\n",
              "CO                  0.400\n",
              "O3                  0.026\n",
              "NO2                 0.016\n",
              "PM10               23.000\n",
              "PM25               12.000\n",
              "기온(°C)             -8.500\n",
              "풍속(m/s)             1.900\n",
              "풍향(16방위)          320.000\n",
              "습도(%)              41.000\n",
              "증기압(hPa)            1.300\n",
              "이슬점온도(°C)         -19.400\n",
              "현지기압(hPa)        1021.900\n",
              "해면기압(hPa)        1033.200\n",
              "적설(cm)              0.000\n",
              "3시간신적설(cm)          0.000\n",
              "전운량(10분위)           0.000\n",
              "중하층운량(10분위)         0.000\n",
              "시정(10m)          2000.000\n",
              "지면온도(°C)           -7.000\n",
              "5cm 지중온도(°C)       -1.000\n",
              "10cm 지중온도(°C)      -1.000\n",
              "20cm 지중온도(°C)      -0.200\n",
              "30cm 지중온도(°C)       1.000\n",
              "Name: 2022-01-01 00:00:00, dtype: float64"
            ]
          },
          "execution_count": 93,
          "metadata": {},
          "output_type": "execute_result"
        }
      ],
      "source": [
        "df_22.iloc[0]"
      ]
    },
    {
      "cell_type": "markdown",
      "id": "4562852f-536a-40f3-bfb3-38c725e9fdbf",
      "metadata": {
        "tags": [],
        "id": "4562852f-536a-40f3-bfb3-38c725e9fdbf"
      },
      "source": [
        "#### 6) 전일 같은 시간 미세먼지 농도 변수 추가\n",
        "\n",
        "* 먼저 df_22, df_23에 month, day, hour 변수를 추가하세요.\n",
        "    * 예) dt.month, dt.day, dt.hour 사용 또는 datetimeindex에서는 df.index.month 등 사용 가능\n",
        "* 모델링에 유용한 변수로 전일 같은 시간(24시간 전) 미세먼지 농도 변수를 추가하세요.\n",
        "    * 시계열 데이터 처리를 위한 shift 연산을 참고하세요."
      ]
    },
    {
      "cell_type": "code",
      "execution_count": null,
      "id": "c095d7b0",
      "metadata": {
        "id": "c095d7b0"
      },
      "outputs": [],
      "source": [
        "# df_22, df_23의 index(time)를 month, day, hour 로 쪼개기 (year는 필요 없음).\n",
        "df_22['month'] = df_22.index.month\n",
        "df_22['day'] = df_22.index.day\n",
        "df_22['hour'] = df_22.index.hour\n",
        "df_23['month'] = df_23.index.month\n",
        "df_23['day'] = df_23.index.day\n",
        "df_23['hour'] = df_23.index.hour"
      ]
    },
    {
      "cell_type": "code",
      "execution_count": null,
      "id": "e4f3a3c9",
      "metadata": {
        "id": "e4f3a3c9",
        "outputId": "53c53d3a-5428-4a64-a74d-0b4220ef5fac"
      },
      "outputs": [
        {
          "data": {
            "text/html": [
              "<div>\n",
              "<style scoped>\n",
              "    .dataframe tbody tr th:only-of-type {\n",
              "        vertical-align: middle;\n",
              "    }\n",
              "\n",
              "    .dataframe tbody tr th {\n",
              "        vertical-align: top;\n",
              "    }\n",
              "\n",
              "    .dataframe thead th {\n",
              "        text-align: right;\n",
              "    }\n",
              "</style>\n",
              "<table border=\"1\" class=\"dataframe\">\n",
              "  <thead>\n",
              "    <tr style=\"text-align: right;\">\n",
              "      <th></th>\n",
              "      <th>SO2</th>\n",
              "      <th>CO</th>\n",
              "      <th>O3</th>\n",
              "      <th>NO2</th>\n",
              "      <th>PM10</th>\n",
              "      <th>PM25</th>\n",
              "      <th>기온(°C)</th>\n",
              "      <th>풍속(m/s)</th>\n",
              "      <th>풍향(16방위)</th>\n",
              "      <th>습도(%)</th>\n",
              "      <th>...</th>\n",
              "      <th>중하층운량(10분위)</th>\n",
              "      <th>시정(10m)</th>\n",
              "      <th>지면온도(°C)</th>\n",
              "      <th>5cm 지중온도(°C)</th>\n",
              "      <th>10cm 지중온도(°C)</th>\n",
              "      <th>20cm 지중온도(°C)</th>\n",
              "      <th>30cm 지중온도(°C)</th>\n",
              "      <th>month</th>\n",
              "      <th>day</th>\n",
              "      <th>hour</th>\n",
              "    </tr>\n",
              "    <tr>\n",
              "      <th>time</th>\n",
              "      <th></th>\n",
              "      <th></th>\n",
              "      <th></th>\n",
              "      <th></th>\n",
              "      <th></th>\n",
              "      <th></th>\n",
              "      <th></th>\n",
              "      <th></th>\n",
              "      <th></th>\n",
              "      <th></th>\n",
              "      <th></th>\n",
              "      <th></th>\n",
              "      <th></th>\n",
              "      <th></th>\n",
              "      <th></th>\n",
              "      <th></th>\n",
              "      <th></th>\n",
              "      <th></th>\n",
              "      <th></th>\n",
              "      <th></th>\n",
              "      <th></th>\n",
              "    </tr>\n",
              "  </thead>\n",
              "  <tbody>\n",
              "    <tr>\n",
              "      <th>2022-01-01 00:00:00</th>\n",
              "      <td>0.003</td>\n",
              "      <td>0.4</td>\n",
              "      <td>0.026</td>\n",
              "      <td>0.016</td>\n",
              "      <td>23.0</td>\n",
              "      <td>12.0</td>\n",
              "      <td>-8.5</td>\n",
              "      <td>1.9</td>\n",
              "      <td>320</td>\n",
              "      <td>41</td>\n",
              "      <td>...</td>\n",
              "      <td>0</td>\n",
              "      <td>2000</td>\n",
              "      <td>-7.0</td>\n",
              "      <td>-1.0</td>\n",
              "      <td>-1.0</td>\n",
              "      <td>-0.2</td>\n",
              "      <td>1.0</td>\n",
              "      <td>1</td>\n",
              "      <td>1</td>\n",
              "      <td>0</td>\n",
              "    </tr>\n",
              "    <tr>\n",
              "      <th>2022-01-01 01:00:00</th>\n",
              "      <td>0.003</td>\n",
              "      <td>0.4</td>\n",
              "      <td>0.022</td>\n",
              "      <td>0.020</td>\n",
              "      <td>20.0</td>\n",
              "      <td>9.0</td>\n",
              "      <td>-9.2</td>\n",
              "      <td>1.8</td>\n",
              "      <td>270</td>\n",
              "      <td>42</td>\n",
              "      <td>...</td>\n",
              "      <td>0</td>\n",
              "      <td>2000</td>\n",
              "      <td>-7.2</td>\n",
              "      <td>-1.1</td>\n",
              "      <td>-1.1</td>\n",
              "      <td>-0.2</td>\n",
              "      <td>1.0</td>\n",
              "      <td>1</td>\n",
              "      <td>1</td>\n",
              "      <td>1</td>\n",
              "    </tr>\n",
              "    <tr>\n",
              "      <th>2022-01-01 02:00:00</th>\n",
              "      <td>0.003</td>\n",
              "      <td>0.5</td>\n",
              "      <td>0.014</td>\n",
              "      <td>0.028</td>\n",
              "      <td>20.0</td>\n",
              "      <td>9.0</td>\n",
              "      <td>-9.5</td>\n",
              "      <td>1.2</td>\n",
              "      <td>270</td>\n",
              "      <td>43</td>\n",
              "      <td>...</td>\n",
              "      <td>0</td>\n",
              "      <td>2000</td>\n",
              "      <td>-7.5</td>\n",
              "      <td>-1.3</td>\n",
              "      <td>-1.2</td>\n",
              "      <td>-0.2</td>\n",
              "      <td>1.0</td>\n",
              "      <td>1</td>\n",
              "      <td>1</td>\n",
              "      <td>2</td>\n",
              "    </tr>\n",
              "    <tr>\n",
              "      <th>2022-01-01 03:00:00</th>\n",
              "      <td>0.003</td>\n",
              "      <td>0.5</td>\n",
              "      <td>0.016</td>\n",
              "      <td>0.027</td>\n",
              "      <td>19.0</td>\n",
              "      <td>10.0</td>\n",
              "      <td>-9.3</td>\n",
              "      <td>1.4</td>\n",
              "      <td>290</td>\n",
              "      <td>46</td>\n",
              "      <td>...</td>\n",
              "      <td>0</td>\n",
              "      <td>2000</td>\n",
              "      <td>-7.6</td>\n",
              "      <td>-1.4</td>\n",
              "      <td>-1.2</td>\n",
              "      <td>-0.2</td>\n",
              "      <td>1.0</td>\n",
              "      <td>1</td>\n",
              "      <td>1</td>\n",
              "      <td>3</td>\n",
              "    </tr>\n",
              "    <tr>\n",
              "      <th>2022-01-01 04:00:00</th>\n",
              "      <td>0.003</td>\n",
              "      <td>0.5</td>\n",
              "      <td>0.005</td>\n",
              "      <td>0.040</td>\n",
              "      <td>24.0</td>\n",
              "      <td>11.0</td>\n",
              "      <td>-9.6</td>\n",
              "      <td>1.7</td>\n",
              "      <td>340</td>\n",
              "      <td>48</td>\n",
              "      <td>...</td>\n",
              "      <td>0</td>\n",
              "      <td>2000</td>\n",
              "      <td>-7.6</td>\n",
              "      <td>-1.4</td>\n",
              "      <td>-1.3</td>\n",
              "      <td>-0.3</td>\n",
              "      <td>1.0</td>\n",
              "      <td>1</td>\n",
              "      <td>1</td>\n",
              "      <td>4</td>\n",
              "    </tr>\n",
              "  </tbody>\n",
              "</table>\n",
              "<p>5 rows × 27 columns</p>\n",
              "</div>"
            ],
            "text/plain": [
              "                       SO2   CO     O3    NO2  PM10  PM25  기온(°C)  풍속(m/s)  \\\n",
              "time                                                                         \n",
              "2022-01-01 00:00:00  0.003  0.4  0.026  0.016  23.0  12.0    -8.5      1.9   \n",
              "2022-01-01 01:00:00  0.003  0.4  0.022  0.020  20.0   9.0    -9.2      1.8   \n",
              "2022-01-01 02:00:00  0.003  0.5  0.014  0.028  20.0   9.0    -9.5      1.2   \n",
              "2022-01-01 03:00:00  0.003  0.5  0.016  0.027  19.0  10.0    -9.3      1.4   \n",
              "2022-01-01 04:00:00  0.003  0.5  0.005  0.040  24.0  11.0    -9.6      1.7   \n",
              "\n",
              "                     풍향(16방위)  습도(%)  ...  중하층운량(10분위)  시정(10m)  지면온도(°C)  \\\n",
              "time                                  ...                                   \n",
              "2022-01-01 00:00:00       320     41  ...            0     2000      -7.0   \n",
              "2022-01-01 01:00:00       270     42  ...            0     2000      -7.2   \n",
              "2022-01-01 02:00:00       270     43  ...            0     2000      -7.5   \n",
              "2022-01-01 03:00:00       290     46  ...            0     2000      -7.6   \n",
              "2022-01-01 04:00:00       340     48  ...            0     2000      -7.6   \n",
              "\n",
              "                     5cm 지중온도(°C)  10cm 지중온도(°C)  20cm 지중온도(°C)  \\\n",
              "time                                                              \n",
              "2022-01-01 00:00:00          -1.0           -1.0           -0.2   \n",
              "2022-01-01 01:00:00          -1.1           -1.1           -0.2   \n",
              "2022-01-01 02:00:00          -1.3           -1.2           -0.2   \n",
              "2022-01-01 03:00:00          -1.4           -1.2           -0.2   \n",
              "2022-01-01 04:00:00          -1.4           -1.3           -0.3   \n",
              "\n",
              "                     30cm 지중온도(°C)  month  day  hour  \n",
              "time                                                  \n",
              "2022-01-01 00:00:00            1.0      1    1     0  \n",
              "2022-01-01 01:00:00            1.0      1    1     1  \n",
              "2022-01-01 02:00:00            1.0      1    1     2  \n",
              "2022-01-01 03:00:00            1.0      1    1     3  \n",
              "2022-01-01 04:00:00            1.0      1    1     4  \n",
              "\n",
              "[5 rows x 27 columns]"
            ]
          },
          "execution_count": 95,
          "metadata": {},
          "output_type": "execute_result"
        }
      ],
      "source": [
        "# 확인해보기\n",
        "df_22.head()"
      ]
    },
    {
      "cell_type": "code",
      "execution_count": null,
      "id": "4573f5f8",
      "metadata": {
        "id": "4573f5f8"
      },
      "outputs": [],
      "source": [
        "# df_22, df_23에 전일 같은 시간 미세먼지 농도 변수 추가\n",
        "# 전일 같은 시간은 24시간 전 입니다. (shift 함수 활용)\n",
        "df_22['Y_PM10'] = df_22['PM10'].shift(24)\n",
        "df_23['Y_PM10'] = df_23['PM10'].shift(24)\n",
        "\n",
        "df_22['Y_PM25'] = df_22['PM25'].shift(24)\n",
        "df_23['Y_PM25'] = df_23['PM25'].shift(24)"
      ]
    },
    {
      "cell_type": "code",
      "execution_count": null,
      "id": "fb22ca40",
      "metadata": {
        "id": "fb22ca40"
      },
      "outputs": [],
      "source": [
        "#확인해보기\n"
      ]
    },
    {
      "cell_type": "markdown",
      "id": "ff52b9e7-869c-41c9-8aea-817ec00d5200",
      "metadata": {
        "tags": [],
        "id": "ff52b9e7-869c-41c9-8aea-817ec00d5200"
      },
      "source": [
        "#### 7) t+1 시점의 미세먼지 농도 데이터 생성\n",
        "* t+1 시점은 1시간 후 입니다.\n",
        "* t+1 시점의 미세먼지 농도 변수(PM10_1)를 생성하세요.\n",
        "* t+1 시점의 미세먼지 농도는 머신러닝 모델을 통해 예측하려는 y값(target) 입니다."
      ]
    },
    {
      "cell_type": "code",
      "execution_count": null,
      "id": "7478c088-2cce-447c-ba72-4e471810f5ab",
      "metadata": {
        "tags": [],
        "id": "7478c088-2cce-447c-ba72-4e471810f5ab",
        "outputId": "7bee3286-123f-46e8-f2ed-e49d2ea24806"
      },
      "outputs": [
        {
          "data": {
            "text/plain": [
              "time\n",
              "2022-01-01 00:00:00    20.0\n",
              "2022-01-01 01:00:00    20.0\n",
              "2022-01-01 02:00:00    19.0\n",
              "2022-01-01 03:00:00    24.0\n",
              "2022-01-01 04:00:00    19.0\n",
              "                       ... \n",
              "2022-12-31 19:00:00    76.0\n",
              "2022-12-31 20:00:00    76.0\n",
              "2022-12-31 21:00:00    77.0\n",
              "2022-12-31 22:00:00    76.0\n",
              "2022-12-31 23:00:00     NaN\n",
              "Name: PM10, Length: 8760, dtype: float64"
            ]
          },
          "execution_count": 98,
          "metadata": {},
          "output_type": "execute_result"
        }
      ],
      "source": [
        "df_22['PM10'].shift(-1)"
      ]
    },
    {
      "cell_type": "code",
      "execution_count": null,
      "id": "b5003c89",
      "metadata": {
        "id": "b5003c89"
      },
      "outputs": [],
      "source": [
        "# df_22, df_23에 t+1 시점 변수(PM10_1) 추가\n",
        "# shift 함수 활용 해보기!\n",
        "df_22['PM10_1'] = df_22['PM10'].shift(-1)\n",
        "df_23['PM10_1'] = df_23['PM10'].shift(-1)"
      ]
    },
    {
      "cell_type": "code",
      "execution_count": null,
      "id": "14cb2489",
      "metadata": {
        "id": "14cb2489"
      },
      "outputs": [],
      "source": [
        "#확인해보기!\n"
      ]
    },
    {
      "cell_type": "code",
      "execution_count": null,
      "id": "b14b9b60",
      "metadata": {
        "id": "b14b9b60"
      },
      "outputs": [],
      "source": [
        "# 결측치가 있다면 처리하고 확인해보기!\n",
        "df_22.fillna(0, inplace=True)\n",
        "df_23.fillna(0, inplace=True)"
      ]
    },
    {
      "cell_type": "markdown",
      "id": "54279875-b095-4100-97b2-7fddd9488107",
      "metadata": {
        "tags": [],
        "id": "54279875-b095-4100-97b2-7fddd9488107"
      },
      "source": [
        "### (2) train, test 데이터 분리 및 저장"
      ]
    },
    {
      "cell_type": "markdown",
      "id": "dependent-motion",
      "metadata": {
        "id": "dependent-motion"
      },
      "source": [
        "* 22년도 데이터(df_22)를 train 데이터로 저장하세요. y 값을 제외하고 train_x로 저장한 후 y 값은 train_y로 저장하세요.\n",
        "* 23년도 데이터(df_23)를 test 데이터로 저장하세요. y 값을 제외하고 test_x로 저장한 후 y 값은 test_y로 저장하세요.\n",
        "* 각각의 데이터프레임을 csv 파일로 저장하세요. (train_x.csv / train_y.csv / test_x.csv / test_y.csv) (단, 인덱스 제외)\n",
        "* y값은 'PM10_1' 즉, t+1 시점의 미세먼지 농도입니다."
      ]
    },
    {
      "cell_type": "code",
      "execution_count": null,
      "id": "92652b6b",
      "metadata": {
        "id": "92652b6b"
      },
      "outputs": [],
      "source": [
        "# 아래에 필요한 코드를 작성하고 결과를 확인합니다.\n",
        "target = 'PM10_1'\n",
        "\n",
        "train_x = df_22.drop(target, axis=1)\n",
        "train_y = df_22[target]\n",
        "\n",
        "test_x = df_23.drop(target, axis=1)\n",
        "test_y = df_23[target]"
      ]
    },
    {
      "cell_type": "code",
      "execution_count": null,
      "id": "02ad0ed1",
      "metadata": {
        "id": "02ad0ed1"
      },
      "outputs": [],
      "source": [
        "# 각각의 데이터프레임을 csv 파일로 저장 (train_x.csv / train_y.csv / test_x.csv / test_y.csv)\n",
        "\n",
        "train_x.to_csv('./train_x.csv', index=False)\n",
        "train_y.to_csv('./train_y.csv', index=False)\n",
        "test_x.to_csv('./test_x.csv', index=False)\n",
        "test_y.to_csv('./test_y.csv', index=False)"
      ]
    },
    {
      "cell_type": "markdown",
      "id": "65165f4c",
      "metadata": {
        "id": "65165f4c"
      },
      "source": [
        "# 고생하셨습니다👍👍"
      ]
    }
  ],
  "metadata": {
    "kernelspec": {
      "display_name": "Python 3 (ipykernel)",
      "language": "python",
      "name": "python3"
    },
    "language_info": {
      "codemirror_mode": {
        "name": "ipython",
        "version": 3
      },
      "file_extension": ".py",
      "mimetype": "text/x-python",
      "name": "python",
      "nbconvert_exporter": "python",
      "pygments_lexer": "ipython3",
      "version": "3.11.5"
    },
    "vscode": {
      "interpreter": {
        "hash": "f08154012ddadd8e950e6e9e035c7a7b32c136e7647e9b7c77e02eb723a8bedb"
      }
    },
    "colab": {
      "provenance": []
    }
  },
  "nbformat": 4,
  "nbformat_minor": 5
}